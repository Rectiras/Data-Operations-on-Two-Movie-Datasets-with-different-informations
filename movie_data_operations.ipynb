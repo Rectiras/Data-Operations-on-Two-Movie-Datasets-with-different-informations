{
 "cells": [
  {
   "cell_type": "code",
   "execution_count": 45,
   "metadata": {},
   "outputs": [],
   "source": [
    "#Importing pandas library to work with dataframes\n",
    "import pandas as pd"
   ]
  },
  {
   "cell_type": "code",
   "execution_count": 46,
   "metadata": {},
   "outputs": [],
   "source": [
    "#Reading two CSV files, credits_data and titles_data using pandas read_csv() function\n",
    "credits_data = pd.read_csv(\"disney_credits.csv\")\n",
    "titles_data = pd.read_csv(\"disney_titles.csv\")\n",
    "\n",
    "#Merging the two datasets using merge() function and storing in joined_data variable. Sorting the data based on id.\n",
    "joined_data = pd.merge(credits_data, titles_data, on=\"id\", how=\"inner\")\n",
    "joined_data = joined_data.sort_values(by=\"id\", ignore_index=True)"
   ]
  },
  {
   "cell_type": "code",
   "execution_count": 47,
   "metadata": {},
   "outputs": [
    {
     "data": {
      "text/html": [
       "<div>\n",
       "<style scoped>\n",
       "    .dataframe tbody tr th:only-of-type {\n",
       "        vertical-align: middle;\n",
       "    }\n",
       "\n",
       "    .dataframe tbody tr th {\n",
       "        vertical-align: top;\n",
       "    }\n",
       "\n",
       "    .dataframe thead th {\n",
       "        text-align: right;\n",
       "    }\n",
       "</style>\n",
       "<table border=\"1\" class=\"dataframe\">\n",
       "  <thead>\n",
       "    <tr style=\"text-align: right;\">\n",
       "      <th></th>\n",
       "      <th>person_id</th>\n",
       "      <th>id</th>\n",
       "      <th>name</th>\n",
       "      <th>character</th>\n",
       "      <th>role</th>\n",
       "    </tr>\n",
       "  </thead>\n",
       "  <tbody>\n",
       "    <tr>\n",
       "      <th>0</th>\n",
       "      <td>35549</td>\n",
       "      <td>tm89464</td>\n",
       "      <td>Maureen O'Hara</td>\n",
       "      <td>Doris Walker</td>\n",
       "      <td>ACTOR</td>\n",
       "    </tr>\n",
       "    <tr>\n",
       "      <th>1</th>\n",
       "      <td>57832</td>\n",
       "      <td>tm89464</td>\n",
       "      <td>John Payne</td>\n",
       "      <td>Fred Gailey</td>\n",
       "      <td>ACTOR</td>\n",
       "    </tr>\n",
       "    <tr>\n",
       "      <th>2</th>\n",
       "      <td>57833</td>\n",
       "      <td>tm89464</td>\n",
       "      <td>Edmund Gwenn</td>\n",
       "      <td>Kris Kringle</td>\n",
       "      <td>ACTOR</td>\n",
       "    </tr>\n",
       "    <tr>\n",
       "      <th>3</th>\n",
       "      <td>25096</td>\n",
       "      <td>tm89464</td>\n",
       "      <td>Natalie Wood</td>\n",
       "      <td>Susan Walker</td>\n",
       "      <td>ACTOR</td>\n",
       "    </tr>\n",
       "    <tr>\n",
       "      <th>4</th>\n",
       "      <td>27185</td>\n",
       "      <td>tm89464</td>\n",
       "      <td>Porter Hall</td>\n",
       "      <td>Granville Sawyer</td>\n",
       "      <td>ACTOR</td>\n",
       "    </tr>\n",
       "    <tr>\n",
       "      <th>...</th>\n",
       "      <td>...</td>\n",
       "      <td>...</td>\n",
       "      <td>...</td>\n",
       "      <td>...</td>\n",
       "      <td>...</td>\n",
       "    </tr>\n",
       "    <tr>\n",
       "      <th>30684</th>\n",
       "      <td>1803879</td>\n",
       "      <td>ts350456</td>\n",
       "      <td>Pyper Braun</td>\n",
       "      <td>Bitsy (voice)</td>\n",
       "      <td>ACTOR</td>\n",
       "    </tr>\n",
       "    <tr>\n",
       "      <th>30685</th>\n",
       "      <td>2135487</td>\n",
       "      <td>ts305794</td>\n",
       "      <td>Dwayne Fields</td>\n",
       "      <td>Self</td>\n",
       "      <td>ACTOR</td>\n",
       "    </tr>\n",
       "    <tr>\n",
       "      <th>30686</th>\n",
       "      <td>1331687</td>\n",
       "      <td>tm1075680</td>\n",
       "      <td>Brian Cade</td>\n",
       "      <td>Narrator (voice)</td>\n",
       "      <td>ACTOR</td>\n",
       "    </tr>\n",
       "    <tr>\n",
       "      <th>30687</th>\n",
       "      <td>412947</td>\n",
       "      <td>tm1075680</td>\n",
       "      <td>Kevin Bachar</td>\n",
       "      <td>NaN</td>\n",
       "      <td>DIRECTOR</td>\n",
       "    </tr>\n",
       "    <tr>\n",
       "      <th>30688</th>\n",
       "      <td>363792</td>\n",
       "      <td>tm1227149</td>\n",
       "      <td>Adam Geiger</td>\n",
       "      <td>NaN</td>\n",
       "      <td>DIRECTOR</td>\n",
       "    </tr>\n",
       "  </tbody>\n",
       "</table>\n",
       "<p>30689 rows × 5 columns</p>\n",
       "</div>"
      ],
      "text/plain": [
       "       person_id         id            name         character      role\n",
       "0          35549    tm89464  Maureen O'Hara      Doris Walker     ACTOR\n",
       "1          57832    tm89464      John Payne       Fred Gailey     ACTOR\n",
       "2          57833    tm89464    Edmund Gwenn      Kris Kringle     ACTOR\n",
       "3          25096    tm89464    Natalie Wood      Susan Walker     ACTOR\n",
       "4          27185    tm89464     Porter Hall  Granville Sawyer     ACTOR\n",
       "...          ...        ...             ...               ...       ...\n",
       "30684    1803879   ts350456     Pyper Braun     Bitsy (voice)     ACTOR\n",
       "30685    2135487   ts305794   Dwayne Fields              Self     ACTOR\n",
       "30686    1331687  tm1075680      Brian Cade  Narrator (voice)     ACTOR\n",
       "30687     412947  tm1075680    Kevin Bachar               NaN  DIRECTOR\n",
       "30688     363792  tm1227149     Adam Geiger               NaN  DIRECTOR\n",
       "\n",
       "[30689 rows x 5 columns]"
      ]
     },
     "execution_count": 47,
     "metadata": {},
     "output_type": "execute_result"
    }
   ],
   "source": [
    "credits_data"
   ]
  },
  {
   "cell_type": "code",
   "execution_count": 48,
   "metadata": {},
   "outputs": [
    {
     "data": {
      "text/html": [
       "<div>\n",
       "<style scoped>\n",
       "    .dataframe tbody tr th:only-of-type {\n",
       "        vertical-align: middle;\n",
       "    }\n",
       "\n",
       "    .dataframe tbody tr th {\n",
       "        vertical-align: top;\n",
       "    }\n",
       "\n",
       "    .dataframe thead th {\n",
       "        text-align: right;\n",
       "    }\n",
       "</style>\n",
       "<table border=\"1\" class=\"dataframe\">\n",
       "  <thead>\n",
       "    <tr style=\"text-align: right;\">\n",
       "      <th></th>\n",
       "      <th>id</th>\n",
       "      <th>title</th>\n",
       "      <th>type</th>\n",
       "      <th>description</th>\n",
       "      <th>release_year</th>\n",
       "      <th>age_certification</th>\n",
       "      <th>runtime</th>\n",
       "      <th>genres</th>\n",
       "      <th>production_countries</th>\n",
       "      <th>seasons</th>\n",
       "      <th>imdb_id</th>\n",
       "      <th>imdb_score</th>\n",
       "      <th>imdb_votes</th>\n",
       "      <th>tmdb_popularity</th>\n",
       "      <th>tmdb_score</th>\n",
       "    </tr>\n",
       "  </thead>\n",
       "  <tbody>\n",
       "    <tr>\n",
       "      <th>0</th>\n",
       "      <td>tm89464</td>\n",
       "      <td>Miracle on 34th Street</td>\n",
       "      <td>MOVIE</td>\n",
       "      <td>Kris Kringle, seemingly the embodiment of Sant...</td>\n",
       "      <td>1947</td>\n",
       "      <td>G</td>\n",
       "      <td>96</td>\n",
       "      <td>['family', 'comedy', 'drama']</td>\n",
       "      <td>['US']</td>\n",
       "      <td>NaN</td>\n",
       "      <td>tt0039628</td>\n",
       "      <td>7.9</td>\n",
       "      <td>50969.0</td>\n",
       "      <td>23.515</td>\n",
       "      <td>7.388</td>\n",
       "    </tr>\n",
       "    <tr>\n",
       "      <th>1</th>\n",
       "      <td>tm61729</td>\n",
       "      <td>The Adventures of Ichabod and Mr. Toad</td>\n",
       "      <td>MOVIE</td>\n",
       "      <td>The Wind in the Willows: Concise version of Ke...</td>\n",
       "      <td>1950</td>\n",
       "      <td>G</td>\n",
       "      <td>68</td>\n",
       "      <td>['horror', 'fantasy', 'animation', 'family', '...</td>\n",
       "      <td>['US']</td>\n",
       "      <td>NaN</td>\n",
       "      <td>tt0041094</td>\n",
       "      <td>6.9</td>\n",
       "      <td>16502.0</td>\n",
       "      <td>16.194</td>\n",
       "      <td>6.500</td>\n",
       "    </tr>\n",
       "    <tr>\n",
       "      <th>2</th>\n",
       "      <td>tm61052</td>\n",
       "      <td>Cinderella</td>\n",
       "      <td>MOVIE</td>\n",
       "      <td>Cinderella has faith her dreams of a better li...</td>\n",
       "      <td>1950</td>\n",
       "      <td>G</td>\n",
       "      <td>74</td>\n",
       "      <td>['fantasy', 'animation', 'family', 'romance']</td>\n",
       "      <td>['US']</td>\n",
       "      <td>NaN</td>\n",
       "      <td>tt0042332</td>\n",
       "      <td>7.3</td>\n",
       "      <td>164292.0</td>\n",
       "      <td>93.547</td>\n",
       "      <td>7.035</td>\n",
       "    </tr>\n",
       "    <tr>\n",
       "      <th>3</th>\n",
       "      <td>tm87946</td>\n",
       "      <td>Dumbo</td>\n",
       "      <td>MOVIE</td>\n",
       "      <td>Dumbo is a baby elephant born with over-sized ...</td>\n",
       "      <td>1941</td>\n",
       "      <td>G</td>\n",
       "      <td>64</td>\n",
       "      <td>['animation', 'drama', 'family', 'fantasy']</td>\n",
       "      <td>['US']</td>\n",
       "      <td>NaN</td>\n",
       "      <td>tt0033563</td>\n",
       "      <td>7.2</td>\n",
       "      <td>135045.0</td>\n",
       "      <td>54.265</td>\n",
       "      <td>6.999</td>\n",
       "    </tr>\n",
       "    <tr>\n",
       "      <th>4</th>\n",
       "      <td>tm74391</td>\n",
       "      <td>Fantasia</td>\n",
       "      <td>MOVIE</td>\n",
       "      <td>Walt Disney's timeless masterpiece is an extra...</td>\n",
       "      <td>1941</td>\n",
       "      <td>G</td>\n",
       "      <td>119</td>\n",
       "      <td>['animation', 'family', 'fantasy', 'music']</td>\n",
       "      <td>['US']</td>\n",
       "      <td>NaN</td>\n",
       "      <td>tt0032455</td>\n",
       "      <td>7.7</td>\n",
       "      <td>98764.0</td>\n",
       "      <td>43.609</td>\n",
       "      <td>7.382</td>\n",
       "    </tr>\n",
       "    <tr>\n",
       "      <th>...</th>\n",
       "      <td>...</td>\n",
       "      <td>...</td>\n",
       "      <td>...</td>\n",
       "      <td>...</td>\n",
       "      <td>...</td>\n",
       "      <td>...</td>\n",
       "      <td>...</td>\n",
       "      <td>...</td>\n",
       "      <td>...</td>\n",
       "      <td>...</td>\n",
       "      <td>...</td>\n",
       "      <td>...</td>\n",
       "      <td>...</td>\n",
       "      <td>...</td>\n",
       "      <td>...</td>\n",
       "    </tr>\n",
       "    <tr>\n",
       "      <th>1849</th>\n",
       "      <td>ts305794</td>\n",
       "      <td>7 Toughest Days</td>\n",
       "      <td>SHOW</td>\n",
       "      <td>Dwayne Fields grew up around violent gangs and...</td>\n",
       "      <td>2023</td>\n",
       "      <td>TV-PG</td>\n",
       "      <td>49</td>\n",
       "      <td>['reality', 'documentation', 'action']</td>\n",
       "      <td>['US']</td>\n",
       "      <td>1.0</td>\n",
       "      <td>tt15257974</td>\n",
       "      <td>7.8</td>\n",
       "      <td>23.0</td>\n",
       "      <td>3.733</td>\n",
       "      <td>2.000</td>\n",
       "    </tr>\n",
       "    <tr>\n",
       "      <th>1850</th>\n",
       "      <td>tm1308301</td>\n",
       "      <td>Disney100 | Special Look</td>\n",
       "      <td>MOVIE</td>\n",
       "      <td>In 2023, Disney’s 100-year milestone provides ...</td>\n",
       "      <td>2023</td>\n",
       "      <td>NaN</td>\n",
       "      <td>1</td>\n",
       "      <td>[]</td>\n",
       "      <td>[]</td>\n",
       "      <td>NaN</td>\n",
       "      <td>NaN</td>\n",
       "      <td>NaN</td>\n",
       "      <td>NaN</td>\n",
       "      <td>1.960</td>\n",
       "      <td>NaN</td>\n",
       "    </tr>\n",
       "    <tr>\n",
       "      <th>1851</th>\n",
       "      <td>tm1075680</td>\n",
       "      <td>World's Most Dangerous Shark?</td>\n",
       "      <td>MOVIE</td>\n",
       "      <td>The Great White has a scary reputation, but Ex...</td>\n",
       "      <td>2023</td>\n",
       "      <td>PG-13</td>\n",
       "      <td>44</td>\n",
       "      <td>['documentation']</td>\n",
       "      <td>[]</td>\n",
       "      <td>NaN</td>\n",
       "      <td>NaN</td>\n",
       "      <td>NaN</td>\n",
       "      <td>NaN</td>\n",
       "      <td>1.623</td>\n",
       "      <td>NaN</td>\n",
       "    </tr>\n",
       "    <tr>\n",
       "      <th>1852</th>\n",
       "      <td>tm1227149</td>\n",
       "      <td>Baby Sharks</td>\n",
       "      <td>MOVIE</td>\n",
       "      <td>Even the biggest, fastest and fiercest predato...</td>\n",
       "      <td>2023</td>\n",
       "      <td>PG</td>\n",
       "      <td>45</td>\n",
       "      <td>['documentation']</td>\n",
       "      <td>['US']</td>\n",
       "      <td>NaN</td>\n",
       "      <td>tt21271008</td>\n",
       "      <td>6.3</td>\n",
       "      <td>19.0</td>\n",
       "      <td>1.501</td>\n",
       "      <td>2.000</td>\n",
       "    </tr>\n",
       "    <tr>\n",
       "      <th>1853</th>\n",
       "      <td>tm1306624</td>\n",
       "      <td>Inside Airport Lost &amp; Found</td>\n",
       "      <td>MOVIE</td>\n",
       "      <td>NaN</td>\n",
       "      <td>2023</td>\n",
       "      <td>PG</td>\n",
       "      <td>44</td>\n",
       "      <td>[]</td>\n",
       "      <td>[]</td>\n",
       "      <td>NaN</td>\n",
       "      <td>NaN</td>\n",
       "      <td>NaN</td>\n",
       "      <td>NaN</td>\n",
       "      <td>0.600</td>\n",
       "      <td>NaN</td>\n",
       "    </tr>\n",
       "  </tbody>\n",
       "</table>\n",
       "<p>1854 rows × 15 columns</p>\n",
       "</div>"
      ],
      "text/plain": [
       "             id                                   title   type  \\\n",
       "0       tm89464                  Miracle on 34th Street  MOVIE   \n",
       "1       tm61729  The Adventures of Ichabod and Mr. Toad  MOVIE   \n",
       "2       tm61052                              Cinderella  MOVIE   \n",
       "3       tm87946                                   Dumbo  MOVIE   \n",
       "4       tm74391                                Fantasia  MOVIE   \n",
       "...         ...                                     ...    ...   \n",
       "1849   ts305794                         7 Toughest Days   SHOW   \n",
       "1850  tm1308301                Disney100 | Special Look  MOVIE   \n",
       "1851  tm1075680           World's Most Dangerous Shark?  MOVIE   \n",
       "1852  tm1227149                             Baby Sharks  MOVIE   \n",
       "1853  tm1306624             Inside Airport Lost & Found  MOVIE   \n",
       "\n",
       "                                            description  release_year  \\\n",
       "0     Kris Kringle, seemingly the embodiment of Sant...          1947   \n",
       "1     The Wind in the Willows: Concise version of Ke...          1950   \n",
       "2     Cinderella has faith her dreams of a better li...          1950   \n",
       "3     Dumbo is a baby elephant born with over-sized ...          1941   \n",
       "4     Walt Disney's timeless masterpiece is an extra...          1941   \n",
       "...                                                 ...           ...   \n",
       "1849  Dwayne Fields grew up around violent gangs and...          2023   \n",
       "1850  In 2023, Disney’s 100-year milestone provides ...          2023   \n",
       "1851  The Great White has a scary reputation, but Ex...          2023   \n",
       "1852  Even the biggest, fastest and fiercest predato...          2023   \n",
       "1853                                                NaN          2023   \n",
       "\n",
       "     age_certification  runtime  \\\n",
       "0                    G       96   \n",
       "1                    G       68   \n",
       "2                    G       74   \n",
       "3                    G       64   \n",
       "4                    G      119   \n",
       "...                ...      ...   \n",
       "1849             TV-PG       49   \n",
       "1850               NaN        1   \n",
       "1851             PG-13       44   \n",
       "1852                PG       45   \n",
       "1853                PG       44   \n",
       "\n",
       "                                                 genres production_countries  \\\n",
       "0                         ['family', 'comedy', 'drama']               ['US']   \n",
       "1     ['horror', 'fantasy', 'animation', 'family', '...               ['US']   \n",
       "2         ['fantasy', 'animation', 'family', 'romance']               ['US']   \n",
       "3           ['animation', 'drama', 'family', 'fantasy']               ['US']   \n",
       "4           ['animation', 'family', 'fantasy', 'music']               ['US']   \n",
       "...                                                 ...                  ...   \n",
       "1849             ['reality', 'documentation', 'action']               ['US']   \n",
       "1850                                                 []                   []   \n",
       "1851                                  ['documentation']                   []   \n",
       "1852                                  ['documentation']               ['US']   \n",
       "1853                                                 []                   []   \n",
       "\n",
       "      seasons     imdb_id  imdb_score  imdb_votes  tmdb_popularity  tmdb_score  \n",
       "0         NaN   tt0039628         7.9     50969.0           23.515       7.388  \n",
       "1         NaN   tt0041094         6.9     16502.0           16.194       6.500  \n",
       "2         NaN   tt0042332         7.3    164292.0           93.547       7.035  \n",
       "3         NaN   tt0033563         7.2    135045.0           54.265       6.999  \n",
       "4         NaN   tt0032455         7.7     98764.0           43.609       7.382  \n",
       "...       ...         ...         ...         ...              ...         ...  \n",
       "1849      1.0  tt15257974         7.8        23.0            3.733       2.000  \n",
       "1850      NaN         NaN         NaN         NaN            1.960         NaN  \n",
       "1851      NaN         NaN         NaN         NaN            1.623         NaN  \n",
       "1852      NaN  tt21271008         6.3        19.0            1.501       2.000  \n",
       "1853      NaN         NaN         NaN         NaN            0.600         NaN  \n",
       "\n",
       "[1854 rows x 15 columns]"
      ]
     },
     "execution_count": 48,
     "metadata": {},
     "output_type": "execute_result"
    }
   ],
   "source": [
    "titles_data"
   ]
  },
  {
   "cell_type": "code",
   "execution_count": 49,
   "metadata": {},
   "outputs": [
    {
     "data": {
      "text/html": [
       "<div>\n",
       "<style scoped>\n",
       "    .dataframe tbody tr th:only-of-type {\n",
       "        vertical-align: middle;\n",
       "    }\n",
       "\n",
       "    .dataframe tbody tr th {\n",
       "        vertical-align: top;\n",
       "    }\n",
       "\n",
       "    .dataframe thead th {\n",
       "        text-align: right;\n",
       "    }\n",
       "</style>\n",
       "<table border=\"1\" class=\"dataframe\">\n",
       "  <thead>\n",
       "    <tr style=\"text-align: right;\">\n",
       "      <th></th>\n",
       "      <th>person_id</th>\n",
       "      <th>id</th>\n",
       "      <th>name</th>\n",
       "      <th>character</th>\n",
       "      <th>role</th>\n",
       "      <th>title</th>\n",
       "      <th>type</th>\n",
       "      <th>description</th>\n",
       "      <th>release_year</th>\n",
       "      <th>age_certification</th>\n",
       "      <th>runtime</th>\n",
       "      <th>genres</th>\n",
       "      <th>production_countries</th>\n",
       "      <th>seasons</th>\n",
       "      <th>imdb_id</th>\n",
       "      <th>imdb_score</th>\n",
       "      <th>imdb_votes</th>\n",
       "      <th>tmdb_popularity</th>\n",
       "      <th>tmdb_score</th>\n",
       "    </tr>\n",
       "  </thead>\n",
       "  <tbody>\n",
       "    <tr>\n",
       "      <th>0</th>\n",
       "      <td>2047</td>\n",
       "      <td>tm1</td>\n",
       "      <td>Robert A. Denham</td>\n",
       "      <td>Hrchek Kal Fas (uncredited)</td>\n",
       "      <td>ACTOR</td>\n",
       "      <td>Star Wars</td>\n",
       "      <td>MOVIE</td>\n",
       "      <td>Princess Leia is captured and held hostage by ...</td>\n",
       "      <td>1977</td>\n",
       "      <td>PG</td>\n",
       "      <td>121</td>\n",
       "      <td>['action', 'scifi', 'fantasy']</td>\n",
       "      <td>['US']</td>\n",
       "      <td>NaN</td>\n",
       "      <td>tt0076759</td>\n",
       "      <td>8.6</td>\n",
       "      <td>1378285.0</td>\n",
       "      <td>81.289</td>\n",
       "      <td>8.207</td>\n",
       "    </tr>\n",
       "    <tr>\n",
       "      <th>1</th>\n",
       "      <td>2080</td>\n",
       "      <td>tm1</td>\n",
       "      <td>Al Lampert</td>\n",
       "      <td>Daine Jir (uncredited)</td>\n",
       "      <td>ACTOR</td>\n",
       "      <td>Star Wars</td>\n",
       "      <td>MOVIE</td>\n",
       "      <td>Princess Leia is captured and held hostage by ...</td>\n",
       "      <td>1977</td>\n",
       "      <td>PG</td>\n",
       "      <td>121</td>\n",
       "      <td>['action', 'scifi', 'fantasy']</td>\n",
       "      <td>['US']</td>\n",
       "      <td>NaN</td>\n",
       "      <td>tt0076759</td>\n",
       "      <td>8.6</td>\n",
       "      <td>1378285.0</td>\n",
       "      <td>81.289</td>\n",
       "      <td>8.207</td>\n",
       "    </tr>\n",
       "    <tr>\n",
       "      <th>2</th>\n",
       "      <td>2079</td>\n",
       "      <td>tm1</td>\n",
       "      <td>Tiffany Hillkurtz</td>\n",
       "      <td>Jawa (uncredited)</td>\n",
       "      <td>ACTOR</td>\n",
       "      <td>Star Wars</td>\n",
       "      <td>MOVIE</td>\n",
       "      <td>Princess Leia is captured and held hostage by ...</td>\n",
       "      <td>1977</td>\n",
       "      <td>PG</td>\n",
       "      <td>121</td>\n",
       "      <td>['action', 'scifi', 'fantasy']</td>\n",
       "      <td>['US']</td>\n",
       "      <td>NaN</td>\n",
       "      <td>tt0076759</td>\n",
       "      <td>8.6</td>\n",
       "      <td>1378285.0</td>\n",
       "      <td>81.289</td>\n",
       "      <td>8.207</td>\n",
       "    </tr>\n",
       "    <tr>\n",
       "      <th>3</th>\n",
       "      <td>2078</td>\n",
       "      <td>tm1</td>\n",
       "      <td>Melissa Kurtz</td>\n",
       "      <td>Jawa (uncredited)</td>\n",
       "      <td>ACTOR</td>\n",
       "      <td>Star Wars</td>\n",
       "      <td>MOVIE</td>\n",
       "      <td>Princess Leia is captured and held hostage by ...</td>\n",
       "      <td>1977</td>\n",
       "      <td>PG</td>\n",
       "      <td>121</td>\n",
       "      <td>['action', 'scifi', 'fantasy']</td>\n",
       "      <td>['US']</td>\n",
       "      <td>NaN</td>\n",
       "      <td>tt0076759</td>\n",
       "      <td>8.6</td>\n",
       "      <td>1378285.0</td>\n",
       "      <td>81.289</td>\n",
       "      <td>8.207</td>\n",
       "    </tr>\n",
       "    <tr>\n",
       "      <th>4</th>\n",
       "      <td>2075</td>\n",
       "      <td>tm1</td>\n",
       "      <td>Colin Michael Kitchens</td>\n",
       "      <td>Stormtrooper (voice) (uncredited)</td>\n",
       "      <td>ACTOR</td>\n",
       "      <td>Star Wars</td>\n",
       "      <td>MOVIE</td>\n",
       "      <td>Princess Leia is captured and held hostage by ...</td>\n",
       "      <td>1977</td>\n",
       "      <td>PG</td>\n",
       "      <td>121</td>\n",
       "      <td>['action', 'scifi', 'fantasy']</td>\n",
       "      <td>['US']</td>\n",
       "      <td>NaN</td>\n",
       "      <td>tt0076759</td>\n",
       "      <td>8.6</td>\n",
       "      <td>1378285.0</td>\n",
       "      <td>81.289</td>\n",
       "      <td>8.207</td>\n",
       "    </tr>\n",
       "    <tr>\n",
       "      <th>...</th>\n",
       "      <td>...</td>\n",
       "      <td>...</td>\n",
       "      <td>...</td>\n",
       "      <td>...</td>\n",
       "      <td>...</td>\n",
       "      <td>...</td>\n",
       "      <td>...</td>\n",
       "      <td>...</td>\n",
       "      <td>...</td>\n",
       "      <td>...</td>\n",
       "      <td>...</td>\n",
       "      <td>...</td>\n",
       "      <td>...</td>\n",
       "      <td>...</td>\n",
       "      <td>...</td>\n",
       "      <td>...</td>\n",
       "      <td>...</td>\n",
       "      <td>...</td>\n",
       "      <td>...</td>\n",
       "    </tr>\n",
       "    <tr>\n",
       "      <th>30684</th>\n",
       "      <td>171886</td>\n",
       "      <td>ts9805</td>\n",
       "      <td>John Robert Hoffman</td>\n",
       "      <td>Mad Hatter</td>\n",
       "      <td>ACTOR</td>\n",
       "      <td>Adventures in Wonderland</td>\n",
       "      <td>SHOW</td>\n",
       "      <td>Adventures in Wonderland is a live-action musi...</td>\n",
       "      <td>1992</td>\n",
       "      <td>TV-Y</td>\n",
       "      <td>28</td>\n",
       "      <td>['comedy', 'family', 'fantasy']</td>\n",
       "      <td>['US']</td>\n",
       "      <td>5.0</td>\n",
       "      <td>tt0300712</td>\n",
       "      <td>7.9</td>\n",
       "      <td>769.0</td>\n",
       "      <td>5.967</td>\n",
       "      <td>8.500</td>\n",
       "    </tr>\n",
       "    <tr>\n",
       "      <th>30685</th>\n",
       "      <td>6335</td>\n",
       "      <td>ts9805</td>\n",
       "      <td>Teri Garr</td>\n",
       "      <td>Duchess</td>\n",
       "      <td>ACTOR</td>\n",
       "      <td>Adventures in Wonderland</td>\n",
       "      <td>SHOW</td>\n",
       "      <td>Adventures in Wonderland is a live-action musi...</td>\n",
       "      <td>1992</td>\n",
       "      <td>TV-Y</td>\n",
       "      <td>28</td>\n",
       "      <td>['comedy', 'family', 'fantasy']</td>\n",
       "      <td>['US']</td>\n",
       "      <td>5.0</td>\n",
       "      <td>tt0300712</td>\n",
       "      <td>7.9</td>\n",
       "      <td>769.0</td>\n",
       "      <td>5.967</td>\n",
       "      <td>8.500</td>\n",
       "    </tr>\n",
       "    <tr>\n",
       "      <th>30686</th>\n",
       "      <td>36635</td>\n",
       "      <td>ts9805</td>\n",
       "      <td>Elisabeth Harnois</td>\n",
       "      <td>Alice</td>\n",
       "      <td>ACTOR</td>\n",
       "      <td>Adventures in Wonderland</td>\n",
       "      <td>SHOW</td>\n",
       "      <td>Adventures in Wonderland is a live-action musi...</td>\n",
       "      <td>1992</td>\n",
       "      <td>TV-Y</td>\n",
       "      <td>28</td>\n",
       "      <td>['comedy', 'family', 'fantasy']</td>\n",
       "      <td>['US']</td>\n",
       "      <td>5.0</td>\n",
       "      <td>tt0300712</td>\n",
       "      <td>7.9</td>\n",
       "      <td>769.0</td>\n",
       "      <td>5.967</td>\n",
       "      <td>8.500</td>\n",
       "    </tr>\n",
       "    <tr>\n",
       "      <th>30687</th>\n",
       "      <td>396486</td>\n",
       "      <td>ts9805</td>\n",
       "      <td>Richard Kuhlman</td>\n",
       "      <td>Cheshire Cat</td>\n",
       "      <td>ACTOR</td>\n",
       "      <td>Adventures in Wonderland</td>\n",
       "      <td>SHOW</td>\n",
       "      <td>Adventures in Wonderland is a live-action musi...</td>\n",
       "      <td>1992</td>\n",
       "      <td>TV-Y</td>\n",
       "      <td>28</td>\n",
       "      <td>['comedy', 'family', 'fantasy']</td>\n",
       "      <td>['US']</td>\n",
       "      <td>5.0</td>\n",
       "      <td>tt0300712</td>\n",
       "      <td>7.9</td>\n",
       "      <td>769.0</td>\n",
       "      <td>5.967</td>\n",
       "      <td>8.500</td>\n",
       "    </tr>\n",
       "    <tr>\n",
       "      <th>30688</th>\n",
       "      <td>1277899</td>\n",
       "      <td>ts9805</td>\n",
       "      <td>Robert Barry Fleming</td>\n",
       "      <td>Tweedle Dum</td>\n",
       "      <td>ACTOR</td>\n",
       "      <td>Adventures in Wonderland</td>\n",
       "      <td>SHOW</td>\n",
       "      <td>Adventures in Wonderland is a live-action musi...</td>\n",
       "      <td>1992</td>\n",
       "      <td>TV-Y</td>\n",
       "      <td>28</td>\n",
       "      <td>['comedy', 'family', 'fantasy']</td>\n",
       "      <td>['US']</td>\n",
       "      <td>5.0</td>\n",
       "      <td>tt0300712</td>\n",
       "      <td>7.9</td>\n",
       "      <td>769.0</td>\n",
       "      <td>5.967</td>\n",
       "      <td>8.500</td>\n",
       "    </tr>\n",
       "  </tbody>\n",
       "</table>\n",
       "<p>30689 rows × 19 columns</p>\n",
       "</div>"
      ],
      "text/plain": [
       "       person_id      id                    name  \\\n",
       "0           2047     tm1        Robert A. Denham   \n",
       "1           2080     tm1              Al Lampert   \n",
       "2           2079     tm1       Tiffany Hillkurtz   \n",
       "3           2078     tm1           Melissa Kurtz   \n",
       "4           2075     tm1  Colin Michael Kitchens   \n",
       "...          ...     ...                     ...   \n",
       "30684     171886  ts9805     John Robert Hoffman   \n",
       "30685       6335  ts9805               Teri Garr   \n",
       "30686      36635  ts9805       Elisabeth Harnois   \n",
       "30687     396486  ts9805         Richard Kuhlman   \n",
       "30688    1277899  ts9805    Robert Barry Fleming   \n",
       "\n",
       "                               character   role                     title  \\\n",
       "0            Hrchek Kal Fas (uncredited)  ACTOR                 Star Wars   \n",
       "1                 Daine Jir (uncredited)  ACTOR                 Star Wars   \n",
       "2                      Jawa (uncredited)  ACTOR                 Star Wars   \n",
       "3                      Jawa (uncredited)  ACTOR                 Star Wars   \n",
       "4      Stormtrooper (voice) (uncredited)  ACTOR                 Star Wars   \n",
       "...                                  ...    ...                       ...   \n",
       "30684                         Mad Hatter  ACTOR  Adventures in Wonderland   \n",
       "30685                            Duchess  ACTOR  Adventures in Wonderland   \n",
       "30686                              Alice  ACTOR  Adventures in Wonderland   \n",
       "30687                       Cheshire Cat  ACTOR  Adventures in Wonderland   \n",
       "30688                        Tweedle Dum  ACTOR  Adventures in Wonderland   \n",
       "\n",
       "        type                                        description  release_year  \\\n",
       "0      MOVIE  Princess Leia is captured and held hostage by ...          1977   \n",
       "1      MOVIE  Princess Leia is captured and held hostage by ...          1977   \n",
       "2      MOVIE  Princess Leia is captured and held hostage by ...          1977   \n",
       "3      MOVIE  Princess Leia is captured and held hostage by ...          1977   \n",
       "4      MOVIE  Princess Leia is captured and held hostage by ...          1977   \n",
       "...      ...                                                ...           ...   \n",
       "30684   SHOW  Adventures in Wonderland is a live-action musi...          1992   \n",
       "30685   SHOW  Adventures in Wonderland is a live-action musi...          1992   \n",
       "30686   SHOW  Adventures in Wonderland is a live-action musi...          1992   \n",
       "30687   SHOW  Adventures in Wonderland is a live-action musi...          1992   \n",
       "30688   SHOW  Adventures in Wonderland is a live-action musi...          1992   \n",
       "\n",
       "      age_certification  runtime                           genres  \\\n",
       "0                    PG      121   ['action', 'scifi', 'fantasy']   \n",
       "1                    PG      121   ['action', 'scifi', 'fantasy']   \n",
       "2                    PG      121   ['action', 'scifi', 'fantasy']   \n",
       "3                    PG      121   ['action', 'scifi', 'fantasy']   \n",
       "4                    PG      121   ['action', 'scifi', 'fantasy']   \n",
       "...                 ...      ...                              ...   \n",
       "30684              TV-Y       28  ['comedy', 'family', 'fantasy']   \n",
       "30685              TV-Y       28  ['comedy', 'family', 'fantasy']   \n",
       "30686              TV-Y       28  ['comedy', 'family', 'fantasy']   \n",
       "30687              TV-Y       28  ['comedy', 'family', 'fantasy']   \n",
       "30688              TV-Y       28  ['comedy', 'family', 'fantasy']   \n",
       "\n",
       "      production_countries  seasons    imdb_id  imdb_score  imdb_votes  \\\n",
       "0                   ['US']      NaN  tt0076759         8.6   1378285.0   \n",
       "1                   ['US']      NaN  tt0076759         8.6   1378285.0   \n",
       "2                   ['US']      NaN  tt0076759         8.6   1378285.0   \n",
       "3                   ['US']      NaN  tt0076759         8.6   1378285.0   \n",
       "4                   ['US']      NaN  tt0076759         8.6   1378285.0   \n",
       "...                    ...      ...        ...         ...         ...   \n",
       "30684               ['US']      5.0  tt0300712         7.9       769.0   \n",
       "30685               ['US']      5.0  tt0300712         7.9       769.0   \n",
       "30686               ['US']      5.0  tt0300712         7.9       769.0   \n",
       "30687               ['US']      5.0  tt0300712         7.9       769.0   \n",
       "30688               ['US']      5.0  tt0300712         7.9       769.0   \n",
       "\n",
       "       tmdb_popularity  tmdb_score  \n",
       "0               81.289       8.207  \n",
       "1               81.289       8.207  \n",
       "2               81.289       8.207  \n",
       "3               81.289       8.207  \n",
       "4               81.289       8.207  \n",
       "...                ...         ...  \n",
       "30684            5.967       8.500  \n",
       "30685            5.967       8.500  \n",
       "30686            5.967       8.500  \n",
       "30687            5.967       8.500  \n",
       "30688            5.967       8.500  \n",
       "\n",
       "[30689 rows x 19 columns]"
      ]
     },
     "execution_count": 49,
     "metadata": {},
     "output_type": "execute_result"
    }
   ],
   "source": [
    "joined_data"
   ]
  },
  {
   "cell_type": "code",
   "execution_count": 50,
   "metadata": {},
   "outputs": [
    {
     "name": "stdout",
     "output_type": "stream",
     "text": [
      "person_id                 int64\n",
      "id                       object\n",
      "name                     object\n",
      "character                object\n",
      "role                     object\n",
      "title                    object\n",
      "type                     object\n",
      "description              object\n",
      "release_year              int64\n",
      "age_certification        object\n",
      "runtime                   int64\n",
      "genres                   object\n",
      "production_countries     object\n",
      "seasons                 float64\n",
      "imdb_id                  object\n",
      "imdb_score              float64\n",
      "imdb_votes              float64\n",
      "tmdb_popularity         float64\n",
      "tmdb_score              float64\n",
      "dtype: object\n"
     ]
    }
   ],
   "source": [
    "#Checking the datatypes of columns in the merged dataset using dtypes attribute of dataframe\n",
    "types_joined_data = joined_data.dtypes\n",
    "\n",
    "print(types_joined_data)"
   ]
  },
  {
   "cell_type": "code",
   "execution_count": 51,
   "metadata": {},
   "outputs": [
    {
     "data": {
      "text/html": [
       "<div>\n",
       "<style scoped>\n",
       "    .dataframe tbody tr th:only-of-type {\n",
       "        vertical-align: middle;\n",
       "    }\n",
       "\n",
       "    .dataframe tbody tr th {\n",
       "        vertical-align: top;\n",
       "    }\n",
       "\n",
       "    .dataframe thead th {\n",
       "        text-align: right;\n",
       "    }\n",
       "</style>\n",
       "<table border=\"1\" class=\"dataframe\">\n",
       "  <thead>\n",
       "    <tr style=\"text-align: right;\">\n",
       "      <th></th>\n",
       "      <th></th>\n",
       "      <th>imdb_score</th>\n",
       "      <th>tmdb_score</th>\n",
       "    </tr>\n",
       "    <tr>\n",
       "      <th>id</th>\n",
       "      <th>title</th>\n",
       "      <th></th>\n",
       "      <th></th>\n",
       "    </tr>\n",
       "  </thead>\n",
       "  <tbody>\n",
       "    <tr>\n",
       "      <th>ts84270</th>\n",
       "      <th>Bluey</th>\n",
       "      <td>9.5</td>\n",
       "      <td>8.167</td>\n",
       "    </tr>\n",
       "    <tr>\n",
       "      <th>ts299852</th>\n",
       "      <th>The Beatles: Get Back</th>\n",
       "      <td>9.0</td>\n",
       "      <td>8.397</td>\n",
       "    </tr>\n",
       "    <tr>\n",
       "      <th>ts349881</th>\n",
       "      <th>Light &amp; Magic</th>\n",
       "      <td>8.8</td>\n",
       "      <td>7.139</td>\n",
       "    </tr>\n",
       "    <tr>\n",
       "      <th>tm1168196</th>\n",
       "      <th>Marvel Studios Assembled: The Making of Hawkeye</th>\n",
       "      <td>8.8</td>\n",
       "      <td>7.200</td>\n",
       "    </tr>\n",
       "    <tr>\n",
       "      <th>ts225082</th>\n",
       "      <th>Heartland Docs, DVM</th>\n",
       "      <td>8.8</td>\n",
       "      <td>8.500</td>\n",
       "    </tr>\n",
       "    <tr>\n",
       "      <th>...</th>\n",
       "      <th>...</th>\n",
       "      <td>...</td>\n",
       "      <td>...</td>\n",
       "    </tr>\n",
       "    <tr>\n",
       "      <th>tm104563</th>\n",
       "      <th>Kazaam</th>\n",
       "      <td>3.1</td>\n",
       "      <td>4.183</td>\n",
       "    </tr>\n",
       "    <tr>\n",
       "      <th>ts330252</th>\n",
       "      <th>The Proud Family: Louder and Prouder</th>\n",
       "      <td>2.8</td>\n",
       "      <td>6.900</td>\n",
       "    </tr>\n",
       "    <tr>\n",
       "      <th>tm119928</th>\n",
       "      <th>Home Alone 4</th>\n",
       "      <td>2.6</td>\n",
       "      <td>4.474</td>\n",
       "    </tr>\n",
       "    <tr>\n",
       "      <th>tm30316</th>\n",
       "      <th>Hannah Montana &amp; Miley Cyrus: Best of Both Worlds Concert</th>\n",
       "      <td>2.5</td>\n",
       "      <td>6.000</td>\n",
       "    </tr>\n",
       "    <tr>\n",
       "      <th>tm150525</th>\n",
       "      <th>Jonas Brothers: The Concert Experience</th>\n",
       "      <td>1.6</td>\n",
       "      <td>6.300</td>\n",
       "    </tr>\n",
       "  </tbody>\n",
       "</table>\n",
       "<p>1222 rows × 2 columns</p>\n",
       "</div>"
      ],
      "text/plain": [
       "                                                              imdb_score  \\\n",
       "id        title                                                            \n",
       "ts84270   Bluey                                                      9.5   \n",
       "ts299852  The Beatles: Get Back                                      9.0   \n",
       "ts349881  Light & Magic                                              8.8   \n",
       "tm1168196 Marvel Studios Assembled: The Making of Hawkeye            8.8   \n",
       "ts225082  Heartland Docs, DVM                                        8.8   \n",
       "...                                                                  ...   \n",
       "tm104563  Kazaam                                                     3.1   \n",
       "ts330252  The Proud Family: Louder and Prouder                       2.8   \n",
       "tm119928  Home Alone 4                                               2.6   \n",
       "tm30316   Hannah Montana & Miley Cyrus: Best of Both Worl...         2.5   \n",
       "tm150525  Jonas Brothers: The Concert Experience                     1.6   \n",
       "\n",
       "                                                              tmdb_score  \n",
       "id        title                                                           \n",
       "ts84270   Bluey                                                    8.167  \n",
       "ts299852  The Beatles: Get Back                                    8.397  \n",
       "ts349881  Light & Magic                                            7.139  \n",
       "tm1168196 Marvel Studios Assembled: The Making of Hawkeye          7.200  \n",
       "ts225082  Heartland Docs, DVM                                      8.500  \n",
       "...                                                                  ...  \n",
       "tm104563  Kazaam                                                   4.183  \n",
       "ts330252  The Proud Family: Louder and Prouder                     6.900  \n",
       "tm119928  Home Alone 4                                             4.474  \n",
       "tm30316   Hannah Montana & Miley Cyrus: Best of Both Worl...       6.000  \n",
       "tm150525  Jonas Brothers: The Concert Experience                   6.300  \n",
       "\n",
       "[1222 rows x 2 columns]"
      ]
     },
     "execution_count": 51,
     "metadata": {},
     "output_type": "execute_result"
    }
   ],
   "source": [
    "#Grouping the merged data based on 'id' and 'title' columns and calculating the mean for 'imdb_score' and 'tmdb_score' columns. Sorting the scores based on 'imdb_score' in descending order and dropping any rows that contain null values (if any).\n",
    "scores_data = joined_data.groupby([\"id\", \"title\"])[[\"imdb_score\", \"tmdb_score\"]].mean()\n",
    "sorted_scores = scores_data.sort_values(\"imdb_score\", ascending=False).dropna()\n",
    "\n",
    "sorted_scores"
   ]
  },
  {
   "cell_type": "code",
   "execution_count": 52,
   "metadata": {},
   "outputs": [
    {
     "data": {
      "text/html": [
       "<div>\n",
       "<style scoped>\n",
       "    .dataframe tbody tr th:only-of-type {\n",
       "        vertical-align: middle;\n",
       "    }\n",
       "\n",
       "    .dataframe tbody tr th {\n",
       "        vertical-align: top;\n",
       "    }\n",
       "\n",
       "    .dataframe thead th {\n",
       "        text-align: right;\n",
       "    }\n",
       "</style>\n",
       "<table border=\"1\" class=\"dataframe\">\n",
       "  <thead>\n",
       "    <tr style=\"text-align: right;\">\n",
       "      <th></th>\n",
       "      <th>imdb_id</th>\n",
       "      <th>title</th>\n",
       "      <th>release_year</th>\n",
       "      <th>type</th>\n",
       "      <th>runtime</th>\n",
       "      <th>IMDB Score</th>\n",
       "      <th>Genres</th>\n",
       "      <th>Description</th>\n",
       "      <th>Cast</th>\n",
       "      <th>Number of People in the Cast</th>\n",
       "    </tr>\n",
       "  </thead>\n",
       "  <tbody>\n",
       "    <tr>\n",
       "      <th>0</th>\n",
       "      <td>tt7678620</td>\n",
       "      <td>Bluey</td>\n",
       "      <td>2018</td>\n",
       "      <td>SHOW</td>\n",
       "      <td>8</td>\n",
       "      <td>9.5</td>\n",
       "      <td>['animation', 'family']</td>\n",
       "      <td>Bluey is an inexhaustible six year-old Blue He...</td>\n",
       "      <td>[Dave McCormack, Melanie Zanetti]</td>\n",
       "      <td>2</td>\n",
       "    </tr>\n",
       "    <tr>\n",
       "      <th>1</th>\n",
       "      <td>tt13897634</td>\n",
       "      <td>The Wizard of Paws</td>\n",
       "      <td>2020</td>\n",
       "      <td>SHOW</td>\n",
       "      <td>23</td>\n",
       "      <td>9.3</td>\n",
       "      <td>['family', 'reality']</td>\n",
       "      <td>Prosthetics expert Derrick Campana offers hope...</td>\n",
       "      <td>[Derrick Campana]</td>\n",
       "      <td>1</td>\n",
       "    </tr>\n",
       "    <tr>\n",
       "      <th>2</th>\n",
       "      <td>tt11950984</td>\n",
       "      <td>The Beatles: Get Back</td>\n",
       "      <td>2021</td>\n",
       "      <td>SHOW</td>\n",
       "      <td>156</td>\n",
       "      <td>9.0</td>\n",
       "      <td>['music', 'documentation']</td>\n",
       "      <td>Documentary about the music group The Beatles ...</td>\n",
       "      <td>[Ringo Starr, Anthony B. Richmond, Paul Bond, ...</td>\n",
       "      <td>27</td>\n",
       "    </tr>\n",
       "    <tr>\n",
       "      <th>3</th>\n",
       "      <td>tt21065336</td>\n",
       "      <td>Dickie V</td>\n",
       "      <td>2022</td>\n",
       "      <td>MOVIE</td>\n",
       "      <td>80</td>\n",
       "      <td>8.9</td>\n",
       "      <td>['documentation']</td>\n",
       "      <td>The remarkable life and career of the legendar...</td>\n",
       "      <td>[Dick Vitale, Mike Krzyzewski, Charles Barkley...</td>\n",
       "      <td>8</td>\n",
       "    </tr>\n",
       "    <tr>\n",
       "      <th>4</th>\n",
       "      <td>tt11929804</td>\n",
       "      <td>Critter Fixers: Country Vets</td>\n",
       "      <td>2020</td>\n",
       "      <td>SHOW</td>\n",
       "      <td>44</td>\n",
       "      <td>8.8</td>\n",
       "      <td>['family', 'documentation']</td>\n",
       "      <td>Dr. Hodges and Dr. Ferguson own and operate a ...</td>\n",
       "      <td>[Vernard Hodges, Terrence Ferguson]</td>\n",
       "      <td>2</td>\n",
       "    </tr>\n",
       "    <tr>\n",
       "      <th>...</th>\n",
       "      <td>...</td>\n",
       "      <td>...</td>\n",
       "      <td>...</td>\n",
       "      <td>...</td>\n",
       "      <td>...</td>\n",
       "      <td>...</td>\n",
       "      <td>...</td>\n",
       "      <td>...</td>\n",
       "      <td>...</td>\n",
       "      <td>...</td>\n",
       "    </tr>\n",
       "    <tr>\n",
       "      <th>1259</th>\n",
       "      <td>tt0116756</td>\n",
       "      <td>Kazaam</td>\n",
       "      <td>1996</td>\n",
       "      <td>MOVIE</td>\n",
       "      <td>93</td>\n",
       "      <td>3.1</td>\n",
       "      <td>['comedy', 'family', 'fantasy']</td>\n",
       "      <td>When Max fools a gang of local toughs, he find...</td>\n",
       "      <td>[Francis Capra, Fawn Reed, Da Brat, Mother Lov...</td>\n",
       "      <td>13</td>\n",
       "    </tr>\n",
       "    <tr>\n",
       "      <th>1260</th>\n",
       "      <td>tt11871764</td>\n",
       "      <td>The Proud Family: Louder and Prouder</td>\n",
       "      <td>2022</td>\n",
       "      <td>SHOW</td>\n",
       "      <td>25</td>\n",
       "      <td>2.8</td>\n",
       "      <td>['comedy', 'family', 'animation']</td>\n",
       "      <td>Follow the adventures and misadventures of new...</td>\n",
       "      <td>[Soleil Moon Frye, Tommy Davidson, Alisa Reyes...</td>\n",
       "      <td>7</td>\n",
       "    </tr>\n",
       "    <tr>\n",
       "      <th>1261</th>\n",
       "      <td>tt0329200</td>\n",
       "      <td>Home Alone 4</td>\n",
       "      <td>2002</td>\n",
       "      <td>MOVIE</td>\n",
       "      <td>84</td>\n",
       "      <td>2.6</td>\n",
       "      <td>['comedy', 'crime', 'family']</td>\n",
       "      <td>Kevin McCallister's parents have split up. Now...</td>\n",
       "      <td>[Barbara Babcock, Anton Smuts, Clare Carey, Jo...</td>\n",
       "      <td>18</td>\n",
       "    </tr>\n",
       "    <tr>\n",
       "      <th>1262</th>\n",
       "      <td>tt1127884</td>\n",
       "      <td>Hannah Montana &amp; Miley Cyrus: Best of Both Wor...</td>\n",
       "      <td>2008</td>\n",
       "      <td>MOVIE</td>\n",
       "      <td>82</td>\n",
       "      <td>2.5</td>\n",
       "      <td>['documentation', 'music']</td>\n",
       "      <td>In this concert film, 'Hannah Montana' star Mi...</td>\n",
       "      <td>[Miley Cyrus, Billy Ray Cyrus, Nick Jonas, Joe...</td>\n",
       "      <td>12</td>\n",
       "    </tr>\n",
       "    <tr>\n",
       "      <th>1263</th>\n",
       "      <td>tt1229827</td>\n",
       "      <td>Jonas Brothers: The Concert Experience</td>\n",
       "      <td>2009</td>\n",
       "      <td>MOVIE</td>\n",
       "      <td>76</td>\n",
       "      <td>1.6</td>\n",
       "      <td>['music', 'documentation', 'family']</td>\n",
       "      <td>Grab a backstage pass to the Jonas Brothers' m...</td>\n",
       "      <td>[Robert Feggans, Bruce Hendricks, John Cahill ...</td>\n",
       "      <td>12</td>\n",
       "    </tr>\n",
       "  </tbody>\n",
       "</table>\n",
       "<p>1264 rows × 10 columns</p>\n",
       "</div>"
      ],
      "text/plain": [
       "         imdb_id                                              title  \\\n",
       "0      tt7678620                                              Bluey   \n",
       "1     tt13897634                                 The Wizard of Paws   \n",
       "2     tt11950984                              The Beatles: Get Back   \n",
       "3     tt21065336                                           Dickie V   \n",
       "4     tt11929804                       Critter Fixers: Country Vets   \n",
       "...          ...                                                ...   \n",
       "1259   tt0116756                                             Kazaam   \n",
       "1260  tt11871764               The Proud Family: Louder and Prouder   \n",
       "1261   tt0329200                                       Home Alone 4   \n",
       "1262   tt1127884  Hannah Montana & Miley Cyrus: Best of Both Wor...   \n",
       "1263   tt1229827             Jonas Brothers: The Concert Experience   \n",
       "\n",
       "      release_year   type  runtime  IMDB Score  \\\n",
       "0             2018   SHOW        8         9.5   \n",
       "1             2020   SHOW       23         9.3   \n",
       "2             2021   SHOW      156         9.0   \n",
       "3             2022  MOVIE       80         8.9   \n",
       "4             2020   SHOW       44         8.8   \n",
       "...            ...    ...      ...         ...   \n",
       "1259          1996  MOVIE       93         3.1   \n",
       "1260          2022   SHOW       25         2.8   \n",
       "1261          2002  MOVIE       84         2.6   \n",
       "1262          2008  MOVIE       82         2.5   \n",
       "1263          2009  MOVIE       76         1.6   \n",
       "\n",
       "                                    Genres  \\\n",
       "0                  ['animation', 'family']   \n",
       "1                    ['family', 'reality']   \n",
       "2               ['music', 'documentation']   \n",
       "3                        ['documentation']   \n",
       "4              ['family', 'documentation']   \n",
       "...                                    ...   \n",
       "1259       ['comedy', 'family', 'fantasy']   \n",
       "1260     ['comedy', 'family', 'animation']   \n",
       "1261         ['comedy', 'crime', 'family']   \n",
       "1262            ['documentation', 'music']   \n",
       "1263  ['music', 'documentation', 'family']   \n",
       "\n",
       "                                            Description  \\\n",
       "0     Bluey is an inexhaustible six year-old Blue He...   \n",
       "1     Prosthetics expert Derrick Campana offers hope...   \n",
       "2     Documentary about the music group The Beatles ...   \n",
       "3     The remarkable life and career of the legendar...   \n",
       "4     Dr. Hodges and Dr. Ferguson own and operate a ...   \n",
       "...                                                 ...   \n",
       "1259  When Max fools a gang of local toughs, he find...   \n",
       "1260  Follow the adventures and misadventures of new...   \n",
       "1261  Kevin McCallister's parents have split up. Now...   \n",
       "1262  In this concert film, 'Hannah Montana' star Mi...   \n",
       "1263  Grab a backstage pass to the Jonas Brothers' m...   \n",
       "\n",
       "                                                   Cast  \\\n",
       "0                     [Dave McCormack, Melanie Zanetti]   \n",
       "1                                     [Derrick Campana]   \n",
       "2     [Ringo Starr, Anthony B. Richmond, Paul Bond, ...   \n",
       "3     [Dick Vitale, Mike Krzyzewski, Charles Barkley...   \n",
       "4                   [Vernard Hodges, Terrence Ferguson]   \n",
       "...                                                 ...   \n",
       "1259  [Francis Capra, Fawn Reed, Da Brat, Mother Lov...   \n",
       "1260  [Soleil Moon Frye, Tommy Davidson, Alisa Reyes...   \n",
       "1261  [Barbara Babcock, Anton Smuts, Clare Carey, Jo...   \n",
       "1262  [Miley Cyrus, Billy Ray Cyrus, Nick Jonas, Joe...   \n",
       "1263  [Robert Feggans, Bruce Hendricks, John Cahill ...   \n",
       "\n",
       "      Number of People in the Cast  \n",
       "0                                2  \n",
       "1                                1  \n",
       "2                               27  \n",
       "3                                8  \n",
       "4                                2  \n",
       "...                            ...  \n",
       "1259                            13  \n",
       "1260                             7  \n",
       "1261                            18  \n",
       "1262                            12  \n",
       "1263                            12  \n",
       "\n",
       "[1264 rows x 10 columns]"
      ]
     },
     "execution_count": 52,
     "metadata": {},
     "output_type": "execute_result"
    }
   ],
   "source": [
    "#Grouping the merged data based on multiple columns such as 'imdb_id', 'title', 'release_year', 'type' and 'runtime'. Aggregating the data based on first value of 'imdb_score', 'genres' and 'description' columns and lambda function on 'name' column. Renaming the columns to more readable names. Sorting the data based on 'IMDB Score' in descending order and dropping any rows that contain null values (if any).\n",
    "analysed_data = joined_data.groupby([\"imdb_id\", \"title\", \"release_year\",  \"type\", \"runtime\"]).agg({\"imdb_score\": \"first\", \"genres\": \"first\", \"description\": \"first\", \"name\": lambda x: x.unique().tolist()}).dropna()\n",
    "analysed_data.columns = ['IMDB Score', 'Genres', 'Description', 'Cast']\n",
    "\n",
    "analysed_data = analysed_data.sort_values(\"IMDB Score\", ascending=False).dropna()\n",
    "analysed_data = analysed_data.reset_index()\n",
    "analysed_data[\"Number of People in the Cast\"] = analysed_data['Cast'].apply(len)\n",
    "analysed_data"
   ]
  },
  {
   "cell_type": "code",
   "execution_count": 53,
   "metadata": {},
   "outputs": [],
   "source": [
    "#Importing plotly express library to create visualizations\n",
    "import plotly.express as px"
   ]
  },
  {
   "cell_type": "code",
   "execution_count": 54,
   "metadata": {},
   "outputs": [
    {
     "data": {
      "application/vnd.plotly.v1+json": {
       "config": {
        "plotlyServerURL": "https://plot.ly"
       },
       "data": [
        {
         "alignmentgroup": "True",
         "hovertemplate": "type=%{x}<br>count=%{y}<extra></extra>",
         "legendgroup": "",
         "marker": {
          "color": "#636efa",
          "pattern": {
           "shape": ""
          }
         },
         "name": "",
         "offsetgroup": "",
         "orientation": "v",
         "showlegend": false,
         "textposition": "auto",
         "type": "bar",
         "x": [
          "MOVIE",
          "SHOW"
         ],
         "xaxis": "x",
         "y": [
          853,
          411
         ],
         "yaxis": "y"
        }
       ],
       "layout": {
        "barmode": "relative",
        "legend": {
         "tracegroupgap": 0
        },
        "template": {
         "data": {
          "bar": [
           {
            "error_x": {
             "color": "#2a3f5f"
            },
            "error_y": {
             "color": "#2a3f5f"
            },
            "marker": {
             "line": {
              "color": "#E5ECF6",
              "width": 0.5
             },
             "pattern": {
              "fillmode": "overlay",
              "size": 10,
              "solidity": 0.2
             }
            },
            "type": "bar"
           }
          ],
          "barpolar": [
           {
            "marker": {
             "line": {
              "color": "#E5ECF6",
              "width": 0.5
             },
             "pattern": {
              "fillmode": "overlay",
              "size": 10,
              "solidity": 0.2
             }
            },
            "type": "barpolar"
           }
          ],
          "carpet": [
           {
            "aaxis": {
             "endlinecolor": "#2a3f5f",
             "gridcolor": "white",
             "linecolor": "white",
             "minorgridcolor": "white",
             "startlinecolor": "#2a3f5f"
            },
            "baxis": {
             "endlinecolor": "#2a3f5f",
             "gridcolor": "white",
             "linecolor": "white",
             "minorgridcolor": "white",
             "startlinecolor": "#2a3f5f"
            },
            "type": "carpet"
           }
          ],
          "choropleth": [
           {
            "colorbar": {
             "outlinewidth": 0,
             "ticks": ""
            },
            "type": "choropleth"
           }
          ],
          "contour": [
           {
            "colorbar": {
             "outlinewidth": 0,
             "ticks": ""
            },
            "colorscale": [
             [
              0,
              "#0d0887"
             ],
             [
              0.1111111111111111,
              "#46039f"
             ],
             [
              0.2222222222222222,
              "#7201a8"
             ],
             [
              0.3333333333333333,
              "#9c179e"
             ],
             [
              0.4444444444444444,
              "#bd3786"
             ],
             [
              0.5555555555555556,
              "#d8576b"
             ],
             [
              0.6666666666666666,
              "#ed7953"
             ],
             [
              0.7777777777777778,
              "#fb9f3a"
             ],
             [
              0.8888888888888888,
              "#fdca26"
             ],
             [
              1,
              "#f0f921"
             ]
            ],
            "type": "contour"
           }
          ],
          "contourcarpet": [
           {
            "colorbar": {
             "outlinewidth": 0,
             "ticks": ""
            },
            "type": "contourcarpet"
           }
          ],
          "heatmap": [
           {
            "colorbar": {
             "outlinewidth": 0,
             "ticks": ""
            },
            "colorscale": [
             [
              0,
              "#0d0887"
             ],
             [
              0.1111111111111111,
              "#46039f"
             ],
             [
              0.2222222222222222,
              "#7201a8"
             ],
             [
              0.3333333333333333,
              "#9c179e"
             ],
             [
              0.4444444444444444,
              "#bd3786"
             ],
             [
              0.5555555555555556,
              "#d8576b"
             ],
             [
              0.6666666666666666,
              "#ed7953"
             ],
             [
              0.7777777777777778,
              "#fb9f3a"
             ],
             [
              0.8888888888888888,
              "#fdca26"
             ],
             [
              1,
              "#f0f921"
             ]
            ],
            "type": "heatmap"
           }
          ],
          "heatmapgl": [
           {
            "colorbar": {
             "outlinewidth": 0,
             "ticks": ""
            },
            "colorscale": [
             [
              0,
              "#0d0887"
             ],
             [
              0.1111111111111111,
              "#46039f"
             ],
             [
              0.2222222222222222,
              "#7201a8"
             ],
             [
              0.3333333333333333,
              "#9c179e"
             ],
             [
              0.4444444444444444,
              "#bd3786"
             ],
             [
              0.5555555555555556,
              "#d8576b"
             ],
             [
              0.6666666666666666,
              "#ed7953"
             ],
             [
              0.7777777777777778,
              "#fb9f3a"
             ],
             [
              0.8888888888888888,
              "#fdca26"
             ],
             [
              1,
              "#f0f921"
             ]
            ],
            "type": "heatmapgl"
           }
          ],
          "histogram": [
           {
            "marker": {
             "pattern": {
              "fillmode": "overlay",
              "size": 10,
              "solidity": 0.2
             }
            },
            "type": "histogram"
           }
          ],
          "histogram2d": [
           {
            "colorbar": {
             "outlinewidth": 0,
             "ticks": ""
            },
            "colorscale": [
             [
              0,
              "#0d0887"
             ],
             [
              0.1111111111111111,
              "#46039f"
             ],
             [
              0.2222222222222222,
              "#7201a8"
             ],
             [
              0.3333333333333333,
              "#9c179e"
             ],
             [
              0.4444444444444444,
              "#bd3786"
             ],
             [
              0.5555555555555556,
              "#d8576b"
             ],
             [
              0.6666666666666666,
              "#ed7953"
             ],
             [
              0.7777777777777778,
              "#fb9f3a"
             ],
             [
              0.8888888888888888,
              "#fdca26"
             ],
             [
              1,
              "#f0f921"
             ]
            ],
            "type": "histogram2d"
           }
          ],
          "histogram2dcontour": [
           {
            "colorbar": {
             "outlinewidth": 0,
             "ticks": ""
            },
            "colorscale": [
             [
              0,
              "#0d0887"
             ],
             [
              0.1111111111111111,
              "#46039f"
             ],
             [
              0.2222222222222222,
              "#7201a8"
             ],
             [
              0.3333333333333333,
              "#9c179e"
             ],
             [
              0.4444444444444444,
              "#bd3786"
             ],
             [
              0.5555555555555556,
              "#d8576b"
             ],
             [
              0.6666666666666666,
              "#ed7953"
             ],
             [
              0.7777777777777778,
              "#fb9f3a"
             ],
             [
              0.8888888888888888,
              "#fdca26"
             ],
             [
              1,
              "#f0f921"
             ]
            ],
            "type": "histogram2dcontour"
           }
          ],
          "mesh3d": [
           {
            "colorbar": {
             "outlinewidth": 0,
             "ticks": ""
            },
            "type": "mesh3d"
           }
          ],
          "parcoords": [
           {
            "line": {
             "colorbar": {
              "outlinewidth": 0,
              "ticks": ""
             }
            },
            "type": "parcoords"
           }
          ],
          "pie": [
           {
            "automargin": true,
            "type": "pie"
           }
          ],
          "scatter": [
           {
            "marker": {
             "colorbar": {
              "outlinewidth": 0,
              "ticks": ""
             }
            },
            "type": "scatter"
           }
          ],
          "scatter3d": [
           {
            "line": {
             "colorbar": {
              "outlinewidth": 0,
              "ticks": ""
             }
            },
            "marker": {
             "colorbar": {
              "outlinewidth": 0,
              "ticks": ""
             }
            },
            "type": "scatter3d"
           }
          ],
          "scattercarpet": [
           {
            "marker": {
             "colorbar": {
              "outlinewidth": 0,
              "ticks": ""
             }
            },
            "type": "scattercarpet"
           }
          ],
          "scattergeo": [
           {
            "marker": {
             "colorbar": {
              "outlinewidth": 0,
              "ticks": ""
             }
            },
            "type": "scattergeo"
           }
          ],
          "scattergl": [
           {
            "marker": {
             "colorbar": {
              "outlinewidth": 0,
              "ticks": ""
             }
            },
            "type": "scattergl"
           }
          ],
          "scattermapbox": [
           {
            "marker": {
             "colorbar": {
              "outlinewidth": 0,
              "ticks": ""
             }
            },
            "type": "scattermapbox"
           }
          ],
          "scatterpolar": [
           {
            "marker": {
             "colorbar": {
              "outlinewidth": 0,
              "ticks": ""
             }
            },
            "type": "scatterpolar"
           }
          ],
          "scatterpolargl": [
           {
            "marker": {
             "colorbar": {
              "outlinewidth": 0,
              "ticks": ""
             }
            },
            "type": "scatterpolargl"
           }
          ],
          "scatterternary": [
           {
            "marker": {
             "colorbar": {
              "outlinewidth": 0,
              "ticks": ""
             }
            },
            "type": "scatterternary"
           }
          ],
          "surface": [
           {
            "colorbar": {
             "outlinewidth": 0,
             "ticks": ""
            },
            "colorscale": [
             [
              0,
              "#0d0887"
             ],
             [
              0.1111111111111111,
              "#46039f"
             ],
             [
              0.2222222222222222,
              "#7201a8"
             ],
             [
              0.3333333333333333,
              "#9c179e"
             ],
             [
              0.4444444444444444,
              "#bd3786"
             ],
             [
              0.5555555555555556,
              "#d8576b"
             ],
             [
              0.6666666666666666,
              "#ed7953"
             ],
             [
              0.7777777777777778,
              "#fb9f3a"
             ],
             [
              0.8888888888888888,
              "#fdca26"
             ],
             [
              1,
              "#f0f921"
             ]
            ],
            "type": "surface"
           }
          ],
          "table": [
           {
            "cells": {
             "fill": {
              "color": "#EBF0F8"
             },
             "line": {
              "color": "white"
             }
            },
            "header": {
             "fill": {
              "color": "#C8D4E3"
             },
             "line": {
              "color": "white"
             }
            },
            "type": "table"
           }
          ]
         },
         "layout": {
          "annotationdefaults": {
           "arrowcolor": "#2a3f5f",
           "arrowhead": 0,
           "arrowwidth": 1
          },
          "autotypenumbers": "strict",
          "coloraxis": {
           "colorbar": {
            "outlinewidth": 0,
            "ticks": ""
           }
          },
          "colorscale": {
           "diverging": [
            [
             0,
             "#8e0152"
            ],
            [
             0.1,
             "#c51b7d"
            ],
            [
             0.2,
             "#de77ae"
            ],
            [
             0.3,
             "#f1b6da"
            ],
            [
             0.4,
             "#fde0ef"
            ],
            [
             0.5,
             "#f7f7f7"
            ],
            [
             0.6,
             "#e6f5d0"
            ],
            [
             0.7,
             "#b8e186"
            ],
            [
             0.8,
             "#7fbc41"
            ],
            [
             0.9,
             "#4d9221"
            ],
            [
             1,
             "#276419"
            ]
           ],
           "sequential": [
            [
             0,
             "#0d0887"
            ],
            [
             0.1111111111111111,
             "#46039f"
            ],
            [
             0.2222222222222222,
             "#7201a8"
            ],
            [
             0.3333333333333333,
             "#9c179e"
            ],
            [
             0.4444444444444444,
             "#bd3786"
            ],
            [
             0.5555555555555556,
             "#d8576b"
            ],
            [
             0.6666666666666666,
             "#ed7953"
            ],
            [
             0.7777777777777778,
             "#fb9f3a"
            ],
            [
             0.8888888888888888,
             "#fdca26"
            ],
            [
             1,
             "#f0f921"
            ]
           ],
           "sequentialminus": [
            [
             0,
             "#0d0887"
            ],
            [
             0.1111111111111111,
             "#46039f"
            ],
            [
             0.2222222222222222,
             "#7201a8"
            ],
            [
             0.3333333333333333,
             "#9c179e"
            ],
            [
             0.4444444444444444,
             "#bd3786"
            ],
            [
             0.5555555555555556,
             "#d8576b"
            ],
            [
             0.6666666666666666,
             "#ed7953"
            ],
            [
             0.7777777777777778,
             "#fb9f3a"
            ],
            [
             0.8888888888888888,
             "#fdca26"
            ],
            [
             1,
             "#f0f921"
            ]
           ]
          },
          "colorway": [
           "#636efa",
           "#EF553B",
           "#00cc96",
           "#ab63fa",
           "#FFA15A",
           "#19d3f3",
           "#FF6692",
           "#B6E880",
           "#FF97FF",
           "#FECB52"
          ],
          "font": {
           "color": "#2a3f5f"
          },
          "geo": {
           "bgcolor": "white",
           "lakecolor": "white",
           "landcolor": "#E5ECF6",
           "showlakes": true,
           "showland": true,
           "subunitcolor": "white"
          },
          "hoverlabel": {
           "align": "left"
          },
          "hovermode": "closest",
          "mapbox": {
           "style": "light"
          },
          "paper_bgcolor": "white",
          "plot_bgcolor": "#E5ECF6",
          "polar": {
           "angularaxis": {
            "gridcolor": "white",
            "linecolor": "white",
            "ticks": ""
           },
           "bgcolor": "#E5ECF6",
           "radialaxis": {
            "gridcolor": "white",
            "linecolor": "white",
            "ticks": ""
           }
          },
          "scene": {
           "xaxis": {
            "backgroundcolor": "#E5ECF6",
            "gridcolor": "white",
            "gridwidth": 2,
            "linecolor": "white",
            "showbackground": true,
            "ticks": "",
            "zerolinecolor": "white"
           },
           "yaxis": {
            "backgroundcolor": "#E5ECF6",
            "gridcolor": "white",
            "gridwidth": 2,
            "linecolor": "white",
            "showbackground": true,
            "ticks": "",
            "zerolinecolor": "white"
           },
           "zaxis": {
            "backgroundcolor": "#E5ECF6",
            "gridcolor": "white",
            "gridwidth": 2,
            "linecolor": "white",
            "showbackground": true,
            "ticks": "",
            "zerolinecolor": "white"
           }
          },
          "shapedefaults": {
           "line": {
            "color": "#2a3f5f"
           }
          },
          "ternary": {
           "aaxis": {
            "gridcolor": "white",
            "linecolor": "white",
            "ticks": ""
           },
           "baxis": {
            "gridcolor": "white",
            "linecolor": "white",
            "ticks": ""
           },
           "bgcolor": "#E5ECF6",
           "caxis": {
            "gridcolor": "white",
            "linecolor": "white",
            "ticks": ""
           }
          },
          "title": {
           "x": 0.05
          },
          "xaxis": {
           "automargin": true,
           "gridcolor": "white",
           "linecolor": "white",
           "ticks": "",
           "title": {
            "standoff": 15
           },
           "zerolinecolor": "white",
           "zerolinewidth": 2
          },
          "yaxis": {
           "automargin": true,
           "gridcolor": "white",
           "linecolor": "white",
           "ticks": "",
           "title": {
            "standoff": 15
           },
           "zerolinecolor": "white",
           "zerolinewidth": 2
          }
         }
        },
        "title": {
         "text": "Count of Movies vs. Shows"
        },
        "xaxis": {
         "anchor": "y",
         "domain": [
          0,
          1
         ],
         "title": {
          "text": "type"
         }
        },
        "yaxis": {
         "anchor": "x",
         "domain": [
          0,
          1
         ],
         "title": {
          "text": "count"
         }
        }
       }
      }
     },
     "metadata": {},
     "output_type": "display_data"
    }
   ],
   "source": [
    "#Grouping the data based on 'type' column and counting the number of movies and shows. Storing the result in count_df. Creating a bar chart using plotly library based on count_df data.\n",
    "count_df = analysed_data.groupby('type')['imdb_id'].count().reset_index(name='count')\n",
    "\n",
    "fig_bar = px.bar(count_df, x='type', y='count', title='Count of Movies vs. Shows')\n",
    "fig_bar.show()"
   ]
  },
  {
   "cell_type": "code",
   "execution_count": 55,
   "metadata": {},
   "outputs": [
    {
     "data": {
      "application/vnd.plotly.v1+json": {
       "config": {
        "plotlyServerURL": "https://plot.ly"
       },
       "data": [
        {
         "alignmentgroup": "True",
         "bingroup": "x",
         "hovertemplate": "Type=SHOW<br>Release Year=%{x}<br>count=%{y}<extra></extra>",
         "legendgroup": "SHOW",
         "marker": {
          "color": "#636efa",
          "pattern": {
           "shape": ""
          }
         },
         "name": "SHOW",
         "nbinsx": 10,
         "offsetgroup": "SHOW",
         "orientation": "v",
         "showlegend": true,
         "type": "histogram",
         "x": [
          2018,
          2020,
          2021,
          2020,
          2010,
          2020,
          2022,
          2018,
          2019,
          2022,
          1989,
          2015,
          2019,
          2022,
          2016,
          2017,
          2020,
          2011,
          2014,
          2020,
          1992,
          2013,
          2008,
          1999,
          2022,
          2020,
          2008,
          2022,
          2022,
          2021,
          2018,
          1994,
          2020,
          1976,
          2017,
          2010,
          2015,
          2020,
          2019,
          2012,
          2019,
          2020,
          2012,
          2021,
          2008,
          2007,
          2023,
          2023,
          2014,
          2021,
          2021,
          1957,
          2017,
          2012,
          2011,
          1973,
          2020,
          1987,
          2013,
          2013,
          2021,
          1994,
          2021,
          2021,
          2019,
          2022,
          1955,
          2019,
          2010,
          2020,
          2019,
          2014,
          2015,
          2012,
          2010,
          2019,
          1993,
          2022,
          2009,
          2017,
          2021,
          2015,
          2013,
          2015,
          2020,
          2021,
          1997,
          2020,
          2016,
          2021,
          2015,
          1992,
          2020,
          2022,
          2016,
          2022,
          2019,
          2022,
          2018,
          2023,
          2000,
          2021,
          2021,
          2021,
          2003,
          2017,
          2015,
          2020,
          2022,
          2016,
          2021,
          2012,
          2020,
          2011,
          2015,
          2019,
          2017,
          2021,
          2020,
          2014,
          2001,
          2016,
          1988,
          2015,
          2017,
          2022,
          1989,
          1991,
          2015,
          2014,
          2019,
          2017,
          2023,
          2019,
          2000,
          2019,
          2021,
          2018,
          2021,
          2017,
          2014,
          2019,
          1985,
          1998,
          2020,
          2021,
          2018,
          1990,
          2014,
          1991,
          2022,
          2013,
          2013,
          2013,
          2018,
          2017,
          2016,
          2018,
          2023,
          1991,
          2019,
          2021,
          2022,
          2015,
          2015,
          2021,
          1997,
          2015,
          2016,
          2011,
          2022,
          2021,
          2017,
          2013,
          2023,
          2015,
          2021,
          2017,
          2017,
          2020,
          2021,
          2016,
          2010,
          2022,
          2021,
          2020,
          2017,
          2023,
          2012,
          2011,
          2002,
          1981,
          1997,
          2010,
          2022,
          2010,
          2019,
          2022,
          2014,
          2014,
          2022,
          1998,
          2012,
          2022,
          2008,
          2004,
          2013,
          2002,
          1995,
          2021,
          2022,
          2022,
          2014,
          2022,
          2003,
          1981,
          2013,
          2022,
          2007,
          2013,
          2022,
          1998,
          2013,
          2017,
          2019,
          2021,
          2021,
          1997,
          2021,
          2020,
          2017,
          2009,
          2006,
          2014,
          2003,
          2019,
          1992,
          2019,
          2020,
          1996,
          2021,
          1992,
          2017,
          2010,
          2018,
          2012,
          2022,
          1996,
          2022,
          1993,
          2022,
          2005,
          2017,
          2013,
          2012,
          2019,
          2006,
          2021,
          2005,
          2021,
          2021,
          2001,
          2012,
          1998,
          2019,
          2003,
          1994,
          2022,
          2018,
          2020,
          2016,
          2022,
          2001,
          2011,
          2012,
          2021,
          2013,
          2016,
          2020,
          2009,
          2021,
          2018,
          2021,
          2015,
          2017,
          1996,
          1994,
          2016,
          2017,
          2010,
          2004,
          2017,
          2019,
          2021,
          2022,
          2017,
          2022,
          2016,
          2013,
          2001,
          2010,
          2015,
          2013,
          1998,
          2000,
          2022,
          2009,
          2015,
          2014,
          2015,
          2014,
          2005,
          2008,
          1999,
          2016,
          2010,
          2016,
          1989,
          2021,
          2016,
          2022,
          2022,
          1997,
          2016,
          2022,
          2021,
          2017,
          2020,
          2019,
          2018,
          2021,
          1985,
          2013,
          2021,
          2019,
          2009,
          2009,
          2019,
          2011,
          2022,
          2011,
          1985,
          2017,
          2020,
          2020,
          2022,
          1979,
          2010,
          2007,
          2007,
          2018,
          2015,
          2019,
          2020,
          2011,
          2018,
          2006,
          2017,
          2015,
          2019,
          2021,
          2022,
          2022,
          2011,
          2019,
          2022,
          2018,
          2006,
          2021,
          2022,
          2012,
          2017,
          1999,
          2020,
          2015,
          2015,
          2006,
          2013,
          2021,
          2014,
          2012,
          2018,
          2009,
          2022,
          2019,
          2019,
          2022,
          2011,
          2012,
          2010,
          2014,
          2017,
          2012,
          2004,
          2005,
          2021,
          2023,
          2011,
          2009,
          2011,
          2017,
          2013,
          2022,
          2015,
          2016,
          2022,
          2022,
          2016,
          2012,
          2017,
          2022
         ],
         "xaxis": "x",
         "yaxis": "y"
        },
        {
         "alignmentgroup": "True",
         "bingroup": "x",
         "hovertemplate": "Type=MOVIE<br>Release Year=%{x}<br>count=%{y}<extra></extra>",
         "legendgroup": "MOVIE",
         "marker": {
          "color": "#EF553B",
          "pattern": {
           "shape": ""
          }
         },
         "name": "MOVIE",
         "nbinsx": 10,
         "offsetgroup": "MOVIE",
         "orientation": "v",
         "showlegend": true,
         "type": "histogram",
         "x": [
          2022,
          2022,
          1980,
          2022,
          1977,
          2021,
          2021,
          1994,
          2020,
          2020,
          2021,
          2008,
          2019,
          2018,
          2017,
          1983,
          2010,
          2017,
          2009,
          1995,
          2015,
          2020,
          1977,
          2016,
          2022,
          2017,
          2001,
          2015,
          2014,
          2003,
          2003,
          1965,
          2018,
          2007,
          2013,
          1999,
          2016,
          1991,
          1987,
          1992,
          2020,
          2021,
          2014,
          2004,
          2016,
          2012,
          2015,
          2020,
          1947,
          2017,
          2009,
          2008,
          2022,
          2019,
          2022,
          1999,
          1993,
          2022,
          2022,
          2020,
          2022,
          2014,
          2014,
          2016,
          1964,
          2018,
          2016,
          2000,
          2016,
          2015,
          2017,
          2021,
          2022,
          2009,
          2007,
          2010,
          2012,
          2010,
          2019,
          2022,
          1941,
          1990,
          2017,
          1992,
          1988,
          2018,
          1995,
          2018,
          1989,
          2022,
          1979,
          2017,
          2009,
          2016,
          2005,
          1938,
          2019,
          2018,
          2018,
          1998,
          1967,
          2016,
          2010,
          2002,
          2021,
          2019,
          1977,
          1940,
          2021,
          2011,
          2015,
          2018,
          2018,
          2016,
          1973,
          2021,
          2021,
          2020,
          2017,
          2022,
          2013,
          2022,
          2022,
          2022,
          2013,
          2019,
          2017,
          2013,
          2016,
          2022,
          2003,
          2000,
          1960,
          2002,
          2004,
          2011,
          2016,
          2020,
          2016,
          1953,
          2021,
          2005,
          2022,
          2015,
          2017,
          2021,
          1961,
          2019,
          1942,
          2015,
          2007,
          2018,
          2016,
          1955,
          1996,
          1950,
          2011,
          1951,
          2006,
          1953,
          1997,
          1958,
          1956,
          2006,
          2014,
          1999,
          2020,
          2013,
          2002,
          2008,
          2011,
          2021,
          2022,
          1988,
          2018,
          1999,
          2021,
          2015,
          2017,
          2014,
          2015,
          2013,
          2021,
          2020,
          2016,
          2006,
          2022,
          2018,
          2020,
          2020,
          2021,
          2020,
          2013,
          2016,
          2019,
          2020,
          2022,
          2022,
          2016,
          2022,
          2017,
          2013,
          2021,
          2019,
          1981,
          1955,
          1955,
          2007,
          2002,
          1961,
          1960,
          2000,
          1961,
          1988,
          2006,
          1941,
          1960,
          1998,
          1955,
          2022,
          2012,
          1991,
          2012,
          1963,
          1981,
          2017,
          1999,
          1999,
          2013,
          2021,
          2011,
          2019,
          2012,
          1960,
          2019,
          1998,
          1970,
          2022,
          1959,
          2020,
          2011,
          1960,
          2005,
          2007,
          2011,
          2014,
          2007,
          2022,
          1986,
          2012,
          2021,
          2012,
          2016,
          2009,
          2020,
          1956,
          2017,
          2022,
          2020,
          2019,
          1969,
          2019,
          2019,
          2018,
          1993,
          2020,
          2022,
          2015,
          2022,
          2011,
          2006,
          1996,
          1971,
          1985,
          2021,
          2017,
          1963,
          2014,
          2012,
          2018,
          2020,
          2022,
          2003,
          2004,
          2022,
          1996,
          1958,
          1995,
          2022,
          2021,
          1987,
          2022,
          1950,
          2011,
          1991,
          2022,
          1950,
          2002,
          2019,
          2016,
          2001,
          2021,
          2020,
          1986,
          2011,
          2011,
          1998,
          2017,
          2018,
          1993,
          1977,
          1993,
          2005,
          2010,
          2017,
          1992,
          2012,
          1955,
          2022,
          2022,
          2010,
          2019,
          1968,
          2013,
          1963,
          2021,
          2022,
          2006,
          2022,
          2019,
          2010,
          2022,
          2019,
          2007,
          2008,
          2009,
          1990,
          2017,
          2005,
          2019,
          1990,
          2020,
          2003,
          2022,
          1957,
          2017,
          2021,
          1995,
          2007,
          1992,
          1941,
          1985,
          2018,
          2021,
          2020,
          2016,
          1965,
          2016,
          2004,
          1997,
          2016,
          2018,
          2017,
          2018,
          2020,
          1999,
          1972,
          1961,
          1995,
          2022,
          2020,
          2013,
          2017,
          2015,
          1982,
          2016,
          1996,
          1979,
          2021,
          2021,
          2009,
          2016,
          2002,
          2018,
          2010,
          2011,
          2012,
          2019,
          2012,
          2021,
          2017,
          2021,
          1988,
          2001,
          2020,
          1998,
          1952,
          2021,
          2019,
          1956,
          2019,
          2021,
          2002,
          1994,
          1994,
          2002,
          1995,
          2017,
          1965,
          1998,
          2006,
          2020,
          2002,
          1967,
          2008,
          2019,
          2010,
          1992,
          1964,
          2016,
          2007,
          2020,
          2012,
          2021,
          1981,
          1994,
          1990,
          2021,
          1999,
          2020,
          1966,
          2011,
          2012,
          2021,
          2001,
          2017,
          2020,
          2020,
          1992,
          1991,
          1969,
          2020,
          1991,
          2020,
          2022,
          1988,
          2014,
          2000,
          2019,
          2022,
          2014,
          2016,
          2014,
          1989,
          2021,
          2012,
          1985,
          2014,
          1975,
          2009,
          1967,
          2020,
          2021,
          2015,
          2019,
          1948,
          2020,
          2006,
          2001,
          1962,
          2020,
          2010,
          2005,
          2019,
          2017,
          2008,
          1940,
          1959,
          2020,
          2005,
          2002,
          2000,
          2010,
          2023,
          2012,
          2003,
          2005,
          2019,
          1985,
          2011,
          2020,
          2016,
          2009,
          2008,
          2011,
          1962,
          2001,
          2019,
          2013,
          2008,
          2019,
          2018,
          1977,
          1977,
          2022,
          2020,
          1999,
          1945,
          2018,
          2021,
          2017,
          1973,
          2000,
          2017,
          2021,
          1995,
          2005,
          2021,
          1984,
          1975,
          2021,
          2011,
          1999,
          2020,
          2019,
          1987,
          1974,
          2011,
          2019,
          2015,
          2021,
          1993,
          1989,
          1974,
          2021,
          2014,
          2019,
          2007,
          1948,
          2009,
          2014,
          2010,
          2020,
          2021,
          2022,
          1986,
          1964,
          2022,
          1994,
          1961,
          2010,
          1987,
          1943,
          1999,
          2021,
          2000,
          2005,
          2021,
          1999,
          1999,
          2020,
          2003,
          2010,
          1976,
          2020,
          2020,
          2021,
          2003,
          2022,
          2019,
          2016,
          2003,
          2001,
          2020,
          2017,
          1995,
          2005,
          2003,
          1994,
          2014,
          1994,
          2003,
          2008,
          2014,
          2004,
          2022,
          1979,
          1978,
          1991,
          2020,
          2001,
          1996,
          2018,
          2016,
          1999,
          2020,
          2010,
          2000,
          1969,
          2013,
          2016,
          2011,
          1975,
          2002,
          2004,
          2015,
          2020,
          1977,
          2015,
          2003,
          2000,
          1999,
          2000,
          2002,
          1989,
          2012,
          2016,
          1995,
          1979,
          2014,
          2008,
          2022,
          2014,
          1976,
          2017,
          2010,
          1974,
          2000,
          2022,
          2008,
          2002,
          1996,
          2009,
          2002,
          2022,
          2015,
          2020,
          2004,
          2004,
          2005,
          1980,
          1974,
          2009,
          2020,
          2015,
          2019,
          2021,
          2022,
          1996,
          2010,
          1988,
          2020,
          2002,
          1972,
          2005,
          2003,
          1976,
          1978,
          2001,
          2019,
          2013,
          2020,
          2013,
          1998,
          2005,
          2009,
          2019,
          2004,
          2000,
          1971,
          2007,
          1977,
          2019,
          2018,
          2022,
          2022,
          2005,
          2009,
          2004,
          2021,
          2022,
          2002,
          2022,
          1993,
          1993,
          2007,
          2010,
          2016,
          2005,
          2022,
          2005,
          2019,
          2000,
          2019,
          2015,
          2022,
          2021,
          2005,
          1997,
          1975,
          2002,
          2003,
          1995,
          2000,
          2020,
          2005,
          2006,
          2020,
          2019,
          2006,
          1995,
          2022,
          2019,
          1998,
          2004,
          1998,
          2007,
          2003,
          1990,
          2007,
          2006,
          2018,
          2022,
          2011,
          2011,
          2016,
          2000,
          1985,
          2001,
          2000,
          2004,
          1971,
          2006,
          1996,
          1994,
          2022,
          2022,
          2002,
          2003,
          2009,
          2010,
          2012,
          2005,
          1984,
          1997,
          2020,
          2016,
          2005,
          2019,
          2014,
          2006,
          1994,
          2010,
          2021,
          2019,
          2018,
          2019,
          1995,
          2004,
          1995,
          1997,
          2001,
          1979,
          2002,
          2006,
          2017,
          1996,
          2020,
          2008,
          2003,
          2007,
          2009,
          2011,
          2022,
          1999,
          2021,
          2012,
          2001,
          2002,
          2019,
          2022,
          2006,
          2022,
          2009,
          2023,
          2021,
          2004,
          2014,
          2022,
          2012,
          2013,
          2020,
          1997,
          2021,
          2005,
          2008,
          1999,
          1999,
          1980,
          1992,
          2015,
          2010,
          2005,
          2022,
          2022,
          2007,
          2006,
          2021,
          2009,
          2020,
          2003,
          2000,
          2021,
          2021,
          2012,
          2019,
          1995,
          2007,
          1997,
          2020,
          2008,
          2022,
          1998,
          2009,
          2004,
          2022,
          2022,
          2001,
          1997,
          2009,
          2023,
          2008,
          2022,
          2015,
          2016,
          2017,
          2002,
          2018,
          2020,
          1999,
          2012,
          1997,
          1998,
          2008,
          2018,
          2019,
          2021,
          2020,
          2012,
          1996,
          2002,
          2008,
          2009
         ],
         "xaxis": "x",
         "yaxis": "y"
        }
       ],
       "layout": {
        "barmode": "relative",
        "legend": {
         "title": {
          "text": "Type"
         },
         "tracegroupgap": 0
        },
        "template": {
         "data": {
          "bar": [
           {
            "error_x": {
             "color": "#2a3f5f"
            },
            "error_y": {
             "color": "#2a3f5f"
            },
            "marker": {
             "line": {
              "color": "#E5ECF6",
              "width": 0.5
             },
             "pattern": {
              "fillmode": "overlay",
              "size": 10,
              "solidity": 0.2
             }
            },
            "type": "bar"
           }
          ],
          "barpolar": [
           {
            "marker": {
             "line": {
              "color": "#E5ECF6",
              "width": 0.5
             },
             "pattern": {
              "fillmode": "overlay",
              "size": 10,
              "solidity": 0.2
             }
            },
            "type": "barpolar"
           }
          ],
          "carpet": [
           {
            "aaxis": {
             "endlinecolor": "#2a3f5f",
             "gridcolor": "white",
             "linecolor": "white",
             "minorgridcolor": "white",
             "startlinecolor": "#2a3f5f"
            },
            "baxis": {
             "endlinecolor": "#2a3f5f",
             "gridcolor": "white",
             "linecolor": "white",
             "minorgridcolor": "white",
             "startlinecolor": "#2a3f5f"
            },
            "type": "carpet"
           }
          ],
          "choropleth": [
           {
            "colorbar": {
             "outlinewidth": 0,
             "ticks": ""
            },
            "type": "choropleth"
           }
          ],
          "contour": [
           {
            "colorbar": {
             "outlinewidth": 0,
             "ticks": ""
            },
            "colorscale": [
             [
              0,
              "#0d0887"
             ],
             [
              0.1111111111111111,
              "#46039f"
             ],
             [
              0.2222222222222222,
              "#7201a8"
             ],
             [
              0.3333333333333333,
              "#9c179e"
             ],
             [
              0.4444444444444444,
              "#bd3786"
             ],
             [
              0.5555555555555556,
              "#d8576b"
             ],
             [
              0.6666666666666666,
              "#ed7953"
             ],
             [
              0.7777777777777778,
              "#fb9f3a"
             ],
             [
              0.8888888888888888,
              "#fdca26"
             ],
             [
              1,
              "#f0f921"
             ]
            ],
            "type": "contour"
           }
          ],
          "contourcarpet": [
           {
            "colorbar": {
             "outlinewidth": 0,
             "ticks": ""
            },
            "type": "contourcarpet"
           }
          ],
          "heatmap": [
           {
            "colorbar": {
             "outlinewidth": 0,
             "ticks": ""
            },
            "colorscale": [
             [
              0,
              "#0d0887"
             ],
             [
              0.1111111111111111,
              "#46039f"
             ],
             [
              0.2222222222222222,
              "#7201a8"
             ],
             [
              0.3333333333333333,
              "#9c179e"
             ],
             [
              0.4444444444444444,
              "#bd3786"
             ],
             [
              0.5555555555555556,
              "#d8576b"
             ],
             [
              0.6666666666666666,
              "#ed7953"
             ],
             [
              0.7777777777777778,
              "#fb9f3a"
             ],
             [
              0.8888888888888888,
              "#fdca26"
             ],
             [
              1,
              "#f0f921"
             ]
            ],
            "type": "heatmap"
           }
          ],
          "heatmapgl": [
           {
            "colorbar": {
             "outlinewidth": 0,
             "ticks": ""
            },
            "colorscale": [
             [
              0,
              "#0d0887"
             ],
             [
              0.1111111111111111,
              "#46039f"
             ],
             [
              0.2222222222222222,
              "#7201a8"
             ],
             [
              0.3333333333333333,
              "#9c179e"
             ],
             [
              0.4444444444444444,
              "#bd3786"
             ],
             [
              0.5555555555555556,
              "#d8576b"
             ],
             [
              0.6666666666666666,
              "#ed7953"
             ],
             [
              0.7777777777777778,
              "#fb9f3a"
             ],
             [
              0.8888888888888888,
              "#fdca26"
             ],
             [
              1,
              "#f0f921"
             ]
            ],
            "type": "heatmapgl"
           }
          ],
          "histogram": [
           {
            "marker": {
             "pattern": {
              "fillmode": "overlay",
              "size": 10,
              "solidity": 0.2
             }
            },
            "type": "histogram"
           }
          ],
          "histogram2d": [
           {
            "colorbar": {
             "outlinewidth": 0,
             "ticks": ""
            },
            "colorscale": [
             [
              0,
              "#0d0887"
             ],
             [
              0.1111111111111111,
              "#46039f"
             ],
             [
              0.2222222222222222,
              "#7201a8"
             ],
             [
              0.3333333333333333,
              "#9c179e"
             ],
             [
              0.4444444444444444,
              "#bd3786"
             ],
             [
              0.5555555555555556,
              "#d8576b"
             ],
             [
              0.6666666666666666,
              "#ed7953"
             ],
             [
              0.7777777777777778,
              "#fb9f3a"
             ],
             [
              0.8888888888888888,
              "#fdca26"
             ],
             [
              1,
              "#f0f921"
             ]
            ],
            "type": "histogram2d"
           }
          ],
          "histogram2dcontour": [
           {
            "colorbar": {
             "outlinewidth": 0,
             "ticks": ""
            },
            "colorscale": [
             [
              0,
              "#0d0887"
             ],
             [
              0.1111111111111111,
              "#46039f"
             ],
             [
              0.2222222222222222,
              "#7201a8"
             ],
             [
              0.3333333333333333,
              "#9c179e"
             ],
             [
              0.4444444444444444,
              "#bd3786"
             ],
             [
              0.5555555555555556,
              "#d8576b"
             ],
             [
              0.6666666666666666,
              "#ed7953"
             ],
             [
              0.7777777777777778,
              "#fb9f3a"
             ],
             [
              0.8888888888888888,
              "#fdca26"
             ],
             [
              1,
              "#f0f921"
             ]
            ],
            "type": "histogram2dcontour"
           }
          ],
          "mesh3d": [
           {
            "colorbar": {
             "outlinewidth": 0,
             "ticks": ""
            },
            "type": "mesh3d"
           }
          ],
          "parcoords": [
           {
            "line": {
             "colorbar": {
              "outlinewidth": 0,
              "ticks": ""
             }
            },
            "type": "parcoords"
           }
          ],
          "pie": [
           {
            "automargin": true,
            "type": "pie"
           }
          ],
          "scatter": [
           {
            "marker": {
             "colorbar": {
              "outlinewidth": 0,
              "ticks": ""
             }
            },
            "type": "scatter"
           }
          ],
          "scatter3d": [
           {
            "line": {
             "colorbar": {
              "outlinewidth": 0,
              "ticks": ""
             }
            },
            "marker": {
             "colorbar": {
              "outlinewidth": 0,
              "ticks": ""
             }
            },
            "type": "scatter3d"
           }
          ],
          "scattercarpet": [
           {
            "marker": {
             "colorbar": {
              "outlinewidth": 0,
              "ticks": ""
             }
            },
            "type": "scattercarpet"
           }
          ],
          "scattergeo": [
           {
            "marker": {
             "colorbar": {
              "outlinewidth": 0,
              "ticks": ""
             }
            },
            "type": "scattergeo"
           }
          ],
          "scattergl": [
           {
            "marker": {
             "colorbar": {
              "outlinewidth": 0,
              "ticks": ""
             }
            },
            "type": "scattergl"
           }
          ],
          "scattermapbox": [
           {
            "marker": {
             "colorbar": {
              "outlinewidth": 0,
              "ticks": ""
             }
            },
            "type": "scattermapbox"
           }
          ],
          "scatterpolar": [
           {
            "marker": {
             "colorbar": {
              "outlinewidth": 0,
              "ticks": ""
             }
            },
            "type": "scatterpolar"
           }
          ],
          "scatterpolargl": [
           {
            "marker": {
             "colorbar": {
              "outlinewidth": 0,
              "ticks": ""
             }
            },
            "type": "scatterpolargl"
           }
          ],
          "scatterternary": [
           {
            "marker": {
             "colorbar": {
              "outlinewidth": 0,
              "ticks": ""
             }
            },
            "type": "scatterternary"
           }
          ],
          "surface": [
           {
            "colorbar": {
             "outlinewidth": 0,
             "ticks": ""
            },
            "colorscale": [
             [
              0,
              "#0d0887"
             ],
             [
              0.1111111111111111,
              "#46039f"
             ],
             [
              0.2222222222222222,
              "#7201a8"
             ],
             [
              0.3333333333333333,
              "#9c179e"
             ],
             [
              0.4444444444444444,
              "#bd3786"
             ],
             [
              0.5555555555555556,
              "#d8576b"
             ],
             [
              0.6666666666666666,
              "#ed7953"
             ],
             [
              0.7777777777777778,
              "#fb9f3a"
             ],
             [
              0.8888888888888888,
              "#fdca26"
             ],
             [
              1,
              "#f0f921"
             ]
            ],
            "type": "surface"
           }
          ],
          "table": [
           {
            "cells": {
             "fill": {
              "color": "#EBF0F8"
             },
             "line": {
              "color": "white"
             }
            },
            "header": {
             "fill": {
              "color": "#C8D4E3"
             },
             "line": {
              "color": "white"
             }
            },
            "type": "table"
           }
          ]
         },
         "layout": {
          "annotationdefaults": {
           "arrowcolor": "#2a3f5f",
           "arrowhead": 0,
           "arrowwidth": 1
          },
          "autotypenumbers": "strict",
          "coloraxis": {
           "colorbar": {
            "outlinewidth": 0,
            "ticks": ""
           }
          },
          "colorscale": {
           "diverging": [
            [
             0,
             "#8e0152"
            ],
            [
             0.1,
             "#c51b7d"
            ],
            [
             0.2,
             "#de77ae"
            ],
            [
             0.3,
             "#f1b6da"
            ],
            [
             0.4,
             "#fde0ef"
            ],
            [
             0.5,
             "#f7f7f7"
            ],
            [
             0.6,
             "#e6f5d0"
            ],
            [
             0.7,
             "#b8e186"
            ],
            [
             0.8,
             "#7fbc41"
            ],
            [
             0.9,
             "#4d9221"
            ],
            [
             1,
             "#276419"
            ]
           ],
           "sequential": [
            [
             0,
             "#0d0887"
            ],
            [
             0.1111111111111111,
             "#46039f"
            ],
            [
             0.2222222222222222,
             "#7201a8"
            ],
            [
             0.3333333333333333,
             "#9c179e"
            ],
            [
             0.4444444444444444,
             "#bd3786"
            ],
            [
             0.5555555555555556,
             "#d8576b"
            ],
            [
             0.6666666666666666,
             "#ed7953"
            ],
            [
             0.7777777777777778,
             "#fb9f3a"
            ],
            [
             0.8888888888888888,
             "#fdca26"
            ],
            [
             1,
             "#f0f921"
            ]
           ],
           "sequentialminus": [
            [
             0,
             "#0d0887"
            ],
            [
             0.1111111111111111,
             "#46039f"
            ],
            [
             0.2222222222222222,
             "#7201a8"
            ],
            [
             0.3333333333333333,
             "#9c179e"
            ],
            [
             0.4444444444444444,
             "#bd3786"
            ],
            [
             0.5555555555555556,
             "#d8576b"
            ],
            [
             0.6666666666666666,
             "#ed7953"
            ],
            [
             0.7777777777777778,
             "#fb9f3a"
            ],
            [
             0.8888888888888888,
             "#fdca26"
            ],
            [
             1,
             "#f0f921"
            ]
           ]
          },
          "colorway": [
           "#636efa",
           "#EF553B",
           "#00cc96",
           "#ab63fa",
           "#FFA15A",
           "#19d3f3",
           "#FF6692",
           "#B6E880",
           "#FF97FF",
           "#FECB52"
          ],
          "font": {
           "color": "#2a3f5f"
          },
          "geo": {
           "bgcolor": "white",
           "lakecolor": "white",
           "landcolor": "#E5ECF6",
           "showlakes": true,
           "showland": true,
           "subunitcolor": "white"
          },
          "hoverlabel": {
           "align": "left"
          },
          "hovermode": "closest",
          "mapbox": {
           "style": "light"
          },
          "paper_bgcolor": "white",
          "plot_bgcolor": "#E5ECF6",
          "polar": {
           "angularaxis": {
            "gridcolor": "white",
            "linecolor": "white",
            "ticks": ""
           },
           "bgcolor": "#E5ECF6",
           "radialaxis": {
            "gridcolor": "white",
            "linecolor": "white",
            "ticks": ""
           }
          },
          "scene": {
           "xaxis": {
            "backgroundcolor": "#E5ECF6",
            "gridcolor": "white",
            "gridwidth": 2,
            "linecolor": "white",
            "showbackground": true,
            "ticks": "",
            "zerolinecolor": "white"
           },
           "yaxis": {
            "backgroundcolor": "#E5ECF6",
            "gridcolor": "white",
            "gridwidth": 2,
            "linecolor": "white",
            "showbackground": true,
            "ticks": "",
            "zerolinecolor": "white"
           },
           "zaxis": {
            "backgroundcolor": "#E5ECF6",
            "gridcolor": "white",
            "gridwidth": 2,
            "linecolor": "white",
            "showbackground": true,
            "ticks": "",
            "zerolinecolor": "white"
           }
          },
          "shapedefaults": {
           "line": {
            "color": "#2a3f5f"
           }
          },
          "ternary": {
           "aaxis": {
            "gridcolor": "white",
            "linecolor": "white",
            "ticks": ""
           },
           "baxis": {
            "gridcolor": "white",
            "linecolor": "white",
            "ticks": ""
           },
           "bgcolor": "#E5ECF6",
           "caxis": {
            "gridcolor": "white",
            "linecolor": "white",
            "ticks": ""
           }
          },
          "title": {
           "x": 0.05
          },
          "xaxis": {
           "automargin": true,
           "gridcolor": "white",
           "linecolor": "white",
           "ticks": "",
           "title": {
            "standoff": 15
           },
           "zerolinecolor": "white",
           "zerolinewidth": 2
          },
          "yaxis": {
           "automargin": true,
           "gridcolor": "white",
           "linecolor": "white",
           "ticks": "",
           "title": {
            "standoff": 15
           },
           "zerolinecolor": "white",
           "zerolinewidth": 2
          }
         }
        },
        "title": {
         "text": "Distribution of Movies and Shows by Release Year"
        },
        "xaxis": {
         "anchor": "y",
         "domain": [
          0,
          1
         ],
         "title": {
          "text": "Release Year"
         }
        },
        "yaxis": {
         "anchor": "x",
         "domain": [
          0,
          1
         ],
         "title": {
          "text": "count"
         }
        }
       }
      }
     },
     "metadata": {},
     "output_type": "display_data"
    }
   ],
   "source": [
    "#Creating a histogram based on analysed_data with release year on x-axis and count on y-axis. Adding color based on 'type' column. Setting labels for better readability. \n",
    "fig_histogram = px.histogram(analysed_data, x=\"release_year\", nbins=10, color=\"type\",\n",
    "                   labels={\"release_year\": \"Release Year\", \"count\": \"Count\", \"type\": \"Type\"},\n",
    "                   title=\"Distribution of Movies and Shows by Release Year\")\n",
    "\n",
    "fig_histogram.show()"
   ]
  },
  {
   "cell_type": "code",
   "execution_count": 56,
   "metadata": {},
   "outputs": [
    {
     "data": {
      "application/vnd.plotly.v1+json": {
       "config": {
        "plotlyServerURL": "https://plot.ly"
       },
       "data": [
        {
         "customdata": [
          [
           "Bluey"
          ],
          [
           "The Wizard of Paws"
          ],
          [
           "The Beatles: Get Back"
          ],
          [
           "Dickie V"
          ],
          [
           "Critter Fixers: Country Vets"
          ],
          [
           "The Lion Ranger"
          ],
          [
           "Heartland Docs, DVM"
          ],
          [
           "Light & Magic"
          ],
          [
           "Marvel Studios Assembled: The Making of Hawkeye"
          ],
          [
           "One Strange Rock"
          ],
          [
           "The Mandalorian"
          ],
          [
           "Super/Natural"
          ],
          [
           "The Empire Strikes Back"
          ],
          [
           "The Simpsons"
          ],
          [
           "Marvel's Daredevil"
          ],
          [
           "Ultimate Survival WWII"
          ],
          [
           "BTS: Permission to Dance on Stage - LA"
          ],
          [
           "Star Wars"
          ],
          [
           "Shipwreck Hunters Australia"
          ],
          [
           "Marvel Studios ASSEMBLED: The Making of WandaVision"
          ],
          [
           "The Making of Loki"
          ],
          [
           "Savage Kingdom"
          ],
          [
           "Marvel's The Punisher"
          ],
          [
           "The Lion King"
          ],
          [
           "Into the Unknown: Making Frozen II"
          ],
          [
           "The Incredible Dr. Pol"
          ],
          [
           "Dr. Oakley, Yukon Vet"
          ],
          [
           "Meet the Chimps"
          ],
          [
           "X-Men"
          ],
          [
           "Secret Life of Predators"
          ],
          [
           "Hamilton"
          ],
          [
           "Folklore: The Long Pond Studio Sessions"
          ],
          [
           "Wild Russia"
          ],
          [
           "So Weird"
          ],
          [
           "In the SOOP: Friendcation"
          ],
          [
           "The Owl House"
          ],
          [
           "The Rescue"
          ],
          [
           "Star Wars: The Clone Wars"
          ],
          [
           "Epic Adventures with Bertie Gregory"
          ],
          [
           "Star Wars: Andor"
          ],
          [
           "WALL·E"
          ],
          [
           "Secrets of the Whales"
          ],
          [
           "Avengers: Endgame"
          ],
          [
           "Secrets of the Zoo"
          ],
          [
           "Spider-Man"
          ],
          [
           "Avengers: Infinity War"
          ],
          [
           "Coco"
          ],
          [
           "Disney Gallery / Star Wars: The Mandalorian"
          ],
          [
           "The Muppet Show"
          ],
          [
           "Return of the Jedi"
          ],
          [
           "DuckTales"
          ],
          [
           "Toy Story 3"
          ],
          [
           "Newsies"
          ],
          [
           "The Avengers: Earth's Mightiest Heroes"
          ],
          [
           "Forged in Fire"
          ],
          [
           "Pop Goes the Vet"
          ],
          [
           "Hostile Planet"
          ],
          [
           "Gravity Falls"
          ],
          [
           "Amphibia"
          ],
          [
           "Up"
          ],
          [
           "Magic of Disney's Animal Kingdom"
          ],
          [
           "Great Barrier Reef"
          ],
          [
           "Unknown Waters with Jeremy Wade"
          ],
          [
           "The Spectacular Spider-Man"
          ],
          [
           "Phineas and Ferb"
          ],
          [
           "The Low Tone Club"
          ],
          [
           "@Gina Yei: #WithAllMyHeartAndMore"
          ],
          [
           "Toy Story"
          ],
          [
           "Inside Out"
          ],
          [
           "Dr K's Exotic Animal ER"
          ],
          [
           "Loki"
          ],
          [
           "Snowdrop"
          ],
          [
           "Akashinga: The Brave Ones"
          ],
          [
           "Zorro"
          ],
          [
           "The Mouseketeers at Walt Disney World"
          ],
          [
           "Once"
          ],
          [
           "TRON: Uprising"
          ],
          [
           "Brain Games"
          ],
          [
           "Schoolhouse Rock!"
          ],
          [
           "Before the Flood"
          ],
          [
           "Just Love and a Thousand Songs"
          ],
          [
           "Logan"
          ],
          [
           "Secrets of the Zoo: North Carolina"
          ],
          [
           "DuckTales"
          ],
          [
           "Monsters, Inc."
          ],
          [
           "Hubble's Cosmic Journey"
          ],
          [
           "Feast"
          ],
          [
           "Car S.O.S."
          ],
          [
           "Mickey Mouse"
          ],
          [
           "The Wild Life of Dr. Ole"
          ],
          [
           "Gargoyles"
          ],
          [
           "Cesar Millan: Better Human, Better Dog"
          ],
          [
           "Dug Days"
          ],
          [
           "Finding Nemo"
          ],
          [
           "Dr. T, Lone Star Vet"
          ],
          [
           "Limitless with Chris Hemsworth"
          ],
          [
           "Pirates of the Caribbean: The Curse of the Black Pearl"
          ],
          [
           "Spin and Marty"
          ],
          [
           "The Sound of Music"
          ],
          [
           "Free Solo"
          ],
          [
           "Ratatouille"
          ],
          [
           "Europe From Above"
          ],
          [
           "Shake It Up"
          ],
          [
           "The Book of Manning"
          ],
          [
           "Love, Victor"
          ],
          [
           "The Straight Story"
          ],
          [
           "Kingdom of the White Wolf"
          ],
          [
           "Zootopia"
          ],
          [
           "Beauty and the Beast"
          ],
          [
           "The Princess Bride"
          ],
          [
           "Star Wars Rebels"
          ],
          [
           "Aladdin"
          ],
          [
           "Star vs. the Forces of Evil"
          ],
          [
           "Secrets of Wild India"
          ],
          [
           "Great Migrations"
          ],
          [
           "Prairie Dog Manor"
          ],
          [
           "Soul"
          ],
          [
           "Summer of Soul (...Or, When the Revolution Could Not Be Televised)"
          ],
          [
           "Boy Meets World"
          ],
          [
           "Guardians of the Galaxy"
          ],
          [
           "America the Beautiful"
          ],
          [
           "The Incredibles"
          ],
          [
           "Deadpool"
          ],
          [
           "The Avengers"
          ],
          [
           "Wolverine and the X-Men"
          ],
          [
           "The Orville"
          ],
          [
           "Growing Up Animal"
          ],
          [
           "X-Men: Days of Future Past"
          ],
          [
           "Marvel's Jessica Jones"
          ],
          [
           "Life Below Zero"
          ],
          [
           "Born Wild: The Next Generation"
          ],
          [
           "Miracle on 34th Street"
          ],
          [
           "Thor: Ragnarok"
          ],
          [
           "Ice Road Rescue"
          ],
          [
           "Avatar"
          ],
          [
           "The Wonderful World of Mickey Mouse"
          ],
          [
           "Welcome to Earth"
          ],
          [
           "Iron Man"
          ],
          [
           "Recess"
          ],
          [
           "It Was Always Me: Behind the Story"
          ],
          [
           "Togo"
          ],
          [
           "Jane Goodall: The Hope"
          ],
          [
           "On Pointe"
          ],
          [
           "Weird But True"
          ],
          [
           "Toy Story 2"
          ],
          [
           "WandaVision"
          ],
          [
           "Marvel's Agent Carter"
          ],
          [
           "Adventures in Wonderland"
          ],
          [
           "The Nightmare Before Christmas"
          ],
          [
           "Marvel Studios Assembled: The Making of Eternals"
          ],
          [
           "It's a Dog's Life with Bill Farmer"
          ],
          [
           "Elton John Live: Farewell from Dodger Stadium"
          ],
          [
           "Edge of the Unknown with Jimmy Chin"
          ],
          [
           "Shook"
          ],
          [
           "Primal Survivor"
          ],
          [
           "Le Pupille"
          ],
          [
           "Sumo Do, Sumo Don't"
          ],
          [
           "Captain America: The Winter Soldier"
          ],
          [
           "Big Hero 6"
          ],
          [
           "Witness to Disaster"
          ],
          [
           "Soundtrack #1"
          ],
          [
           "Legend of the Three Caballeros"
          ],
          [
           "Hidden Figures"
          ],
          [
           "7 Toughest Days"
          ],
          [
           "Mary Poppins"
          ],
          [
           "X-Men: Evolution"
          ],
          [
           "Isle of Dogs"
          ],
          [
           "Star Wars: The Bad Batch"
          ],
          [
           "Rogue One: A Star Wars Story"
          ],
          [
           "Remember the Titans"
          ],
          [
           "Captain America: Civil War"
          ],
          [
           "Star Wars: The Force Awakens"
          ],
          [
           "Among the Stars"
          ],
          [
           "America's Funniest Home Videos: Animal Edition"
          ],
          [
           "Star Wars: Clone Wars"
          ],
          [
           "Jane"
          ],
          [
           "Live in Front of a Studio Audience: The Facts of Life and Diff'rent Strokes"
          ],
          [
           "Dian Fossey: Secrets in the Mist"
          ],
          [
           "China From Above"
          ],
          [
           "Werewolf by Night"
          ],
          [
           "The Boys: The Sherman Brothers' Story"
          ],
          [
           "The Pixar Story"
          ],
          [
           "Oceans"
          ],
          [
           "Wreck-It Ralph"
          ],
          [
           "Gathering Storm"
          ],
          [
           "Small & Mighty"
          ],
          [
           "The Greeks"
          ],
          [
           "Behind the Attraction"
          ],
          [
           "Tangled"
          ],
          [
           "Toy Story 4"
          ],
          [
           "The Finder"
          ],
          [
           "Life Below Zero: Northern Territories"
          ],
          [
           "Encanto Sing-Along"
          ],
          [
           "Once Upon a Time"
          ],
          [
           "Fantasia"
          ],
          [
           "Home Alone"
          ],
          [
           "Sea of Hope: America's Underwater Treasures"
          ],
          [
           "Miraculous: Tales of Ladybug & Cat Noir"
          ],
          [
           "Gordon Ramsay: Uncharted"
          ],
          [
           "The Muppet Christmas Carol"
          ],
          [
           "Who Framed Roger Rabbit"
          ],
          [
           "Rapunzel's Tangled Adventure"
          ],
          [
           "Deadpool 2"
          ],
          [
           "Frank and Ollie"
          ],
          [
           "The Mysterious Benedict Society"
          ],
          [
           "Incredibles 2"
          ],
          [
           "Wild Cats of India"
          ],
          [
           "I Didn't Do It"
          ],
          [
           "Alias"
          ],
          [
           "Milo Murphy's Law"
          ],
          [
           "The New Adventures of Winnie the Pooh"
          ],
          [
           "The Little Mermaid"
          ],
          [
           "Man vs. Child: Chef Showdown"
          ],
          [
           "Fire of Love"
          ],
          [
           "Wild Chile: Un viaje salvaje"
          ],
          [
           "Lost Treasures of Rome"
          ],
          [
           "Chip 'n' Dale Rescue Rangers"
          ],
          [
           "Darkwing Duck"
          ],
          [
           "The Muppet Movie"
          ],
          [
           "Hacking the System"
          ],
          [
           "Guardians of the Galaxy Vol. 2"
          ],
          [
           "Prep & Landing"
          ],
          [
           "Moana"
          ],
          [
           "Star Wars: Episode III - Revenge of the Sith"
          ],
          [
           "Running Wild with Bear Grylls"
          ],
          [
           "The World According to Jeff Goldblum"
          ],
          [
           "Snow White and the Seven Dwarfs"
          ],
          [
           "The Dominican Dream"
          ],
          [
           "Into the Okavango"
          ],
          [
           "Evil Genius"
          ],
          [
           "The Flood"
          ],
          [
           "Mulan"
          ],
          [
           "Marvel's Moon Girl and Devil Dinosaur"
          ],
          [
           "Lost Cities with Albert Lin"
          ],
          [
           "Even Stevens"
          ],
          [
           "The Jungle Book"
          ],
          [
           "Disney's Broadway Hits at London's Royal Albert Hall"
          ],
          [
           "Encore!"
          ],
          [
           "Secrets of Sulphur Springs"
          ],
          [
           "Drain the Oceans"
          ],
          [
           "Hawkeye"
          ],
          [
           "Waking Sleeping Beauty"
          ],
          [
           "Marvel's The Defenders"
          ],
          [
           "Ice Age"
          ],
          [
           "Beyond Magic with DMC"
          ],
          [
           "Wild Nordic"
          ],
          [
           "Shang-Chi and the Legend of the Ten Rings"
          ],
          [
           "Disney's Adventures of the Gummi Bears"
          ],
          [
           "Apollo: Missions to the Moon"
          ],
          [
           "The Many Adventures of Winnie the Pooh"
          ],
          [
           "Pinocchio"
          ],
          [
           "Luca"
          ],
          [
           "Out of the Box"
          ],
          [
           "Lance"
          ],
          [
           "African Cats"
          ],
          [
           "The Kangaroo King"
          ],
          [
           "Howard"
          ],
          [
           "Science Fair"
          ],
          [
           "Doctor Strange"
          ],
          [
           "Robin Hood"
          ],
          [
           "Torn"
          ],
          [
           "Playing with Sharks"
          ],
          [
           "Big Shot"
          ],
          [
           "Clouds"
          ],
          [
           "Japan: Between Earth & Sky"
          ],
          [
           "Descendants 2"
          ],
          [
           "Harmonious Live!"
          ],
          [
           "Toy Story of Terror!"
          ],
          [
           "Encanto at the Hollywood Bowl"
          ],
          [
           "TaleSpin"
          ],
          [
           "Wild Congo"
          ],
          [
           "Dinosaurs"
          ],
          [
           "America's National Parks"
          ],
          [
           "The Flagmakers"
          ],
          [
           "Ultimate Airport Dubai"
          ],
          [
           "The Territory"
          ],
          [
           "Marvel's Agents of S.H.I.E.L.D."
          ],
          [
           "Saving Mr. Banks"
          ],
          [
           "The Art of Racing in the Rain"
          ],
          [
           "The Greatest Showman"
          ],
          [
           "None of the Above"
          ],
          [
           "Big City Greens"
          ],
          [
           "Big Hero 6 The Series"
          ],
          [
           "Frozen"
          ],
          [
           "The Jungle Book"
          ],
          [
           "LEGO Star Wars: The Freemaker Adventures"
          ],
          [
           "Mexico Untamed"
          ],
          [
           "Chasing Waves"
          ],
          [
           "Retrograde"
          ],
          [
           "X2"
          ],
          [
           "The Emperor's New Groove"
          ],
          [
           "Doug"
          ],
          [
           "Pollyanna"
          ],
          [
           "Tru Confessions"
          ],
          [
           "Buried Secrets of WWII"
          ],
          [
           "The Ghost and Molly McGee"
          ],
          [
           "Miracle"
          ],
          [
           "Phineas and Ferb: The Movie: Across the 2nd Dimension"
          ],
          [
           "Sketchbook"
          ],
          [
           "Wild Yellowstone"
          ],
          [
           "Expedition Mars"
          ],
          [
           "Onward"
          ],
          [
           "The Muppets"
          ],
          [
           "What If...?"
          ],
          [
           "Smart Guy"
          ],
          [
           "Queen of Katwe"
          ],
          [
           "LEGO Star Wars: Droid Tales"
          ],
          [
           "The Living Desert"
          ],
          [
           "Mars"
          ],
          [
           "The Most Magical Story on Earth: 50 Years of Walt Disney World"
          ],
          [
           "The Greatest Game Ever Played"
          ],
          [
           "Gorongosa: Paradise Reborn"
          ],
          [
           "McFarland, USA"
          ],
          [
           "Breaking2"
          ],
          [
           "Raya and the Last Dragon"
          ],
          [
           "The Witch Doctor Will See You Now"
          ],
          [
           "One Hundred and One Dalmatians"
          ],
          [
           "Sea of Shadows"
          ],
          [
           "Moon Knight"
          ],
          [
           "Bambi"
          ],
          [
           "Ant-Man"
          ],
          [
           "The Simpsons Movie"
          ],
          [
           "MARS: Inside SpaceX"
          ],
          [
           "Finding Dory"
          ],
          [
           "Lady and the Tramp"
          ],
          [
           "Mr. Holland's Opus"
          ],
          [
           "The Mighty Ducks: Game Changers"
          ],
          [
           "Year Million"
          ],
          [
           "Cinderella"
          ],
          [
           "Wander Over Yonder"
          ],
          [
           "Prep & Landing: Naughty vs. Nice"
          ],
          [
           "Alice in Wonderland"
          ],
          [
           "Eight Below"
          ],
          [
           "Peter Pan"
          ],
          [
           "Hercules"
          ],
          [
           "Old Yeller"
          ],
          [
           "Secrets of Life"
          ],
          [
           "Pirates of the Caribbean: Dead Man's Chest"
          ],
          [
           "Superkitties"
          ],
          [
           "Marvel Studios: Assembling a Universe"
          ],
          [
           "10 Things I Hate About You"
          ],
          [
           "Marvel's Guardians of the Galaxy"
          ],
          [
           "Olaf Presents"
          ],
          [
           "Andi Mack"
          ],
          [
           "Tangled: Short Cuts"
          ],
          [
           "Inside Pixar"
          ],
          [
           "Surviving the Mount St. Helens Disaster"
          ],
          [
           "Youngstown Boys"
          ],
          [
           "Lilo & Stitch"
          ],
          [
           "The Crimson Wing: Mystery of the Flamingos"
          ],
          [
           "Wings of Life"
          ],
          [
           "Cruella"
          ],
          [
           "We Feed People"
          ],
          [
           "The Book of Boba Fett"
          ],
          [
           "Marvel's Luke Cage"
          ],
          [
           "Big"
          ],
          [
           "Black Panther"
          ],
          [
           "Tarzan"
          ],
          [
           "Stan Lee's Superhumans"
          ],
          [
           "Happier Than Ever: A Love Letter to Los Angeles"
          ],
          [
           "Avengers: Age of Ultron"
          ],
          [
           "Ice Age: Scrat Tales"
          ],
          [
           "Water & Power: A California Heist"
          ],
          [
           "Bears"
          ],
          [
           "Monkey Kingdom"
          ],
          [
           "Betty White Goes Wild"
          ],
          [
           "West Side Story"
          ],
          [
           "Adventure Thru the Walt Disney Archives"
          ],
          [
           "Born in China"
          ],
          [
           "Glory Road"
          ],
          [
           "If These Walls Could Sing"
          ],
          [
           "Christopher Robin"
          ],
          [
           "The Falcon and The Winter Soldier"
          ],
          [
           "The Real Right Stuff"
          ],
          [
           "D. Wade: Life Unexpected"
          ],
          [
           "Kingdom of the Mummies"
          ],
          [
           "Under the Helmet: The Legacy of Boba Fett"
          ],
          [
           "Elephant"
          ],
          [
           "Monsters University"
          ],
          [
           "Duck the Halls: A Mickey Mouse Christmas Special"
          ],
          [
           "Raven's Home"
          ],
          [
           "Expedition Amelia"
          ],
          [
           "Voices Rising: The Music of Wakanda Forever"
          ],
          [
           "Marvel's Ultimate Spider-Man"
          ],
          [
           "In the Footsteps of Elephant"
          ],
          [
           "Obi-Wan Kenobi: A Jedi's Return"
          ],
          [
           "The Biggest Little Farm: The Return"
          ],
          [
           "The Challenger Disaster: Lost Tapes"
          ],
          [
           "Cinderella: The Reunion, A Special Edition of 20/20"
          ],
          [
           "Year of the Scab"
          ],
          [
           "Secretariat"
          ],
          [
           "Encanto"
          ],
          [
           "Africa's Deadliest"
          ],
          [
           "Into the Grand Canyon"
          ],
          [
           "The Fox and the Hound"
          ],
          [
           "Kim Possible"
          ],
          [
           "The Vanishing Prairie"
          ],
          [
           "The African Lion"
          ],
          [
           "Spider-Man and His Amazing Friends"
          ],
          [
           "Bridge to Terabithia"
          ],
          [
           "Treasure Planet"
          ],
          [
           "The Parent Trap"
          ],
          [
           "Jungle Cat"
          ],
          [
           "The Color of Friendship"
          ],
          [
           "Greyfriars Bobby: The True Story of a Dog"
          ],
          [
           "Willow"
          ],
          [
           "Cars"
          ],
          [
           "Dumbo"
          ],
          [
           "Sleeping Beauty"
          ],
          [
           "A Bug's Life"
          ],
          [
           "20,000 Leagues Under the Sea"
          ],
          [
           "OLIVIA RODRIGO: driving home 2 u (a SOUR film)"
          ],
          [
           "Pepper Ann"
          ],
          [
           "Chasing Mavericks"
          ],
          [
           "Wild Hearts Can't Be Broken"
          ],
          [
           "Chimpanzee"
          ],
          [
           "The Sword in the Stone"
          ],
          [
           "The Great Muppet Caper"
          ],
          [
           "World's Deadliest"
          ],
          [
           "Beauty and the Beast"
          ],
          [
           "Fantasia 2000"
          ],
          [
           "Delicacies Destiny"
          ],
          [
           "Winnie the Pooh: A Valentine for You"
          ],
          [
           "Good Luck Charlie"
          ],
          [
           "High School Musical: The Musical: The Series"
          ],
          [
           "Iron Man 3"
          ],
          [
           "Becoming Cousteau"
          ],
          [
           "The Muppets"
          ],
          [
           "Penguins"
          ],
          [
           "Paperman"
          ],
          [
           "Darby O'Gill and the Little People"
          ],
          [
           "Obi-Wan Kenobi"
          ],
          [
           "The Lost City Of Machu Picchu"
          ],
          [
           "EverAfter"
          ],
          [
           "The Aristocats"
          ],
          [
           "Idina Menzel: Which Way to the Stage?"
          ],
          [
           "Third Man on the Mountain"
          ],
          [
           "Girl Meets World"
          ],
          [
           "Phineas and Ferb: The Movie: Candace Against the Universe"
          ],
          [
           "black-ish"
          ],
          [
           "We Bought a Zoo"
          ],
          [
           "Swiss Family Robinson"
          ],
          [
           "Kim Possible: So the Drama"
          ],
          [
           "Pirates of the Caribbean: At World's End"
          ],
          [
           "Winnie the Pooh"
          ],
          [
           "Toy Story That Time Forgot"
          ],
          [
           "Enchanted"
          ],
          [
           "Running Wild with Bear Grylls: The Challenge"
          ],
          [
           "Silver Surfer"
          ],
          [
           "Shark Queens"
          ],
          [
           "Birth of Europe"
          ],
          [
           "The Great Mouse Detective"
          ],
          [
           "Cesar Millan: The Real Story"
          ],
          [
           "Free Guy"
          ],
          [
           "Brave"
          ],
          [
           "Growing Up Wild"
          ],
          [
           "The Princess and the Frog"
          ],
          [
           "Baymax!"
          ],
          [
           "Wild Portugal"
          ],
          [
           "Oklahoma!"
          ],
          [
           "Ghost of the Mountains"
          ],
          [
           "Turning Red"
          ],
          [
           "Mars: One Day on the Red Planet"
          ],
          [
           "Notre Dame: Race Against the Inferno"
          ],
          [
           "Hello, Dolly!"
          ],
          [
           "One Day at Disney"
          ],
          [
           "High School Musical: The Musical: The Series: The Special"
          ],
          [
           "Imagination Movers"
          ],
          [
           "Ralph Breaks the Internet"
          ],
          [
           "Phil of the Future"
          ],
          [
           "Cool Runnings"
          ],
          [
           "Diving with Dolphins"
          ],
          [
           "Marvel's Avengers"
          ],
          [
           "Chip 'n Dale: Rescue Rangers"
          ],
          [
           "The Peanuts Movie"
          ],
          [
           "Director by Night"
          ],
          [
           "Thor"
          ],
          [
           "Invincible"
          ],
          [
           "8 Simple Rules... for Dating My Teenage Daughter"
          ],
          [
           "The Hunchback of Notre Dame"
          ],
          [
           "Timon & Pumbaa"
          ],
          [
           "Bedknobs and Broomsticks"
          ],
          [
           "The Journey of Natty Gann"
          ],
          [
           "Ron's Gone Wrong"
          ],
          [
           "Monsters at Work"
          ],
          [
           "Cars on the Road"
          ],
          [
           "Titanic: 20 Years Later with James Cameron"
          ],
          [
           "The Incredible Journey"
          ],
          [
           "Marvel: 75 Years, From Pulp to Pop!"
          ],
          [
           "Secret of the Wings"
          ],
          [
           "All the Same… or Not"
          ],
          [
           "Ant-Man and the Wasp"
          ],
          [
           "A Celebration of the Music from Coco"
          ],
          [
           "Rise"
          ],
          [
           "Holes"
          ],
          [
           "Wild Hawaii"
          ],
          [
           "Parallels"
          ],
          [
           "National Treasure"
          ],
          [
           "Mickey: The Story of a Mouse"
          ],
          [
           "Muppet Treasure Island"
          ],
          [
           "The Sign of Zorro"
          ],
          [
           "A Goofy Movie"
          ],
          [
           "Spider-Man: The New Animated Series"
          ],
          [
           "Spider-Man"
          ],
          [
           "Doctor Strange in the Multiverse of Madness"
          ],
          [
           "Sofia the First"
          ],
          [
           "Wolfgang"
          ],
          [
           "Adventures in Babysitting"
          ],
          [
           "Bear Witness"
          ],
          [
           "The Adventures of Ichabod and Mr. Toad"
          ],
          [
           "Hamster & Gretel"
          ],
          [
           "Lemonade Mouth"
          ],
          [
           "Mark Twain and Me"
          ],
          [
           "Wizards of Waverly Place"
          ],
          [
           "The Guardians of the Galaxy Holiday Special"
          ],
          [
           "Bloody Tales of Europe"
          ],
          [
           "Firebuds"
          ],
          [
           "Treasure Island"
          ],
          [
           "PB&J Otter"
          ],
          [
           "The Rookie"
          ],
          [
           "Aladdin"
          ],
          [
           "X-Men: Apocalypse"
          ],
          [
           "Atlantis: The Lost Empire"
          ],
          [
           "Built for Mars: The Perseverance Rover"
          ],
          [
           "The Hidden Kingdoms of China"
          ],
          [
           "Flight of the Navigator"
          ],
          [
           "Captain America: The First Avenger"
          ],
          [
           "Rio"
          ],
          [
           "Once Upon a Time in Wonderland"
          ],
          [
           "Brink!"
          ],
          [
           "Marvel's Runaways"
          ],
          [
           "From the Ashes"
          ],
          [
           "Solo: A Star Wars Story"
          ],
          [
           "Homeward Bound: The Incredible Journey"
          ],
          [
           "The Rescuers"
          ],
          [
           "Hocus Pocus"
          ],
          [
           "The Chronicles of Narnia: The Lion, the Witch and the Wardrobe"
          ],
          [
           "Iron Man 2"
          ],
          [
           "Star Wars: The Last Jedi"
          ],
          [
           "Newsies"
          ],
          [
           "Frankenweenie"
          ],
          [
           "Davy Crockett, King of the Wild Frontier"
          ],
          [
           "Polar Bear"
          ],
          [
           "Explorer: The Last Tepui"
          ],
          [
           "Prep & Landing Stocking Stuffer: Operation: Secret Santa"
          ],
          [
           "Buried Secrets of The Bible With Albert Lin"
          ],
          [
           "Turning the Tables with Robin Roberts"
          ],
          [
           "The Lion King"
          ],
          [
           "Blackbeard's Ghost"
          ],
          [
           "Thor: The Dark World"
          ],
          [
           "Yellowstone Cubs"
          ],
          [
           "Rogue Shark"
          ],
          [
           "Disney Intertwined"
          ],
          [
           "Camo Sharks"
          ],
          [
           "Ice Age: The Meltdown"
          ],
          [
           "Bob Ballard: An Explorer's Life"
          ],
          [
           "Bear in the Big Blue House"
          ],
          [
           "Disney Presents Goofy in How to Stay at Home"
          ],
          [
           "Frozen II"
          ],
          [
           "TRON: Legacy"
          ],
          [
           "The Deepest Cave"
          ],
          [
           "The Right Stuff"
          ],
          [
           "Puppy Dog Pals"
          ],
          [
           "Glee"
          ],
          [
           "Spies in Disguise"
          ],
          [
           "Dan in Real Life"
          ],
          [
           "Fantastic Four: World's Greatest Heroes"
          ],
          [
           "Bolt"
          ],
          [
           "Science of Stupid"
          ],
          [
           "A Christmas Carol"
          ],
          [
           "DuckTales: The Movie - Treasure of the Lost Lamp"
          ],
          [
           "Man Among Cheetahs"
          ],
          [
           "Lilo & Stitch: The Series"
          ],
          [
           "Millions"
          ],
          [
           "Captain Marvel"
          ],
          [
           "The Rescuers Down Under"
          ],
          [
           "Safety"
          ],
          [
           "Brother Bear"
          ],
          [
           "T.O.T.S."
          ],
          [
           "Goof Troop"
          ],
          [
           "Black Panther: Wakanda Forever"
          ],
          [
           "Perri"
          ],
          [
           "Decorating Disney: Holiday Magic"
          ],
          [
           "The Good, The Bad, The Hungry"
          ],
          [
           "While You Were Sleeping"
          ],
          [
           "Meet the Robinsons"
          ],
          [
           "Home Alone 2: Lost in New York"
          ],
          [
           "Bia"
          ],
          [
           "The Reluctant Dragon"
          ],
          [
           "Return to Oz"
          ],
          [
           "X-Ray Earth"
          ],
          [
           "Quack Pack"
          ],
          [
           "Mary Poppins Returns"
          ],
          [
           "Black Widow"
          ],
          [
           "Sauver Notre-Dame"
          ],
          [
           "Doogie Kamealoha, M.D."
          ],
          [
           "Miss Peregrine's Home for Peculiar Children"
          ],
          [
           "That Darn Cat!"
          ],
          [
           "How Dogs Got Their Shapes"
          ],
          [
           "The Little Mermaid"
          ],
          [
           "Disney's Fairy Tale Weddings"
          ],
          [
           "Going to the Mat"
          ],
          [
           "Cinderella"
          ],
          [
           "Pete's Dragon"
          ],
          [
           "Dolphin Reef"
          ],
          [
           "Kick Buttowski: Suburban Daredevil"
          ],
          [
           "Muppet Babies"
          ],
          [
           "Cars 3"
          ],
          [
           "Hocus Pocus 25th Anniversary Halloween Bash"
          ],
          [
           "Lost Temple of The Inca"
          ],
          [
           "Randy Cunningham: 9th Grade Ninja"
          ],
          [
           "Alice's Wonderland Bakery"
          ],
          [
           "The Incredible Hulk"
          ],
          [
           "Don't Look Under the Bed"
          ],
          [
           "Justin Morgan Had a Horse"
          ],
          [
           "The Absent-Minded Professor"
          ],
          [
           "Pocahontas"
          ],
          [
           "Beauty and the Beast: A 30th Celebration"
          ],
          [
           "The Call of the Wild"
          ],
          [
           "World of Flavor with Big Moe Cason"
          ],
          [
           "Bonkers"
          ],
          [
           "The Wolverine"
          ],
          [
           "Ferdinand"
          ],
          [
           "The Good Dinosaur"
          ],
          [
           "Tron"
          ],
          [
           "The Finest Hours"
          ],
          [
           "James and the Giant Peach"
          ],
          [
           "Candleshoe"
          ],
          [
           "Shark Gangs"
          ],
          [
           "Own the Room"
          ],
          [
           "Kingdom of the Blue Whale"
          ],
          [
           "The Real MVP: The Wanda Durant Story"
          ],
          [
           "Bend It Like Beckham"
          ],
          [
           "700 Sharks"
          ],
          [
           "Prince of Persia: The Sands of Time"
          ],
          [
           "Pirates of the Caribbean: On Stranger Tides"
          ],
          [
           "John Carter"
          ],
          [
           "Mission to the Sun"
          ],
          [
           "Save Our Squad with David Beckham"
          ],
          [
           "The Suite Life of Zack & Cody"
          ],
          [
           "Marvel's Rocket & Groot"
          ],
          [
           "The Great Christmas Light Fight"
          ],
          [
           "Doc McStuffins"
          ],
          [
           "Gigantosaurus"
          ],
          [
           "The Emperor's New School"
          ],
          [
           "The Odd Life of Timothy Green"
          ],
          [
           "Stuntman"
          ],
          [
           "Tangled: Before Ever After"
          ],
          [
           "Dino Ranch"
          ],
          [
           "Jungle Cruise"
          ],
          [
           "Oliver & Company"
          ],
          [
           "Recess: School's Out"
          ],
          [
           "American Dragon: Jake Long"
          ],
          [
           "Disney My Music Story: Perfume"
          ],
          [
           "Halloweentown"
          ],
          [
           "The Story of Robin Hood and His Merrie Men"
          ],
          [
           "The Proof Is Out There"
          ],
          [
           "Turner & Hooch"
          ],
          [
           "Shark Beach With Chris Hemsworth"
          ],
          [
           "Maleficent: Mistress of Evil"
          ],
          [
           "Davy Crockett and the River Pirates"
          ],
          [
           "Eyewitness: D-Day"
          ],
          [
           "Pompeii: Secrets of the Dead"
          ],
          [
           "Star Wars: Episode II - Attack of the Clones"
          ],
          [
           "Miracle on 34th Street"
          ],
          [
           "Lizzie McGuire"
          ],
          [
           "Iron Will"
          ],
          [
           "Lab Rats"
          ],
          [
           "Tuck Everlasting"
          ],
          [
           "Heavyweights"
          ],
          [
           "Expedition China"
          ],
          [
           "Those Calloways"
          ],
          [
           "The Parent Trap"
          ],
          [
           "X-Men: The Last Stand"
          ],
          [
           "Lost on Everest"
          ],
          [
           "Hercules"
          ],
          [
           "Lost Treasures of the Maya"
          ],
          [
           "That's So Raven"
          ],
          [
           "Iron Man"
          ],
          [
           "Winnie the Pooh: A Very Merry Pooh Year"
          ],
          [
           "Me & Mickey"
          ],
          [
           "The Happiest Millionaire"
          ],
          [
           "Alaska's Grizzly Gauntlet"
          ],
          [
           "Diary of a Future President"
          ],
          [
           "The Chronicles of Narnia: Prince Caspian"
          ],
          [
           "Star Wars: The Rise of Skywalker"
          ],
          [
           "Ramona and Beezus"
          ],
          [
           "Elena of Avalor"
          ],
          [
           "Sister Act"
          ],
          [
           "The Moon-Spinners"
          ],
          [
           "Chibiverse"
          ],
          [
           "Mega Hammerhead"
          ],
          [
           "National Treasure: Book of Secrets"
          ],
          [
           "Virus Hunters"
          ],
          [
           "Let It Shine"
          ],
          [
           "Fauci"
          ],
          [
           "Amy"
          ],
          [
           "The Santa Clause"
          ],
          [
           "Shipwrecked"
          ],
          [
           "A Spark Story"
          ],
          [
           "The Proud Family"
          ],
          [
           "Kickin' It"
          ],
          [
           "Star Wars: Episode I - The Phantom Menace"
          ],
          [
           "Being the Queen"
          ],
          [
           "Wicked Tuna"
          ],
          [
           "Pixar Popcorn"
          ],
          [
           "The Ugly Dachshund"
          ],
          [
           "Diary of a Wimpy Kid: Rodrick Rules"
          ],
          [
           "Ice Age: Continental Drift"
          ],
          [
           "Mighty Med"
          ],
          [
           "Soy Luna"
          ],
          [
           "A Very Boy Band Holiday"
          ],
          [
           "Be Our Chef"
          ],
          [
           "Motocrossed"
          ],
          [
           "Pirates of the Caribbean: Dead Men Tell No Tales"
          ],
          [
           "Expedition Everest"
          ],
          [
           "The One and Only Ivan"
          ],
          [
           "The Mighty Ducks"
          ],
          [
           "Iron Man: Armored Adventures"
          ],
          [
           "Marvel Studios Legends"
          ],
          [
           "The Rocketeer"
          ],
          [
           "The Love Bug"
          ],
          [
           "Disney Holiday Magic Quest"
          ],
          [
           "grown-ish"
          ],
          [
           "Father of the Bride"
          ],
          [
           "Race to the Center of the Earth"
          ],
          [
           "Miles from Tomorrowland"
          ],
          [
           "Vampirina"
          ],
          [
           "Chasing the Equinox"
          ],
          [
           "Avatar: The Deep Dive - A Special Edition of 20/20"
          ],
          [
           "Big Business"
          ],
          [
           "Mighty Ducks: The Animated Series"
          ],
          [
           "Fantastic Four"
          ],
          [
           "Miracle Landing on the Hudson"
          ],
          [
           "Dinosaur"
          ],
          [
           "Genoa Bridge Disaster"
          ],
          [
           "Better Nate Than Ever"
          ],
          [
           "Drain the Bermuda Triangle"
          ],
          [
           "Drain the Titanic"
          ],
          [
           "Cloud 9"
          ],
          [
           "The Lion Guard"
          ],
          [
           "Marvel's Iron Fist"
          ],
          [
           "Honey, I Shrunk the Kids"
          ],
          [
           "Killer Shark vs. Killer Whale"
          ],
          [
           "Winged Seduction: Birds of Paradise"
          ],
          [
           "One Magic Christmas"
          ],
          [
           "Muppets Most Wanted"
          ],
          [
           "The Apple Dumpling Gang"
          ],
          [
           "Ancient X-Files"
          ],
          [
           "Old Dogs"
          ],
          [
           "The Adventures of Bullwhip Griffin"
          ],
          [
           "Hamilton: History Has Its Eyes On You"
          ],
          [
           "Marvel's Behind the Mask"
          ],
          [
           "T. Rex Autopsy"
          ],
          [
           "Descendants 3"
          ],
          [
           "Fun and Fancy Free"
          ],
          [
           "The Lego Star Wars Holiday Special"
          ],
          [
           "Night at the Museum"
          ],
          [
           "Super Robot Monkey Team Hyperforce Go!"
          ],
          [
           "The Princess Diaries"
          ],
          [
           "Almost Angels"
          ],
          [
           "Black Beauty"
          ],
          [
           "Alice in Wonderland"
          ],
          [
           "Marvel's Ant-Man"
          ],
          [
           "Sydney to the Max"
          ],
          [
           "Pooh's Heffalump Movie"
          ],
          [
           "The Wonder Years"
          ],
          [
           "The Lost Tomb of Alexander the Great"
          ],
          [
           "Atlantis Rising"
          ],
          [
           "Weekend Family"
          ],
          [
           "Origins: The Journey of Humankind"
          ],
          [
           "Walt & El Grupo"
          ],
          [
           "Swiss Family Robinson"
          ],
          [
           "The Shaggy Dog"
          ],
          [
           "The Santa Clauses"
          ],
          [
           "Once Upon a Main Street"
          ],
          [
           "Because of Winn-Dixie"
          ],
          [
           "The Scream Team"
          ],
          [
           "Phantom of the Megaplex"
          ],
          [
           "The Chronicles of Narnia: The Voyage of the Dawn Treader"
          ],
          [
           "Baby Sharks"
          ],
          [
           "Lab Rats: Elite Force"
          ],
          [
           "Diary of a Wimpy Kid: Dog Days"
          ],
          [
           "Sheriff Callie's Wild West"
          ],
          [
           "Freaky Friday"
          ],
          [
           "Sky High"
          ],
          [
           "Dumbo"
          ],
          [
           "The Black Cauldron"
          ],
          [
           "Good Luck Charlie, It's Christmas!"
          ],
          [
           "Buried Secrets of Keros"
          ],
          [
           "The BFG"
          ],
          [
           "Trail of the Panda"
          ],
          [
           "Stonehenge: Decoded"
          ],
          [
           "The Book of Pooh"
          ],
          [
           "Geek Charming"
          ],
          [
           "The Prince and the Pauper"
          ],
          [
           "Halloweentown II: Kalabar's Revenge"
          ],
          [
           "Storage Wars"
          ],
          [
           "World's Biggest Great White Shark"
          ],
          [
           "Descendants: Wicked World"
          ],
          [
           "Liv and Maddie"
          ],
          [
           "The Wizards Return: Alex vs. Alex"
          ],
          [
           "A Muppets Christmas: Letters to Santa"
          ],
          [
           "Noelle"
          ],
          [
           "Shark vs Tuna"
          ],
          [
           "Pete's Dragon"
          ],
          [
           "Freaky Friday"
          ],
          [
           "Thor: Love and Thunder"
          ],
          [
           "Magic Camp"
          ],
          [
           "Rolie Polie Olie"
          ],
          [
           "Teacher's Pet"
          ],
          [
           "Zenon: Girl of the 21st Century"
          ],
          [
           "The Three Caballeros"
          ],
          [
           "Paris to Pittsburgh"
          ],
          [
           "The Chorus: Success, Here I Go"
          ],
          [
           "Flooded Tombs of the Nile"
          ],
          [
           "Zeke and Luther"
          ],
          [
           "Goldie & Bear"
          ],
          [
           "Wicked Tuna: North VS South"
          ],
          [
           "Drain The Sunken Pirate City"
          ],
          [
           "Snowball Express"
          ],
          [
           "The Tigger Movie"
          ],
          [
           "Secrets Of Christ's Tomb"
          ],
          [
           "K.C. Undercover"
          ],
          [
           "Smoky Mountain Park Rangers"
          ],
          [
           "Far from Home: The Adventures of Yellow Dog"
          ],
          [
           "The Evermoor Chronicles"
          ],
          [
           "Aliens of the Deep"
          ],
          [
           "Little Einsteins"
          ],
          [
           "Muppets Haunted Mansion"
          ],
          [
           "The Suite Life on Deck"
          ],
          [
           "Splash"
          ],
          [
           "Escape to Witch Mountain"
          ],
          [
           "Spider-Man Unlimited"
          ],
          [
           "Eternals"
          ],
          [
           "The Big Year"
          ],
          [
           "Stuck in the Middle"
          ],
          [
           "Take Two with Phineas and Ferb"
          ],
          [
           "Johnny Tsunami"
          ],
          [
           "Stargirl"
          ],
          [
           "Man vs. Shark"
          ],
          [
           "Benji the Hunted"
          ],
          [
           "The Bears and I"
          ],
          [
           "Cars 2"
          ],
          [
           "Lady and the Tramp"
          ],
          [
           "Descendants"
          ],
          [
           "Maggie Simpson in The Force Awakens from Its Nap"
          ],
          [
           "The Adventures of Huck Finn"
          ],
          [
           "Turner & Hooch"
          ],
          [
           "The Lodge"
          ],
          [
           "The Island at the Top of the World"
          ],
          [
           "Flora & Ulysses"
          ],
          [
           "Alexander and the Terrible, Horrible, No Good, Very Bad Day"
          ],
          [
           "Cannibal Sharks"
          ],
          [
           "The Game Plan"
          ],
          [
           "America's Funniest Home Videos"
          ],
          [
           "Melody Time"
          ],
          [
           "Wizards of Waverly Place: The Movie"
          ],
          [
           "Night at the Museum: Secret of the Tomb"
          ],
          [
           "Disney's Magic Bake-Off"
          ],
          [
           "Diary of a Wimpy Kid"
          ],
          [
           "MECH-X4"
          ],
          [
           "Ms. Marvel"
          ],
          [
           "Back to the Titanic"
          ],
          [
           "Mickey's Tale of Two Witches"
          ],
          [
           "PRIDE: To Be Seen - A Soul of a Nation Presentation"
          ],
          [
           "The Christmas Star"
          ],
          [
           "Emil and the Detectives"
          ],
          [
           "Gordon Ramsay: Uncharted Showdown"
          ],
          [
           "Lightyear"
          ],
          [
           "D2: The Mighty Ducks"
          ],
          [
           "Babes in Toyland"
          ],
          [
           "101 Dalmatians: The Series"
          ],
          [
           "The Boonies"
          ],
          [
           "Starstruck"
          ],
          [
           "Brain Games: On The Road"
          ],
          [
           "3 Men and a Baby"
          ],
          [
           "Saludos Amigos"
          ],
          [
           "Horse Sense"
          ],
          [
           "Shark Attack Files"
          ],
          [
           "World's Biggest Bull Shark?"
          ],
          [
           "Marvel's Spider-Man"
          ],
          [
           "The Kid"
          ],
          [
           "Now You See It..."
          ],
          [
           "LEGO Star Wars Terrifying Tales"
          ],
          [
           "ZOMBIES: Addison's Moonstone Mystery"
          ],
          [
           "Genius"
          ],
          [
           "Smart House"
          ],
          [
           "Lost Tombs of the Pyramids"
          ],
          [
           "Piglet's Big Movie"
          ],
          [
           "Out There with Jack Randall"
          ],
          [
           "Forged in Fire: Knife or Death"
          ],
          [
           "The Sorcerer's Apprentice"
          ],
          [
           "Treasure of Matecumbe"
          ],
          [
           "Shark vs. Surfer"
          ],
          [
           "Secrets of the Bull Shark"
          ],
          [
           "Spin"
          ],
          [
           "Right on Track"
          ],
          [
           "More Than Robots"
          ],
          [
           "The Kid Who Would Be King"
          ],
          [
           "Toni Braxton: Unbreak My Heart"
          ],
          [
           "The Even Stevens Movie"
          ],
          [
           "The Luck of the Irish"
          ],
          [
           "Godmothered"
          ],
          [
           "Drain Alcatraz"
          ],
          [
           "Father of the Bride Part II"
          ],
          [
           "Ice Princess"
          ],
          [
           "You Wish!"
          ],
          [
           "Squanto: A Warrior's Tale"
          ],
          [
           "Spidey and His Amazing Friends"
          ],
          [
           "The Santa Con"
          ],
          [
           "Star Wars: Ewoks"
          ],
          [
           "Camp Nowhere"
          ],
          [
           "Marvel's Hulk and the Agents of S.M.A.S.H."
          ],
          [
           "Chip 'N' Dale: Park Life"
          ],
          [
           "Eddie's Million Dollar Cook Off"
          ],
          [
           "Bedtime Stories"
          ],
          [
           "Planes: Fire & Rescue"
          ],
          [
           "Halloweentown High"
          ],
          [
           "Mickey Mouse Mixed-Up Adventures"
          ],
          [
           "Hocus Pocus 2"
          ],
          [
           "The Super Hero Squad Show"
          ],
          [
           "Sonny with a Chance"
          ],
          [
           "The Apple Dumpling Gang Rides Again"
          ],
          [
           "The Cat from Outer Space"
          ],
          [
           "101 Dalmatian Street"
          ],
          [
           "White Fang"
          ],
          [
           "Disney Channel Halloween House Party"
          ],
          [
           "Jumping Ship"
          ],
          [
           "Homeward Bound II: Lost in San Francisco"
          ],
          [
           "Jessie"
          ],
          [
           "Z-O-M-B-I-E-S"
          ],
          [
           "The Swap"
          ],
          [
           "Never Been Kissed"
          ],
          [
           "Timmy Failure: Mistakes Were Made"
          ],
          [
           "The Last Song"
          ],
          [
           "Our Only Chance"
          ],
          [
           "Alley Cats Strike"
          ],
          [
           "The Computer Wore Tennis Shoes"
          ],
          [
           "Teen Beach Movie"
          ],
          [
           "Ice Age: The Great Egg-Scapade"
          ],
          [
           "Gnomeo & Juliet"
          ],
          [
           "The Strongest Man in the World"
          ],
          [
           "Double Teamed"
          ],
          [
           "Austin & Ally"
          ],
          [
           "Tiger Cruise"
          ],
          [
           "Teen Beach 2"
          ],
          [
           "The Disney Holiday Singalong"
          ],
          [
           "A Tale of Two Critters"
          ],
          [
           "Invisible Sister"
          ],
          [
           "Cheaper by the Dozen"
          ],
          [
           "Miracle in Lane 2"
          ],
          [
           "The Thirteenth Year"
          ],
          [
           "Rip Girls"
          ],
          [
           "Drumline"
          ],
          [
           "Cheetah"
          ],
          [
           "Red Tails"
          ],
          [
           "Star Wars: Droids"
          ],
          [
           "Adventures in Babysitting"
          ],
          [
           "Tall Tale"
          ],
          [
           "The Black Hole"
          ],
          [
           "Marvel Super Hero Adventures"
          ],
          [
           "Muppets Now"
          ],
          [
           "Into the Woods"
          ],
          [
           "Star Wars: The Clone Wars"
          ],
          [
           "The Knights of Castelcorvo"
          ],
          [
           "Hollywood Stargirl"
          ],
          [
           "Daddies on Request"
          ],
          [
           "Spider-Woman"
          ],
          [
           "Area 51: The CIA's Secret"
          ],
          [
           "Pair of Kings"
          ],
          [
           "The Shaggy D.A."
          ],
          [
           "Gender Revolution: A Journey with Katie Couric"
          ],
          [
           "The Replacements"
          ],
          [
           "Percy Jackson & the Olympians: The Lightning Thief"
          ],
          [
           "My Friends Tigger & Pooh"
          ],
          [
           "The Castaway Cowboy"
          ],
          [
           "Mom's Got a Date with a Vampire"
          ],
          [
           "Coop & Cami Ask The World"
          ],
          [
           "Trevor: The Musical"
          ],
          [
           "Minutemen"
          ],
          [
           "A Ring of Endless Light"
          ],
          [
           "Jack"
          ],
          [
           "Confessions of a Shopaholic"
          ],
          [
           "Return to Never Land"
          ],
          [
           "King Shakir Recycle"
          ],
          [
           "Best Friends Whenever"
          ],
          [
           "Bad Hair Day"
          ],
          [
           "Black Is King"
          ],
          [
           "Around the World in 80 Days"
          ],
          [
           "The Princess Diaries 2: Royal Engagement"
          ],
          [
           "Twitches"
          ],
          [
           "Mickey Go Local"
          ],
          [
           "The Ghosts of Buxley Hall"
          ],
          [
           "Herbie Rides Again"
          ],
          [
           "Morning Light"
          ],
          [
           "Mulan"
          ],
          [
           "Strange Magic"
          ],
          [
           "Star Wars: Galaxy's Edge - Adventure Awaits"
          ],
          [
           "The Queen Family Singalong"
          ],
          [
           "World's Biggest Hammerhead?"
          ],
          [
           "101 Dalmatians"
          ],
          [
           "You Again"
          ],
          [
           "Ernest Saves Christmas"
          ],
          [
           "Z-O-M-B-I-E-S 2"
          ],
          [
           "The Santa Clause 2"
          ],
          [
           "The Biscuit Eater"
          ],
          [
           "Chicken Little"
          ],
          [
           "Full-Court Miracle"
          ],
          [
           "Gus"
          ],
          [
           "Return from Witch Mountain"
          ],
          [
           "Zenon: The Zequel"
          ],
          [
           "Dark Phoenix"
          ],
          [
           "Planes"
          ],
          [
           "High School Musical: The Musical: The Holiday Special"
          ],
          [
           "Percy Jackson: Sea of Monsters"
          ],
          [
           "Mighty Joe Young"
          ],
          [
           "Fantastic Four"
          ],
          [
           "Atlas Of Cursed Places"
          ],
          [
           "Race to Witch Mountain"
          ],
          [
           "Great Shark Chow Down"
          ],
          [
           "Teacher's Pet"
          ],
          [
           "Minnie's Bow-Toons"
          ],
          [
           "Stepsister from Planet Weird"
          ],
          [
           "Marvel Rising: Initiation"
          ],
          [
           "Mickey Mouse Clubhouse"
          ],
          [
           "The Million Dollar Duck"
          ],
          [
           "Twitches Too"
          ],
          [
           "Herbie Goes to Monte Carlo"
          ],
          [
           "Sharks of Lost Island"
          ],
          [
           "The Nutcracker and the Four Realms"
          ],
          [
           "Marvel Future Avengers"
          ],
          [
           "Alex & Co."
          ],
          [
           "Gabby Duran and the Unsittables"
          ],
          [
           "Mickey Mouse Funhouse"
          ],
          [
           "The Simpsons Meet the Bocellis in Feliz Navidad"
          ],
          [
           "National Treasure: Edge of History"
          ],
          [
           "LEGO Star Wars Summer Vacation"
          ],
          [
           "The Pacifier"
          ],
          [
           "Princess Protection Program"
          ],
          [
           "Pixel Perfect"
          ],
          [
           "Mickey and Minnie Wish Upon a Christmas"
          ],
          [
           "Willow"
          ],
          [
           "Strange World"
          ],
          [
           "Gotta Kick It Up!"
          ],
          [
           "Remembering"
          ],
          [
           "Sister Act 2: Back in the Habit"
          ],
          [
           "Life with Mikey"
          ],
          [
           "Fantastic Four: Rise of the Silver Surfer"
          ],
          [
           "Avalon High"
          ],
          [
           "Jake and the Never Land Pirates"
          ],
          [
           "Ice Age: Collision Course"
          ],
          [
           "Buffalo Dreams"
          ],
          [
           "Disenchanted"
          ],
          [
           "Go Figure"
          ],
          [
           "The Little Mermaid Live!"
          ],
          [
           "The Ultimate Christmas Present"
          ],
          [
           "Viking Warrior Women"
          ],
          [
           "Jim Henson's Turkey Hollow"
          ],
          [
           "Game of Sharks"
          ],
          [
           "Orca Vs. Great White"
          ],
          [
           "Valiant"
          ],
          [
           "George of the Jungle"
          ],
          [
           "The Boy Who Talked to Badgers"
          ],
          [
           "Cadet Kelly"
          ],
          [
           "Fast Layne"
          ],
          [
           "The Lizzie McGuire Movie"
          ],
          [
           "The Big Green"
          ],
          [
           "It Was Always Me"
          ],
          [
           "Fancy Nancy"
          ],
          [
           "Quints"
          ],
          [
           "Sharks of the Bermuda Triangle"
          ],
          [
           "Handy Manny"
          ],
          [
           "Cheaper by the Dozen 2"
          ],
          [
           "High School Musical"
          ],
          [
           "Shark vs. Whale"
          ],
          [
           "Victoria Gotti: My Father's Daughter"
          ],
          [
           "Read It and Weep"
          ],
          [
           "Tom and Huck"
          ],
          [
           "Brahmāstra Part One: Shiva"
          ],
          [
           "Buried Truth of the Maya"
          ],
          [
           "I'll Be Home for Christmas"
          ],
          [
           "Stuck in the Suburbs"
          ],
          [
           "Doctor Dolittle"
          ],
          [
           "Johnny Kapahala: Back on Board"
          ],
          [
           "Young Black Stallion"
          ],
          [
           "3 Men and a Little Lady"
          ],
          [
           "Jump In!"
          ],
          [
           "Aquamarine"
          ],
          [
           "Marvel Rising: Secret Warriors"
          ],
          [
           "Z-O-M-B-I-E-S 3"
          ],
          [
           "The Chicken Squad"
          ],
          [
           "Prom"
          ],
          [
           "Mars Needs Moms"
          ],
          [
           "Sharkatraz"
          ],
          [
           "Ready to Run"
          ],
          [
           "Ewoks: The Battle for Endor"
          ],
          [
           "The Villains of Valley View"
          ],
          [
           "Max Keeble's Big Move"
          ],
          [
           "Up, Up, and Away"
          ],
          [
           "Home on the Range"
          ],
          [
           "Hacksaw"
          ],
          [
           "Wendy Wu: Homecoming Warrior"
          ],
          [
           "D3: The Mighty Ducks"
          ],
          [
           "White Fang 2: Myth of the White Wolf"
          ],
          [
           "Disney's Summer Magic Quest"
          ],
          [
           "The Hip Hop Nutcracker"
          ],
          [
           "Like Mike"
          ],
          [
           "Fury Files"
          ],
          [
           "Star Wars: Forces of Destiny"
          ],
          [
           "The Avengers: United They Stand"
          ],
          [
           "The Jungle Book 2"
          ],
          [
           "Hatching Pete"
          ],
          [
           "Life Below Zero: Next Generation"
          ],
          [
           "Den Brother"
          ],
          [
           "Future-Worm!"
          ],
          [
           "Girl vs. Monster"
          ],
          [
           "Return to Halloweentown"
          ],
          [
           "The Ewok Adventure"
          ],
          [
           "Flubber"
          ],
          [
           "The New Mutants"
          ],
          [
           "PJ Masks"
          ],
          [
           "Tini: The New Life of Violetta"
          ],
          [
           "The Proud Family Movie"
          ],
          [
           "Marvel Rising: Battle of the Bands"
          ],
          [
           "How to Build a Better Boy"
          ],
          [
           "Cow Belles"
          ],
          [
           "Hannah Montana"
          ],
          [
           "Blank Check"
          ],
          [
           "Camp Rock 2: The Final Jam"
          ],
          [
           "Henry Hugglemonster"
          ],
          [
           "The New Air Force One: Flying Fortress"
          ],
          [
           "Marvel Rising: Chasing Ghosts"
          ],
          [
           "National Geographic Presents: IMPACT with Gal Gadot"
          ],
          [
           "Best in Bridal"
          ],
          [
           "Under the Sea: A Descendants Story"
          ],
          [
           "Marvel Rising: Playing with Fire"
          ],
          [
           "Man of the House"
          ],
          [
           "Violetta"
          ],
          [
           "Star Wars Resistance"
          ],
          [
           "Special Agent Oso"
          ],
          [
           "She-Hulk: Attorney at Law"
          ],
          [
           "The Rocketeer"
          ],
          [
           "Zenon: Z3"
          ],
          [
           "Operation Dumbo Drop"
          ],
          [
           "Jungle 2 Jungle"
          ],
          [
           "'Twas the Night"
          ],
          [
           "Unidentified Flying Oddball"
          ],
          [
           "Snow Dogs"
          ],
          [
           "The Wild"
          ],
          [
           "Earth Live"
          ],
          [
           "First Kid"
          ],
          [
           "Sharks vs. Dolphins: Blood Battle"
          ],
          [
           "Camp Rock"
          ],
          [
           "Just Roll with It"
          ],
          [
           "The Haunted Mansion"
          ],
          [
           "The Secret of the Magic Gourd"
          ],
          [
           "G-Force"
          ],
          [
           "Tierra Incognita"
          ],
          [
           "The Suite Life Movie"
          ],
          [
           "A.N.T. Farm"
          ],
          [
           "Diary of a Wimpy Kid: Rodrick Rules"
          ],
          [
           "My Favorite Martian"
          ],
          [
           "Diary of a Wimpy Kid"
          ],
          [
           "The Christmas Consultant"
          ],
          [
           "Crash & Bernstein"
          ],
          [
           "Hounded"
          ],
          [
           "Get a Clue"
          ],
          [
           "Marvel Rising: Operation Shuri"
          ],
          [
           "Pinocchio"
          ],
          [
           "The Cheetah Girls 2"
          ],
          [
           "Pentatonix: Around the World for the Holidays"
          ],
          [
           "Skyrunners"
          ],
          [
           "Whispers: An Elephant's Tale"
          ],
          [
           "The Simpsons in Plusaversary"
          ],
          [
           "America's Heart and Soul"
          ],
          [
           "Zapped"
          ],
          [
           "Night at the Museum: Kahmunrah Rises Again"
          ],
          [
           "Frenemies"
          ],
          [
           "Iron Man & Captain America: Heroes United"
          ],
          [
           "Secret Society of Second Born Royals"
          ],
          [
           "Honey, We Shrunk Ourselves"
          ],
          [
           "The Magic Maker"
          ],
          [
           "Fish Hooks"
          ],
          [
           "Herbie Fully Loaded"
          ],
          [
           "High School Musical 3: Senior Year"
          ],
          [
           "Kirby Buckets"
          ],
          [
           "Doug's 1st Movie"
          ],
          [
           "Can of Worms"
          ],
          [
           "Herbie Goes Bananas"
          ],
          [
           "Marvel's Inhumans"
          ],
          [
           "Dog with a Blog"
          ],
          [
           "Honey, I Blew Up the Kid"
          ],
          [
           "Alvin and the Chipmunks: The Road Chip"
          ],
          [
           "Gulliver's Travels"
          ],
          [
           "Life Is Ruff"
          ],
          [
           "Sneakerella"
          ],
          [
           "Higglytown Heroes"
          ],
          [
           "Sky Sharks"
          ],
          [
           "Underdog"
          ],
          [
           "Dancing with the Stars"
          ],
          [
           "The Santa Clause 3: The Escape Clause"
          ],
          [
           "Under Wraps"
          ],
          [
           "Dadnapped"
          ],
          [
           "Epic Holiday Showdown"
          ],
          [
           "Foodtastic"
          ],
          [
           "The Cheetah Girls"
          ],
          [
           "102 Dalmatians"
          ],
          [
           "Disney Princess Remixed: An Ultimate Princess Celebration"
          ],
          [
           "Far From Raven's Home"
          ],
          [
           "Santa Paws 2: The Santa Pups"
          ],
          [
           "Marvel Rising: Heart of Iron"
          ],
          [
           "A Kid in King Arthur's Court"
          ],
          [
           "High School Musical 2"
          ],
          [
           "Mila in the Multiverse"
          ],
          [
           "That Darn Cat"
          ],
          [
           "Disney Channel Holiday House Party"
          ],
          [
           "The Cheetah Girls: One World"
          ],
          [
           "Dance Moms"
          ],
          [
           "Under Wraps 2"
          ],
          [
           "JONAS L.A."
          ],
          [
           "You Lucky Dog"
          ],
          [
           "Hannah Montana: The Movie"
          ],
          [
           "Confessions of a Teenage Drama Queen"
          ],
          [
           "Best in Snow"
          ],
          [
           "Cheaper by the Dozen"
          ],
          [
           "The Poof Point"
          ],
          [
           "Home Alone 3"
          ],
          [
           "So Random!"
          ],
          [
           "Alvin and the Chipmunks: The Squeakquel"
          ],
          [
           "Schoolhouse Rock! 50th Anniversary Singalong"
          ],
          [
           "Paradise Islands"
          ],
          [
           "College Road Trip"
          ],
          [
           "The Ice Age Adventures of Buck Wild"
          ],
          [
           "Fantastic Four"
          ],
          [
           "Storage Wars: New York"
          ],
          [
           "House of Darkness"
          ],
          [
           "Diary of a Wimpy Kid: The Long Haul"
          ],
          [
           "Rise Up, Sing Out"
          ],
          [
           "The Country Bears"
          ],
          [
           "A Wrinkle in Time"
          ],
          [
           "Pickle & Peanut"
          ],
          [
           "Artemis Fowl"
          ],
          [
           "Inspector Gadget"
          ],
          [
           "Walk the Prank"
          ],
          [
           "Liz & Dick"
          ],
          [
           "Mr. Magoo"
          ],
          [
           "Meet the Deedles"
          ],
          [
           "The Montaners"
          ],
          [
           "Beverly Hills Chihuahua"
          ],
          [
           "The Quest"
          ],
          [
           "Freaky Friday"
          ],
          [
           "Bizaardvark"
          ],
          [
           "Kim Possible"
          ],
          [
           "Home Sweet Home Alone"
          ],
          [
           "Dory's Reef Cam"
          ],
          [
           "Home Alone: The Holiday Heist"
          ],
          [
           "Dance Moms: Miami"
          ],
          [
           "Billy Dilley’s Super-Duper Subterranean Summer"
          ],
          [
           "Kazaam"
          ],
          [
           "The Proud Family: Louder and Prouder"
          ],
          [
           "Home Alone 4"
          ],
          [
           "Hannah Montana & Miley Cyrus: Best of Both Worlds Concert"
          ],
          [
           "Jonas Brothers: The Concert Experience"
          ]
         ],
         "hovertemplate": "release_year=%{x}<br>IMDB Score=%{y}<br>title=%{customdata[0]}<extra></extra>",
         "legendgroup": "",
         "marker": {
          "color": "#636efa",
          "symbol": "circle"
         },
         "mode": "markers",
         "name": "",
         "showlegend": false,
         "type": "scattergl",
         "x": [
          2018,
          2020,
          2021,
          2022,
          2020,
          2010,
          2020,
          2022,
          2022,
          2018,
          2019,
          2022,
          1980,
          1989,
          2015,
          2019,
          2022,
          1977,
          2022,
          2021,
          2021,
          2016,
          2017,
          1994,
          2020,
          2011,
          2014,
          2020,
          1992,
          2013,
          2020,
          2020,
          2008,
          1999,
          2022,
          2020,
          2021,
          2008,
          2022,
          2022,
          2008,
          2021,
          2019,
          2018,
          1994,
          2018,
          2017,
          2020,
          1976,
          1983,
          2017,
          2010,
          2017,
          2010,
          2015,
          2020,
          2019,
          2012,
          2019,
          2009,
          2020,
          2012,
          2021,
          2008,
          2007,
          2023,
          2023,
          1995,
          2015,
          2014,
          2021,
          2021,
          2020,
          1957,
          1977,
          2017,
          2012,
          2011,
          1973,
          2016,
          2022,
          2017,
          2020,
          1987,
          2001,
          2015,
          2014,
          2013,
          2013,
          2021,
          1994,
          2021,
          2021,
          2003,
          2019,
          2022,
          2003,
          1955,
          1965,
          2018,
          2007,
          2019,
          2010,
          2013,
          2020,
          1999,
          2019,
          2016,
          1991,
          1987,
          2014,
          1992,
          2015,
          2012,
          2010,
          2019,
          2020,
          2021,
          1993,
          2014,
          2022,
          2004,
          2016,
          2012,
          2009,
          2017,
          2021,
          2015,
          2015,
          2013,
          2020,
          1947,
          2017,
          2015,
          2009,
          2020,
          2021,
          2008,
          1997,
          2022,
          2019,
          2022,
          2020,
          2016,
          1999,
          2021,
          2015,
          1992,
          1993,
          2022,
          2020,
          2022,
          2022,
          2020,
          2016,
          2022,
          2022,
          2014,
          2014,
          2019,
          2022,
          2018,
          2016,
          2023,
          1964,
          2000,
          2018,
          2021,
          2016,
          2000,
          2016,
          2015,
          2021,
          2021,
          2003,
          2017,
          2021,
          2017,
          2015,
          2022,
          2009,
          2007,
          2010,
          2012,
          2020,
          2022,
          2016,
          2021,
          2010,
          2019,
          2012,
          2020,
          2022,
          2011,
          1941,
          1990,
          2017,
          2015,
          2019,
          1992,
          1988,
          2017,
          2018,
          1995,
          2021,
          2018,
          2020,
          2014,
          2001,
          2016,
          1988,
          1989,
          2015,
          2022,
          2017,
          2022,
          1989,
          1991,
          1979,
          2015,
          2017,
          2009,
          2016,
          2005,
          2014,
          2019,
          1938,
          2019,
          2018,
          2017,
          2018,
          1998,
          2023,
          2019,
          2000,
          1967,
          2016,
          2019,
          2021,
          2018,
          2021,
          2010,
          2017,
          2002,
          2014,
          2019,
          2021,
          1985,
          2019,
          1977,
          1940,
          2021,
          1998,
          2020,
          2011,
          2015,
          2018,
          2018,
          2016,
          1973,
          2021,
          2021,
          2021,
          2020,
          2018,
          2017,
          2022,
          2013,
          2022,
          1990,
          2014,
          1991,
          2022,
          2022,
          2013,
          2022,
          2013,
          2013,
          2019,
          2017,
          2013,
          2018,
          2017,
          2013,
          2016,
          2016,
          2018,
          2023,
          2022,
          2003,
          2000,
          1991,
          1960,
          2002,
          2019,
          2021,
          2004,
          2011,
          2022,
          2015,
          2016,
          2020,
          2015,
          2021,
          1997,
          2016,
          2015,
          1953,
          2016,
          2021,
          2005,
          2022,
          2015,
          2017,
          2021,
          2011,
          1961,
          2019,
          2022,
          1942,
          2015,
          2007,
          2018,
          2016,
          1955,
          1996,
          2021,
          2017,
          1950,
          2013,
          2011,
          1951,
          2006,
          1953,
          1997,
          1958,
          1956,
          2006,
          2023,
          2014,
          1999,
          2015,
          2021,
          2017,
          2017,
          2020,
          2020,
          2013,
          2002,
          2008,
          2011,
          2021,
          2022,
          2021,
          2016,
          1988,
          2018,
          1999,
          2010,
          2021,
          2015,
          2022,
          2017,
          2014,
          2015,
          2013,
          2021,
          2020,
          2016,
          2006,
          2022,
          2018,
          2021,
          2020,
          2020,
          2020,
          2021,
          2020,
          2013,
          2016,
          2017,
          2019,
          2023,
          2012,
          2020,
          2022,
          2022,
          2016,
          2022,
          2017,
          2013,
          2021,
          2011,
          2019,
          1981,
          2002,
          1955,
          1955,
          1981,
          2007,
          2002,
          1961,
          1960,
          2000,
          1961,
          1988,
          2006,
          1941,
          1960,
          1998,
          1955,
          2022,
          1997,
          2012,
          1991,
          2012,
          1963,
          1981,
          2010,
          2017,
          1999,
          2022,
          1999,
          2010,
          2019,
          2013,
          2021,
          2011,
          2019,
          2012,
          1960,
          2022,
          2019,
          1998,
          1970,
          2022,
          1959,
          2014,
          2020,
          2014,
          2011,
          1960,
          2005,
          2007,
          2011,
          2014,
          2007,
          2022,
          1998,
          2022,
          2012,
          1986,
          2012,
          2021,
          2012,
          2016,
          2009,
          2022,
          2020,
          1956,
          2017,
          2022,
          2020,
          2019,
          1969,
          2019,
          2019,
          2008,
          2018,
          2004,
          1993,
          2020,
          2013,
          2022,
          2015,
          2022,
          2011,
          2006,
          2002,
          1996,
          1995,
          1971,
          1985,
          2021,
          2021,
          2022,
          2017,
          1963,
          2014,
          2012,
          2022,
          2018,
          2020,
          2022,
          2003,
          2014,
          2022,
          2004,
          2022,
          1996,
          1958,
          1995,
          2003,
          1981,
          2022,
          2013,
          2021,
          1987,
          2022,
          1950,
          2022,
          2011,
          1991,
          2007,
          2022,
          2013,
          2022,
          1950,
          1998,
          2002,
          2019,
          2016,
          2001,
          2021,
          2020,
          1986,
          2011,
          2011,
          2013,
          1998,
          2017,
          2017,
          2018,
          1993,
          1977,
          1993,
          2005,
          2010,
          2017,
          1992,
          2012,
          1955,
          2022,
          2022,
          2010,
          2019,
          2021,
          2019,
          1968,
          2013,
          1963,
          2021,
          2021,
          2022,
          2006,
          2022,
          1997,
          2021,
          2019,
          2010,
          2022,
          2020,
          2017,
          2009,
          2019,
          2007,
          2006,
          2008,
          2014,
          2009,
          1990,
          2017,
          2003,
          2005,
          2019,
          1990,
          2020,
          2003,
          2019,
          1992,
          2022,
          1957,
          2017,
          2021,
          1995,
          2007,
          1992,
          2019,
          1941,
          1985,
          2020,
          1996,
          2018,
          2021,
          2020,
          2021,
          2016,
          1965,
          2016,
          1992,
          2017,
          2004,
          1997,
          2016,
          2018,
          2010,
          2018,
          2017,
          2018,
          2020,
          2012,
          2022,
          1996,
          1999,
          1972,
          1961,
          1995,
          2022,
          2020,
          2022,
          1993,
          2013,
          2017,
          2015,
          1982,
          2016,
          1996,
          1979,
          2021,
          2021,
          2009,
          2016,
          2002,
          2018,
          2010,
          2011,
          2012,
          2019,
          2022,
          2005,
          2017,
          2013,
          2012,
          2019,
          2006,
          2012,
          2021,
          2017,
          2021,
          2021,
          1988,
          2001,
          2005,
          2020,
          1998,
          1952,
          2021,
          2021,
          2021,
          2019,
          1956,
          2019,
          2021,
          2002,
          1994,
          2001,
          1994,
          2012,
          2002,
          1995,
          2017,
          1965,
          1998,
          2006,
          2020,
          1998,
          2019,
          2003,
          1994,
          2002,
          2022,
          1967,
          2018,
          2020,
          2008,
          2019,
          2010,
          2016,
          1992,
          1964,
          2022,
          2016,
          2007,
          2020,
          2012,
          2021,
          1981,
          1994,
          1990,
          2021,
          2001,
          2011,
          1999,
          2020,
          2012,
          2021,
          1966,
          2011,
          2012,
          2013,
          2016,
          2021,
          2020,
          2001,
          2017,
          2020,
          2020,
          1992,
          2009,
          2021,
          1991,
          1969,
          2020,
          2018,
          1991,
          2021,
          2015,
          2017,
          2020,
          2022,
          1988,
          1996,
          1994,
          2014,
          2000,
          2019,
          2022,
          2014,
          2016,
          2014,
          2016,
          2017,
          1989,
          2021,
          2012,
          1985,
          2014,
          1975,
          2010,
          2009,
          1967,
          2020,
          2021,
          2015,
          2019,
          1948,
          2020,
          2006,
          2004,
          2001,
          1962,
          2020,
          2010,
          2017,
          2019,
          2005,
          2021,
          2019,
          2017,
          2022,
          2017,
          2008,
          1940,
          1959,
          2022,
          2020,
          2005,
          2002,
          2000,
          2010,
          2023,
          2016,
          2012,
          2013,
          2003,
          2005,
          2019,
          1985,
          2011,
          2020,
          2016,
          2009,
          2008,
          2001,
          2011,
          1962,
          2001,
          2010,
          2019,
          2015,
          2013,
          2013,
          2008,
          2019,
          2018,
          1977,
          1977,
          2022,
          2020,
          1998,
          2000,
          1999,
          1945,
          2018,
          2022,
          2021,
          2009,
          2015,
          2014,
          2017,
          1973,
          2000,
          2017,
          2015,
          2021,
          1995,
          2014,
          2005,
          2005,
          2021,
          2008,
          1984,
          1975,
          1999,
          2021,
          2011,
          2016,
          2010,
          1999,
          2020,
          2019,
          1987,
          1974,
          2011,
          2019,
          2015,
          2021,
          1993,
          1989,
          2016,
          1974,
          2021,
          2014,
          2019,
          2007,
          1989,
          1948,
          2009,
          2014,
          2021,
          2010,
          2016,
          2022,
          2020,
          2021,
          2022,
          1986,
          1964,
          2022,
          2022,
          1994,
          1961,
          1997,
          2016,
          2010,
          2022,
          1987,
          1943,
          1999,
          2021,
          2021,
          2017,
          2000,
          2005,
          2021,
          2020,
          1999,
          1999,
          2020,
          2003,
          2019,
          2018,
          2010,
          1976,
          2020,
          2020,
          2021,
          2003,
          2022,
          2019,
          2016,
          2003,
          2001,
          2020,
          2017,
          1995,
          2005,
          2003,
          1994,
          2021,
          2014,
          1985,
          1994,
          2013,
          2021,
          2003,
          2008,
          2014,
          2004,
          2019,
          2022,
          2009,
          2009,
          1979,
          1978,
          2019,
          1991,
          2020,
          2001,
          1996,
          2011,
          2018,
          2016,
          1999,
          2020,
          2010,
          2022,
          2000,
          1969,
          2013,
          2016,
          2011,
          1975,
          2002,
          2011,
          2004,
          2015,
          2020,
          1977,
          2015,
          2003,
          2000,
          1999,
          2000,
          2002,
          1989,
          2012,
          1985,
          2016,
          1995,
          1979,
          2017,
          2020,
          2014,
          2008,
          2020,
          2022,
          2022,
          1979,
          2014,
          2010,
          1976,
          2017,
          2007,
          2010,
          2007,
          1974,
          2000,
          2018,
          2022,
          2008,
          2002,
          1996,
          2009,
          2002,
          2022,
          2015,
          2015,
          2020,
          2004,
          2004,
          2005,
          2019,
          1980,
          1974,
          2009,
          2020,
          2015,
          2019,
          2021,
          2022,
          1996,
          2010,
          1988,
          2020,
          2002,
          1972,
          2005,
          2003,
          1976,
          1978,
          2001,
          2019,
          2013,
          2020,
          2013,
          1998,
          2005,
          2020,
          2009,
          2019,
          2004,
          2011,
          2000,
          2018,
          2006,
          1971,
          2007,
          1977,
          2019,
          2018,
          2017,
          2015,
          2019,
          2021,
          2022,
          2022,
          2022,
          2005,
          2009,
          2004,
          2021,
          2022,
          2022,
          2002,
          2022,
          1993,
          1993,
          2007,
          2010,
          2011,
          2016,
          2005,
          2022,
          2005,
          2019,
          2000,
          2019,
          2015,
          2022,
          2021,
          2005,
          1997,
          1975,
          2002,
          2019,
          2003,
          1995,
          2022,
          2018,
          2000,
          2020,
          2006,
          2005,
          2006,
          2020,
          2019,
          2006,
          1995,
          2022,
          2019,
          1998,
          2004,
          1998,
          2007,
          2003,
          1990,
          2007,
          2006,
          2018,
          2022,
          2021,
          2011,
          2011,
          2016,
          2000,
          1985,
          2022,
          2001,
          2000,
          2004,
          1971,
          2006,
          1996,
          1994,
          2022,
          2022,
          2002,
          2012,
          2017,
          1999,
          2003,
          2009,
          2020,
          2010,
          2015,
          2012,
          2005,
          1984,
          1997,
          2020,
          2015,
          2016,
          2005,
          2019,
          2014,
          2006,
          2006,
          1994,
          2010,
          2013,
          2021,
          2019,
          2021,
          2014,
          2018,
          2019,
          1995,
          2012,
          2018,
          2009,
          2022,
          2019,
          2004,
          1995,
          1997,
          2001,
          1979,
          2002,
          2006,
          2017,
          1996,
          2020,
          2008,
          2019,
          2003,
          2007,
          2009,
          2022,
          2011,
          2011,
          2022,
          1999,
          2021,
          2012,
          2012,
          2001,
          2002,
          2019,
          2022,
          2006,
          2022,
          2009,
          2023,
          2021,
          2004,
          2014,
          2022,
          2012,
          2013,
          2020,
          1997,
          2021,
          2010,
          2005,
          2008,
          2014,
          1999,
          1999,
          1980,
          2017,
          2012,
          1992,
          2015,
          2010,
          2005,
          2022,
          2004,
          2022,
          2007,
          2005,
          2006,
          2021,
          2009,
          2020,
          2021,
          2003,
          2000,
          2021,
          2021,
          2012,
          2019,
          1995,
          2007,
          2023,
          1997,
          2020,
          2008,
          2011,
          2022,
          2009,
          1998,
          2009,
          2004,
          2022,
          2022,
          2001,
          1997,
          2011,
          2009,
          2023,
          2017,
          2008,
          2022,
          2015,
          2013,
          2016,
          2017,
          2022,
          2002,
          2018,
          2015,
          2020,
          1999,
          2016,
          2012,
          1997,
          1998,
          2022,
          2008,
          2022,
          2018,
          2016,
          2019,
          2021,
          2020,
          2012,
          2012,
          2017,
          1996,
          2022,
          2002,
          2008,
          2009
         ],
         "xaxis": "x",
         "y": [
          9.5,
          9.3,
          9,
          8.9,
          8.8,
          8.8,
          8.8,
          8.8,
          8.8,
          8.7,
          8.7,
          8.7,
          8.7,
          8.7,
          8.6,
          8.6,
          8.6,
          8.6,
          8.6,
          8.5,
          8.5,
          8.5,
          8.5,
          8.5,
          8.5,
          8.5,
          8.4,
          8.4,
          8.4,
          8.4,
          8.4,
          8.4,
          8.4,
          8.4,
          8.4,
          8.4,
          8.4,
          8.4,
          8.4,
          8.4,
          8.4,
          8.4,
          8.4,
          8.4,
          8.4,
          8.4,
          8.4,
          8.4,
          8.4,
          8.3,
          8.3,
          8.3,
          8.3,
          8.3,
          8.3,
          8.3,
          8.3,
          8.3,
          8.3,
          8.3,
          8.3,
          8.3,
          8.3,
          8.3,
          8.3,
          8.3,
          8.3,
          8.3,
          8.2,
          8.2,
          8.2,
          8.2,
          8.2,
          8.2,
          8.2,
          8.2,
          8.2,
          8.2,
          8.2,
          8.2,
          8.2,
          8.1,
          8.1,
          8.1,
          8.1,
          8.1,
          8.1,
          8.1,
          8.1,
          8.1,
          8.1,
          8.1,
          8.1,
          8.1,
          8.1,
          8.1,
          8.1,
          8.1,
          8.1,
          8.1,
          8.1,
          8.1,
          8,
          8,
          8,
          8,
          8,
          8,
          8,
          8,
          8,
          8,
          8,
          8,
          8,
          8,
          8,
          8,
          8,
          8,
          8,
          8,
          8,
          8,
          8,
          8,
          8,
          7.9,
          7.9,
          7.9,
          7.9,
          7.9,
          7.9,
          7.9,
          7.9,
          7.9,
          7.9,
          7.9,
          7.9,
          7.9,
          7.9,
          7.9,
          7.9,
          7.9,
          7.9,
          7.9,
          7.9,
          7.9,
          7.9,
          7.9,
          7.9,
          7.9,
          7.9,
          7.9,
          7.9,
          7.8,
          7.8,
          7.8,
          7.8,
          7.8,
          7.8,
          7.8,
          7.8,
          7.8,
          7.8,
          7.8,
          7.8,
          7.8,
          7.8,
          7.8,
          7.8,
          7.8,
          7.8,
          7.8,
          7.8,
          7.8,
          7.8,
          7.8,
          7.8,
          7.8,
          7.7,
          7.7,
          7.7,
          7.7,
          7.7,
          7.7,
          7.7,
          7.7,
          7.7,
          7.7,
          7.7,
          7.7,
          7.7,
          7.7,
          7.7,
          7.7,
          7.7,
          7.7,
          7.7,
          7.7,
          7.7,
          7.7,
          7.7,
          7.7,
          7.6,
          7.6,
          7.6,
          7.6,
          7.6,
          7.6,
          7.6,
          7.6,
          7.6,
          7.6,
          7.6,
          7.6,
          7.6,
          7.6,
          7.6,
          7.6,
          7.6,
          7.6,
          7.6,
          7.6,
          7.6,
          7.6,
          7.6,
          7.6,
          7.6,
          7.6,
          7.6,
          7.6,
          7.6,
          7.6,
          7.6,
          7.6,
          7.6,
          7.6,
          7.6,
          7.5,
          7.5,
          7.5,
          7.5,
          7.5,
          7.5,
          7.5,
          7.5,
          7.5,
          7.5,
          7.5,
          7.5,
          7.5,
          7.5,
          7.5,
          7.5,
          7.5,
          7.5,
          7.5,
          7.5,
          7.5,
          7.5,
          7.5,
          7.5,
          7.5,
          7.5,
          7.5,
          7.5,
          7.5,
          7.5,
          7.5,
          7.5,
          7.5,
          7.5,
          7.5,
          7.5,
          7.5,
          7.5,
          7.5,
          7.5,
          7.5,
          7.5,
          7.4,
          7.4,
          7.4,
          7.4,
          7.4,
          7.4,
          7.4,
          7.4,
          7.4,
          7.4,
          7.4,
          7.4,
          7.4,
          7.4,
          7.4,
          7.4,
          7.4,
          7.4,
          7.4,
          7.4,
          7.4,
          7.4,
          7.4,
          7.4,
          7.4,
          7.4,
          7.4,
          7.4,
          7.4,
          7.4,
          7.4,
          7.4,
          7.3,
          7.3,
          7.3,
          7.3,
          7.3,
          7.3,
          7.3,
          7.3,
          7.3,
          7.3,
          7.3,
          7.3,
          7.3,
          7.3,
          7.3,
          7.3,
          7.3,
          7.3,
          7.3,
          7.3,
          7.3,
          7.3,
          7.3,
          7.3,
          7.3,
          7.3,
          7.3,
          7.3,
          7.3,
          7.3,
          7.3,
          7.3,
          7.3,
          7.3,
          7.3,
          7.3,
          7.3,
          7.3,
          7.3,
          7.3,
          7.3,
          7.3,
          7.3,
          7.3,
          7.3,
          7.3,
          7.3,
          7.3,
          7.3,
          7.3,
          7.3,
          7.2,
          7.2,
          7.2,
          7.2,
          7.2,
          7.2,
          7.2,
          7.2,
          7.2,
          7.2,
          7.2,
          7.2,
          7.2,
          7.2,
          7.2,
          7.2,
          7.2,
          7.2,
          7.2,
          7.2,
          7.2,
          7.2,
          7.2,
          7.2,
          7.2,
          7.2,
          7.2,
          7.2,
          7.2,
          7.2,
          7.2,
          7.2,
          7.2,
          7.2,
          7.2,
          7.2,
          7.2,
          7.2,
          7.2,
          7.2,
          7.2,
          7.2,
          7.2,
          7.2,
          7.2,
          7.2,
          7.2,
          7.1,
          7.1,
          7.1,
          7.1,
          7.1,
          7.1,
          7.1,
          7.1,
          7.1,
          7.1,
          7.1,
          7.1,
          7.1,
          7.1,
          7.1,
          7.1,
          7.1,
          7.1,
          7.1,
          7.1,
          7.1,
          7.1,
          7.1,
          7.1,
          7.1,
          7.1,
          7.1,
          7.1,
          7.1,
          7.1,
          7.1,
          7.1,
          7.1,
          7.1,
          7.1,
          7.1,
          7.1,
          7.1,
          7.1,
          7.1,
          7.1,
          7.1,
          7.1,
          7.1,
          7.1,
          7.1,
          7.1,
          7.1,
          7,
          7,
          7,
          7,
          7,
          7,
          7,
          7,
          7,
          7,
          7,
          7,
          7,
          7,
          7,
          7,
          7,
          7,
          7,
          7,
          7,
          7,
          7,
          7,
          7,
          7,
          7,
          7,
          7,
          7,
          7,
          7,
          7,
          7,
          7,
          7,
          7,
          7,
          6.9,
          6.9,
          6.9,
          6.9,
          6.9,
          6.9,
          6.9,
          6.9,
          6.9,
          6.9,
          6.9,
          6.9,
          6.9,
          6.9,
          6.9,
          6.9,
          6.9,
          6.9,
          6.9,
          6.9,
          6.9,
          6.9,
          6.9,
          6.9,
          6.9,
          6.9,
          6.9,
          6.9,
          6.9,
          6.9,
          6.9,
          6.9,
          6.9,
          6.9,
          6.9,
          6.9,
          6.9,
          6.9,
          6.9,
          6.9,
          6.9,
          6.9,
          6.9,
          6.9,
          6.9,
          6.9,
          6.9,
          6.8,
          6.8,
          6.8,
          6.8,
          6.8,
          6.8,
          6.8,
          6.8,
          6.8,
          6.8,
          6.8,
          6.8,
          6.8,
          6.8,
          6.8,
          6.8,
          6.8,
          6.8,
          6.8,
          6.8,
          6.8,
          6.8,
          6.8,
          6.8,
          6.8,
          6.8,
          6.8,
          6.8,
          6.8,
          6.8,
          6.8,
          6.8,
          6.8,
          6.8,
          6.8,
          6.8,
          6.8,
          6.8,
          6.8,
          6.8,
          6.8,
          6.8,
          6.8,
          6.8,
          6.8,
          6.7,
          6.7,
          6.7,
          6.7,
          6.7,
          6.7,
          6.7,
          6.7,
          6.7,
          6.7,
          6.7,
          6.7,
          6.7,
          6.7,
          6.7,
          6.7,
          6.7,
          6.7,
          6.7,
          6.7,
          6.7,
          6.7,
          6.7,
          6.7,
          6.7,
          6.7,
          6.7,
          6.7,
          6.7,
          6.7,
          6.7,
          6.7,
          6.7,
          6.7,
          6.7,
          6.7,
          6.7,
          6.7,
          6.7,
          6.7,
          6.7,
          6.7,
          6.7,
          6.7,
          6.7,
          6.6,
          6.6,
          6.6,
          6.6,
          6.6,
          6.6,
          6.6,
          6.6,
          6.6,
          6.6,
          6.6,
          6.6,
          6.6,
          6.6,
          6.6,
          6.6,
          6.6,
          6.6,
          6.6,
          6.6,
          6.6,
          6.6,
          6.6,
          6.6,
          6.6,
          6.6,
          6.6,
          6.6,
          6.6,
          6.6,
          6.6,
          6.6,
          6.6,
          6.6,
          6.6,
          6.6,
          6.6,
          6.6,
          6.6,
          6.6,
          6.6,
          6.6,
          6.6,
          6.6,
          6.6,
          6.6,
          6.6,
          6.6,
          6.6,
          6.5,
          6.5,
          6.5,
          6.5,
          6.5,
          6.5,
          6.5,
          6.5,
          6.5,
          6.5,
          6.5,
          6.5,
          6.5,
          6.5,
          6.5,
          6.5,
          6.5,
          6.5,
          6.5,
          6.5,
          6.5,
          6.5,
          6.5,
          6.5,
          6.5,
          6.5,
          6.5,
          6.5,
          6.5,
          6.5,
          6.5,
          6.5,
          6.5,
          6.5,
          6.5,
          6.5,
          6.5,
          6.5,
          6.5,
          6.5,
          6.5,
          6.5,
          6.5,
          6.5,
          6.5,
          6.5,
          6.4,
          6.4,
          6.4,
          6.4,
          6.4,
          6.4,
          6.4,
          6.4,
          6.4,
          6.4,
          6.4,
          6.4,
          6.4,
          6.4,
          6.4,
          6.4,
          6.4,
          6.4,
          6.4,
          6.4,
          6.4,
          6.4,
          6.4,
          6.4,
          6.4,
          6.4,
          6.4,
          6.4,
          6.4,
          6.4,
          6.4,
          6.4,
          6.4,
          6.4,
          6.4,
          6.4,
          6.4,
          6.4,
          6.4,
          6.4,
          6.4,
          6.4,
          6.4,
          6.4,
          6.4,
          6.3,
          6.3,
          6.3,
          6.3,
          6.3,
          6.3,
          6.3,
          6.3,
          6.3,
          6.3,
          6.3,
          6.3,
          6.3,
          6.3,
          6.3,
          6.3,
          6.3,
          6.3,
          6.3,
          6.3,
          6.3,
          6.3,
          6.3,
          6.3,
          6.3,
          6.3,
          6.3,
          6.3,
          6.3,
          6.3,
          6.3,
          6.3,
          6.3,
          6.3,
          6.3,
          6.3,
          6.3,
          6.3,
          6.3,
          6.3,
          6.3,
          6.3,
          6.3,
          6.3,
          6.3,
          6.3,
          6.3,
          6.3,
          6.3,
          6.3,
          6.3,
          6.3,
          6.3,
          6.3,
          6.3,
          6.3,
          6.3,
          6.3,
          6.3,
          6.3,
          6.3,
          6.2,
          6.2,
          6.2,
          6.2,
          6.2,
          6.2,
          6.2,
          6.2,
          6.2,
          6.2,
          6.2,
          6.2,
          6.2,
          6.2,
          6.2,
          6.2,
          6.2,
          6.2,
          6.2,
          6.2,
          6.2,
          6.2,
          6.2,
          6.2,
          6.2,
          6.2,
          6.2,
          6.2,
          6.2,
          6.2,
          6.2,
          6.2,
          6.1,
          6.1,
          6.1,
          6.1,
          6.1,
          6.1,
          6.1,
          6.1,
          6.1,
          6.1,
          6.1,
          6.1,
          6.1,
          6.1,
          6.1,
          6.1,
          6.1,
          6.1,
          6.1,
          6.1,
          6.1,
          6.1,
          6.1,
          6.1,
          6.1,
          6.1,
          6.1,
          6.1,
          6.1,
          6.1,
          6.1,
          6.1,
          6.1,
          6.1,
          6.1,
          6.1,
          6.1,
          6,
          6,
          6,
          6,
          6,
          6,
          6,
          6,
          6,
          6,
          6,
          6,
          6,
          6,
          6,
          6,
          6,
          6,
          6,
          6,
          6,
          6,
          6,
          6,
          6,
          6,
          6,
          6,
          6,
          6,
          6,
          6,
          6,
          6,
          5.9,
          5.9,
          5.9,
          5.9,
          5.9,
          5.9,
          5.9,
          5.9,
          5.9,
          5.9,
          5.9,
          5.9,
          5.9,
          5.9,
          5.9,
          5.9,
          5.9,
          5.9,
          5.9,
          5.9,
          5.9,
          5.9,
          5.9,
          5.9,
          5.9,
          5.9,
          5.9,
          5.8,
          5.8,
          5.8,
          5.8,
          5.8,
          5.8,
          5.8,
          5.8,
          5.8,
          5.8,
          5.8,
          5.8,
          5.8,
          5.8,
          5.8,
          5.8,
          5.8,
          5.8,
          5.8,
          5.8,
          5.8,
          5.8,
          5.8,
          5.8,
          5.8,
          5.8,
          5.7,
          5.7,
          5.7,
          5.7,
          5.7,
          5.7,
          5.7,
          5.7,
          5.7,
          5.7,
          5.7,
          5.7,
          5.7,
          5.7,
          5.7,
          5.7,
          5.7,
          5.7,
          5.7,
          5.7,
          5.7,
          5.7,
          5.7,
          5.7,
          5.7,
          5.7,
          5.7,
          5.7,
          5.7,
          5.7,
          5.7,
          5.7,
          5.7,
          5.7,
          5.7,
          5.7,
          5.7,
          5.6,
          5.6,
          5.6,
          5.6,
          5.6,
          5.6,
          5.6,
          5.6,
          5.6,
          5.6,
          5.6,
          5.6,
          5.6,
          5.6,
          5.6,
          5.6,
          5.6,
          5.6,
          5.6,
          5.6,
          5.6,
          5.6,
          5.6,
          5.6,
          5.6,
          5.6,
          5.6,
          5.6,
          5.6,
          5.6,
          5.5,
          5.5,
          5.5,
          5.5,
          5.5,
          5.5,
          5.5,
          5.5,
          5.5,
          5.5,
          5.5,
          5.5,
          5.5,
          5.5,
          5.5,
          5.5,
          5.5,
          5.5,
          5.5,
          5.5,
          5.5,
          5.5,
          5.5,
          5.5,
          5.5,
          5.4,
          5.4,
          5.4,
          5.4,
          5.4,
          5.4,
          5.4,
          5.4,
          5.4,
          5.4,
          5.4,
          5.4,
          5.4,
          5.4,
          5.4,
          5.4,
          5.4,
          5.4,
          5.4,
          5.4,
          5.4,
          5.4,
          5.4,
          5.4,
          5.3,
          5.3,
          5.3,
          5.3,
          5.3,
          5.3,
          5.3,
          5.3,
          5.3,
          5.3,
          5.3,
          5.3,
          5.3,
          5.3,
          5.3,
          5.3,
          5.3,
          5.3,
          5.3,
          5.2,
          5.2,
          5.2,
          5.2,
          5.2,
          5.2,
          5.2,
          5.2,
          5.2,
          5.2,
          5.2,
          5.2,
          5.2,
          5.2,
          5.2,
          5.2,
          5.2,
          5.2,
          5.2,
          5.2,
          5.2,
          5.2,
          5.2,
          5.2,
          5.2,
          5.2,
          5.1,
          5.1,
          5.1,
          5.1,
          5.1,
          5.1,
          5.1,
          5.1,
          5.1,
          5.1,
          5.1,
          5.1,
          5.1,
          5,
          5,
          5,
          5,
          5,
          5,
          5,
          5,
          5,
          5,
          5,
          5,
          5,
          5,
          5,
          4.9,
          4.9,
          4.9,
          4.9,
          4.9,
          4.9,
          4.9,
          4.9,
          4.9,
          4.9,
          4.9,
          4.9,
          4.9,
          4.9,
          4.9,
          4.9,
          4.8,
          4.8,
          4.8,
          4.8,
          4.8,
          4.8,
          4.8,
          4.8,
          4.8,
          4.8,
          4.8,
          4.8,
          4.8,
          4.8,
          4.7,
          4.7,
          4.7,
          4.7,
          4.6,
          4.6,
          4.6,
          4.6,
          4.6,
          4.6,
          4.6,
          4.6,
          4.6,
          4.6,
          4.5,
          4.5,
          4.5,
          4.5,
          4.5,
          4.5,
          4.5,
          4.4,
          4.3,
          4.3,
          4.3,
          4.3,
          4.3,
          4.3,
          4.2,
          4.2,
          4.2,
          4.2,
          4.2,
          4.1,
          4.1,
          4,
          4,
          4,
          4,
          3.9,
          3.9,
          3.8,
          3.8,
          3.7,
          3.6,
          3.6,
          3.5,
          3.4,
          3.2,
          3.1,
          2.8,
          2.6,
          2.5,
          1.6
         ],
         "yaxis": "y"
        },
        {
         "hovertemplate": "<b>LOWESS trendline</b><br><br>release_year=%{x}<br>IMDB Score=%{y} <b>(trend)</b><extra></extra>",
         "legendgroup": "",
         "marker": {
          "color": "#636efa",
          "symbol": "circle"
         },
         "mode": "lines",
         "name": "",
         "showlegend": false,
         "type": "scattergl",
         "x": [
          1938,
          1940,
          1940,
          1941,
          1941,
          1941,
          1942,
          1943,
          1945,
          1947,
          1948,
          1948,
          1950,
          1950,
          1950,
          1951,
          1952,
          1953,
          1953,
          1955,
          1955,
          1955,
          1955,
          1955,
          1955,
          1956,
          1956,
          1956,
          1957,
          1957,
          1958,
          1958,
          1959,
          1959,
          1960,
          1960,
          1960,
          1960,
          1960,
          1961,
          1961,
          1961,
          1961,
          1961,
          1962,
          1962,
          1963,
          1963,
          1963,
          1964,
          1964,
          1964,
          1965,
          1965,
          1965,
          1966,
          1967,
          1967,
          1967,
          1968,
          1969,
          1969,
          1969,
          1970,
          1971,
          1971,
          1971,
          1972,
          1972,
          1973,
          1973,
          1973,
          1974,
          1974,
          1974,
          1974,
          1975,
          1975,
          1975,
          1975,
          1976,
          1976,
          1976,
          1976,
          1977,
          1977,
          1977,
          1977,
          1977,
          1977,
          1977,
          1977,
          1978,
          1978,
          1979,
          1979,
          1979,
          1979,
          1979,
          1979,
          1980,
          1980,
          1980,
          1981,
          1981,
          1981,
          1981,
          1981,
          1982,
          1983,
          1984,
          1984,
          1985,
          1985,
          1985,
          1985,
          1985,
          1985,
          1985,
          1985,
          1986,
          1986,
          1986,
          1987,
          1987,
          1987,
          1987,
          1987,
          1988,
          1988,
          1988,
          1988,
          1988,
          1988,
          1988,
          1989,
          1989,
          1989,
          1989,
          1989,
          1989,
          1989,
          1990,
          1990,
          1990,
          1990,
          1990,
          1990,
          1991,
          1991,
          1991,
          1991,
          1991,
          1991,
          1991,
          1991,
          1991,
          1992,
          1992,
          1992,
          1992,
          1992,
          1992,
          1992,
          1992,
          1992,
          1992,
          1992,
          1993,
          1993,
          1993,
          1993,
          1993,
          1993,
          1993,
          1993,
          1993,
          1994,
          1994,
          1994,
          1994,
          1994,
          1994,
          1994,
          1994,
          1994,
          1994,
          1994,
          1994,
          1994,
          1995,
          1995,
          1995,
          1995,
          1995,
          1995,
          1995,
          1995,
          1995,
          1995,
          1995,
          1995,
          1995,
          1995,
          1995,
          1996,
          1996,
          1996,
          1996,
          1996,
          1996,
          1996,
          1996,
          1996,
          1996,
          1996,
          1996,
          1996,
          1997,
          1997,
          1997,
          1997,
          1997,
          1997,
          1997,
          1997,
          1997,
          1997,
          1997,
          1997,
          1997,
          1997,
          1998,
          1998,
          1998,
          1998,
          1998,
          1998,
          1998,
          1998,
          1998,
          1998,
          1998,
          1998,
          1998,
          1998,
          1998,
          1998,
          1999,
          1999,
          1999,
          1999,
          1999,
          1999,
          1999,
          1999,
          1999,
          1999,
          1999,
          1999,
          1999,
          1999,
          1999,
          1999,
          1999,
          1999,
          1999,
          1999,
          1999,
          1999,
          2000,
          2000,
          2000,
          2000,
          2000,
          2000,
          2000,
          2000,
          2000,
          2000,
          2000,
          2000,
          2000,
          2000,
          2000,
          2000,
          2000,
          2000,
          2000,
          2000,
          2001,
          2001,
          2001,
          2001,
          2001,
          2001,
          2001,
          2001,
          2001,
          2001,
          2001,
          2001,
          2001,
          2001,
          2001,
          2001,
          2001,
          2002,
          2002,
          2002,
          2002,
          2002,
          2002,
          2002,
          2002,
          2002,
          2002,
          2002,
          2002,
          2002,
          2002,
          2002,
          2002,
          2002,
          2002,
          2002,
          2002,
          2002,
          2002,
          2002,
          2002,
          2003,
          2003,
          2003,
          2003,
          2003,
          2003,
          2003,
          2003,
          2003,
          2003,
          2003,
          2003,
          2003,
          2003,
          2003,
          2003,
          2003,
          2003,
          2003,
          2003,
          2003,
          2003,
          2004,
          2004,
          2004,
          2004,
          2004,
          2004,
          2004,
          2004,
          2004,
          2004,
          2004,
          2004,
          2004,
          2004,
          2004,
          2004,
          2004,
          2004,
          2005,
          2005,
          2005,
          2005,
          2005,
          2005,
          2005,
          2005,
          2005,
          2005,
          2005,
          2005,
          2005,
          2005,
          2005,
          2005,
          2005,
          2005,
          2005,
          2005,
          2005,
          2005,
          2005,
          2005,
          2005,
          2005,
          2005,
          2006,
          2006,
          2006,
          2006,
          2006,
          2006,
          2006,
          2006,
          2006,
          2006,
          2006,
          2006,
          2006,
          2006,
          2006,
          2006,
          2006,
          2006,
          2006,
          2006,
          2006,
          2007,
          2007,
          2007,
          2007,
          2007,
          2007,
          2007,
          2007,
          2007,
          2007,
          2007,
          2007,
          2007,
          2007,
          2007,
          2007,
          2007,
          2007,
          2007,
          2007,
          2007,
          2008,
          2008,
          2008,
          2008,
          2008,
          2008,
          2008,
          2008,
          2008,
          2008,
          2008,
          2008,
          2008,
          2008,
          2008,
          2008,
          2008,
          2008,
          2008,
          2008,
          2008,
          2008,
          2009,
          2009,
          2009,
          2009,
          2009,
          2009,
          2009,
          2009,
          2009,
          2009,
          2009,
          2009,
          2009,
          2009,
          2009,
          2009,
          2009,
          2009,
          2009,
          2009,
          2009,
          2009,
          2009,
          2009,
          2009,
          2009,
          2009,
          2009,
          2009,
          2010,
          2010,
          2010,
          2010,
          2010,
          2010,
          2010,
          2010,
          2010,
          2010,
          2010,
          2010,
          2010,
          2010,
          2010,
          2010,
          2010,
          2010,
          2010,
          2010,
          2010,
          2010,
          2010,
          2010,
          2010,
          2010,
          2010,
          2010,
          2010,
          2010,
          2010,
          2010,
          2010,
          2010,
          2011,
          2011,
          2011,
          2011,
          2011,
          2011,
          2011,
          2011,
          2011,
          2011,
          2011,
          2011,
          2011,
          2011,
          2011,
          2011,
          2011,
          2011,
          2011,
          2011,
          2011,
          2011,
          2011,
          2011,
          2011,
          2011,
          2011,
          2011,
          2011,
          2011,
          2011,
          2011,
          2011,
          2011,
          2012,
          2012,
          2012,
          2012,
          2012,
          2012,
          2012,
          2012,
          2012,
          2012,
          2012,
          2012,
          2012,
          2012,
          2012,
          2012,
          2012,
          2012,
          2012,
          2012,
          2012,
          2012,
          2012,
          2012,
          2012,
          2012,
          2012,
          2012,
          2012,
          2012,
          2012,
          2012,
          2012,
          2012,
          2012,
          2012,
          2012,
          2012,
          2013,
          2013,
          2013,
          2013,
          2013,
          2013,
          2013,
          2013,
          2013,
          2013,
          2013,
          2013,
          2013,
          2013,
          2013,
          2013,
          2013,
          2013,
          2013,
          2013,
          2013,
          2013,
          2013,
          2013,
          2013,
          2013,
          2013,
          2013,
          2013,
          2013,
          2013,
          2013,
          2013,
          2013,
          2013,
          2014,
          2014,
          2014,
          2014,
          2014,
          2014,
          2014,
          2014,
          2014,
          2014,
          2014,
          2014,
          2014,
          2014,
          2014,
          2014,
          2014,
          2014,
          2014,
          2014,
          2014,
          2014,
          2014,
          2014,
          2014,
          2014,
          2014,
          2014,
          2014,
          2014,
          2014,
          2014,
          2014,
          2014,
          2014,
          2015,
          2015,
          2015,
          2015,
          2015,
          2015,
          2015,
          2015,
          2015,
          2015,
          2015,
          2015,
          2015,
          2015,
          2015,
          2015,
          2015,
          2015,
          2015,
          2015,
          2015,
          2015,
          2015,
          2015,
          2015,
          2015,
          2015,
          2015,
          2015,
          2015,
          2015,
          2015,
          2015,
          2015,
          2015,
          2015,
          2015,
          2015,
          2015,
          2015,
          2015,
          2015,
          2015,
          2016,
          2016,
          2016,
          2016,
          2016,
          2016,
          2016,
          2016,
          2016,
          2016,
          2016,
          2016,
          2016,
          2016,
          2016,
          2016,
          2016,
          2016,
          2016,
          2016,
          2016,
          2016,
          2016,
          2016,
          2016,
          2016,
          2016,
          2016,
          2016,
          2016,
          2016,
          2016,
          2016,
          2016,
          2016,
          2016,
          2016,
          2016,
          2016,
          2016,
          2016,
          2016,
          2016,
          2016,
          2016,
          2016,
          2016,
          2016,
          2016,
          2016,
          2016,
          2016,
          2017,
          2017,
          2017,
          2017,
          2017,
          2017,
          2017,
          2017,
          2017,
          2017,
          2017,
          2017,
          2017,
          2017,
          2017,
          2017,
          2017,
          2017,
          2017,
          2017,
          2017,
          2017,
          2017,
          2017,
          2017,
          2017,
          2017,
          2017,
          2017,
          2017,
          2017,
          2017,
          2017,
          2017,
          2017,
          2017,
          2017,
          2017,
          2017,
          2017,
          2017,
          2017,
          2017,
          2017,
          2017,
          2017,
          2017,
          2017,
          2017,
          2017,
          2017,
          2017,
          2017,
          2017,
          2017,
          2017,
          2017,
          2017,
          2017,
          2017,
          2018,
          2018,
          2018,
          2018,
          2018,
          2018,
          2018,
          2018,
          2018,
          2018,
          2018,
          2018,
          2018,
          2018,
          2018,
          2018,
          2018,
          2018,
          2018,
          2018,
          2018,
          2018,
          2018,
          2018,
          2018,
          2018,
          2018,
          2018,
          2018,
          2018,
          2018,
          2018,
          2018,
          2018,
          2018,
          2018,
          2018,
          2018,
          2018,
          2018,
          2018,
          2018,
          2018,
          2019,
          2019,
          2019,
          2019,
          2019,
          2019,
          2019,
          2019,
          2019,
          2019,
          2019,
          2019,
          2019,
          2019,
          2019,
          2019,
          2019,
          2019,
          2019,
          2019,
          2019,
          2019,
          2019,
          2019,
          2019,
          2019,
          2019,
          2019,
          2019,
          2019,
          2019,
          2019,
          2019,
          2019,
          2019,
          2019,
          2019,
          2019,
          2019,
          2019,
          2019,
          2019,
          2019,
          2019,
          2019,
          2019,
          2019,
          2019,
          2019,
          2019,
          2019,
          2019,
          2019,
          2019,
          2019,
          2019,
          2019,
          2019,
          2019,
          2019,
          2019,
          2019,
          2019,
          2019,
          2019,
          2019,
          2019,
          2019,
          2019,
          2019,
          2019,
          2019,
          2019,
          2019,
          2019,
          2019,
          2019,
          2020,
          2020,
          2020,
          2020,
          2020,
          2020,
          2020,
          2020,
          2020,
          2020,
          2020,
          2020,
          2020,
          2020,
          2020,
          2020,
          2020,
          2020,
          2020,
          2020,
          2020,
          2020,
          2020,
          2020,
          2020,
          2020,
          2020,
          2020,
          2020,
          2020,
          2020,
          2020,
          2020,
          2020,
          2020,
          2020,
          2020,
          2020,
          2020,
          2020,
          2020,
          2020,
          2020,
          2020,
          2020,
          2020,
          2020,
          2020,
          2020,
          2020,
          2020,
          2020,
          2020,
          2020,
          2020,
          2020,
          2020,
          2020,
          2020,
          2020,
          2020,
          2020,
          2020,
          2020,
          2020,
          2020,
          2020,
          2020,
          2020,
          2020,
          2020,
          2020,
          2020,
          2020,
          2020,
          2020,
          2020,
          2020,
          2020,
          2020,
          2020,
          2020,
          2020,
          2020,
          2020,
          2020,
          2020,
          2020,
          2020,
          2021,
          2021,
          2021,
          2021,
          2021,
          2021,
          2021,
          2021,
          2021,
          2021,
          2021,
          2021,
          2021,
          2021,
          2021,
          2021,
          2021,
          2021,
          2021,
          2021,
          2021,
          2021,
          2021,
          2021,
          2021,
          2021,
          2021,
          2021,
          2021,
          2021,
          2021,
          2021,
          2021,
          2021,
          2021,
          2021,
          2021,
          2021,
          2021,
          2021,
          2021,
          2021,
          2021,
          2021,
          2021,
          2021,
          2021,
          2021,
          2021,
          2021,
          2021,
          2021,
          2021,
          2021,
          2021,
          2021,
          2021,
          2021,
          2021,
          2021,
          2021,
          2021,
          2021,
          2021,
          2021,
          2021,
          2021,
          2021,
          2021,
          2021,
          2021,
          2021,
          2021,
          2021,
          2021,
          2021,
          2021,
          2021,
          2021,
          2021,
          2021,
          2021,
          2021,
          2021,
          2021,
          2021,
          2021,
          2021,
          2021,
          2021,
          2021,
          2021,
          2021,
          2021,
          2021,
          2021,
          2021,
          2021,
          2021,
          2021,
          2021,
          2022,
          2022,
          2022,
          2022,
          2022,
          2022,
          2022,
          2022,
          2022,
          2022,
          2022,
          2022,
          2022,
          2022,
          2022,
          2022,
          2022,
          2022,
          2022,
          2022,
          2022,
          2022,
          2022,
          2022,
          2022,
          2022,
          2022,
          2022,
          2022,
          2022,
          2022,
          2022,
          2022,
          2022,
          2022,
          2022,
          2022,
          2022,
          2022,
          2022,
          2022,
          2022,
          2022,
          2022,
          2022,
          2022,
          2022,
          2022,
          2022,
          2022,
          2022,
          2022,
          2022,
          2022,
          2022,
          2022,
          2022,
          2022,
          2022,
          2022,
          2022,
          2022,
          2022,
          2022,
          2022,
          2022,
          2022,
          2022,
          2022,
          2022,
          2022,
          2022,
          2022,
          2022,
          2022,
          2022,
          2022,
          2022,
          2022,
          2022,
          2022,
          2022,
          2022,
          2022,
          2022,
          2022,
          2022,
          2022,
          2022,
          2022,
          2022,
          2022,
          2022,
          2022,
          2022,
          2022,
          2022,
          2022,
          2022,
          2022,
          2022,
          2022,
          2022,
          2022,
          2022,
          2022,
          2022,
          2022,
          2022,
          2022,
          2022,
          2022,
          2022,
          2022,
          2022,
          2022,
          2022,
          2022,
          2022,
          2022,
          2022,
          2023,
          2023,
          2023,
          2023,
          2023,
          2023,
          2023,
          2023,
          2023,
          2023,
          2023
         ],
         "xaxis": "x",
         "y": [
          7.1649102195239935,
          7.138858558726278,
          7.138858558726278,
          7.125847802098561,
          7.125847802098561,
          7.125847802098561,
          7.1128473303754465,
          7.099857021285918,
          7.073907359212057,
          7.048010085499646,
          7.035088106011495,
          7.035088106011495,
          7.00931241490401,
          7.00931241490401,
          7.00931241490401,
          6.996468167776811,
          6.983659823940566,
          6.970892464385556,
          6.970892464385556,
          6.945502211644133,
          6.945502211644133,
          6.945502211644133,
          6.945502211644133,
          6.945502211644133,
          6.945502211644133,
          6.932888441643468,
          6.932888441643468,
          6.932888441643468,
          6.920331777951676,
          6.920331777951676,
          6.907832478320804,
          6.907832478320804,
          6.895389205739096,
          6.895389205739096,
          6.882999593848008,
          6.882999593848008,
          6.882999593848008,
          6.882999593848008,
          6.882999593848008,
          6.870660639831598,
          6.870660639831598,
          6.870660639831598,
          6.870660639831598,
          6.870660639831598,
          6.858366686431875,
          6.858366686431875,
          6.846110800744732,
          6.846110800744732,
          6.846110800744732,
          6.833886313111748,
          6.833886313111748,
          6.833886313111748,
          6.821685428732107,
          6.821685428732107,
          6.821685428732107,
          6.80949889730956,
          6.797314890906314,
          6.797314890906314,
          6.797314890906314,
          6.785119379097112,
          6.772895135280952,
          6.772895135280952,
          6.772895135280952,
          6.760621034011848,
          6.748271663008664,
          6.748271663008664,
          6.748271663008664,
          6.735814863453724,
          6.735814863453724,
          6.723212112625266,
          6.723212112625266,
          6.723212112625266,
          6.710414562241539,
          6.710414562241539,
          6.710414562241539,
          6.710414562241539,
          6.697356451390396,
          6.697356451390396,
          6.697356451390396,
          6.697356451390396,
          6.683957207561662,
          6.683957207561662,
          6.683957207561662,
          6.683957207561662,
          6.670119342715349,
          6.670119342715349,
          6.670119342715349,
          6.670119342715349,
          6.670119342715349,
          6.670119342715349,
          6.670119342715349,
          6.670119342715349,
          6.655720476715431,
          6.655720476715431,
          6.640623522805725,
          6.640623522805725,
          6.640623522805725,
          6.640623522805725,
          6.640623522805725,
          6.640623522805725,
          6.624772725857124,
          6.624772725857124,
          6.624772725857124,
          6.608237161714963,
          6.608237161714963,
          6.608237161714963,
          6.608237161714963,
          6.608237161714963,
          6.591299640114993,
          6.574322732590624,
          6.557896563099938,
          6.557896563099938,
          6.542672022674252,
          6.542672022674252,
          6.542672022674252,
          6.542672022674252,
          6.542672022674252,
          6.542672022674252,
          6.542672022674252,
          6.542672022674252,
          6.529263233661062,
          6.529263233661062,
          6.529263233661062,
          6.514592081443087,
          6.514592081443087,
          6.514592081443087,
          6.514592081443087,
          6.514592081443087,
          6.504165166565718,
          6.504165166565718,
          6.504165166565718,
          6.504165166565718,
          6.504165166565718,
          6.504165166565718,
          6.504165166565718,
          6.4956838663625645,
          6.4956838663625645,
          6.4956838663625645,
          6.4956838663625645,
          6.4956838663625645,
          6.4956838663625645,
          6.4956838663625645,
          6.488955620624268,
          6.488955620624268,
          6.488955620624268,
          6.488955620624268,
          6.488955620624268,
          6.488955620624268,
          6.483582820760987,
          6.483582820760987,
          6.483582820760987,
          6.483582820760987,
          6.483582820760987,
          6.483582820760987,
          6.483582820760987,
          6.483582820760987,
          6.483582820760987,
          6.479241515444536,
          6.479241515444536,
          6.479241515444536,
          6.479241515444536,
          6.479241515444536,
          6.479241515444536,
          6.479241515444536,
          6.479241515444536,
          6.479241515444536,
          6.479241515444536,
          6.479241515444536,
          6.475145855307646,
          6.475145855307646,
          6.475145855307646,
          6.475145855307646,
          6.475145855307646,
          6.475145855307646,
          6.475145855307646,
          6.475145855307646,
          6.475145855307646,
          6.470348516831398,
          6.470348516831398,
          6.470348516831398,
          6.470348516831398,
          6.470348516831398,
          6.470348516831398,
          6.470348516831398,
          6.470348516831398,
          6.470348516831398,
          6.470348516831398,
          6.470348516831398,
          6.470348516831398,
          6.470348516831398,
          6.463866942081124,
          6.463866942081124,
          6.463866942081124,
          6.463866942081124,
          6.463866942081124,
          6.463866942081124,
          6.463866942081124,
          6.463866942081124,
          6.463866942081124,
          6.463866942081124,
          6.463866942081124,
          6.463866942081124,
          6.463866942081124,
          6.463866942081124,
          6.463866942081124,
          6.454899944326703,
          6.454899944326703,
          6.454899944326703,
          6.454899944326703,
          6.454899944326703,
          6.454899944326703,
          6.454899944326703,
          6.454899944326703,
          6.454899944326703,
          6.454899944326703,
          6.454899944326703,
          6.454899944326703,
          6.454899944326703,
          6.442911307323713,
          6.442911307323713,
          6.442911307323713,
          6.442911307323713,
          6.442911307323713,
          6.442911307323713,
          6.442911307323713,
          6.442911307323713,
          6.442911307323713,
          6.442911307323713,
          6.442911307323713,
          6.442911307323713,
          6.442911307323713,
          6.442911307323713,
          6.428792014864067,
          6.428792014864067,
          6.428792014864067,
          6.428792014864067,
          6.428792014864067,
          6.428792014864067,
          6.428792014864067,
          6.428792014864067,
          6.428792014864067,
          6.428792014864067,
          6.428792014864067,
          6.428792014864067,
          6.428792014864067,
          6.428792014864067,
          6.428792014864067,
          6.428792014864067,
          6.413039186337562,
          6.413039186337562,
          6.413039186337562,
          6.413039186337562,
          6.413039186337562,
          6.413039186337562,
          6.413039186337562,
          6.413039186337562,
          6.413039186337562,
          6.413039186337562,
          6.413039186337562,
          6.413039186337562,
          6.413039186337562,
          6.413039186337562,
          6.413039186337562,
          6.413039186337562,
          6.413039186337562,
          6.413039186337562,
          6.413039186337562,
          6.413039186337562,
          6.413039186337562,
          6.413039186337562,
          6.405409668192389,
          6.405409668192389,
          6.405409668192389,
          6.405409668192389,
          6.405409668192389,
          6.405409668192389,
          6.405409668192389,
          6.405409668192389,
          6.405409668192389,
          6.405409668192389,
          6.405409668192389,
          6.405409668192389,
          6.405409668192389,
          6.405409668192389,
          6.405409668192389,
          6.405409668192389,
          6.405409668192389,
          6.405409668192389,
          6.405409668192389,
          6.405409668192389,
          6.392068243139078,
          6.392068243139078,
          6.392068243139078,
          6.392068243139078,
          6.392068243139078,
          6.392068243139078,
          6.392068243139078,
          6.392068243139078,
          6.392068243139078,
          6.392068243139078,
          6.392068243139078,
          6.392068243139078,
          6.392068243139078,
          6.392068243139078,
          6.392068243139078,
          6.392068243139078,
          6.392068243139078,
          6.378623313799485,
          6.378623313799485,
          6.378623313799485,
          6.378623313799485,
          6.378623313799485,
          6.378623313799485,
          6.378623313799485,
          6.378623313799485,
          6.378623313799485,
          6.378623313799485,
          6.378623313799485,
          6.378623313799485,
          6.378623313799485,
          6.378623313799485,
          6.378623313799485,
          6.378623313799485,
          6.378623313799485,
          6.378623313799485,
          6.378623313799485,
          6.378623313799485,
          6.378623313799485,
          6.378623313799485,
          6.378623313799485,
          6.378623313799485,
          6.367610125890844,
          6.367610125890844,
          6.367610125890844,
          6.367610125890844,
          6.367610125890844,
          6.367610125890844,
          6.367610125890844,
          6.367610125890844,
          6.367610125890844,
          6.367610125890844,
          6.367610125890844,
          6.367610125890844,
          6.367610125890844,
          6.367610125890844,
          6.367610125890844,
          6.367610125890844,
          6.367610125890844,
          6.367610125890844,
          6.367610125890844,
          6.367610125890844,
          6.367610125890844,
          6.367610125890844,
          6.3621914490387725,
          6.3621914490387725,
          6.3621914490387725,
          6.3621914490387725,
          6.3621914490387725,
          6.3621914490387725,
          6.3621914490387725,
          6.3621914490387725,
          6.3621914490387725,
          6.3621914490387725,
          6.3621914490387725,
          6.3621914490387725,
          6.3621914490387725,
          6.3621914490387725,
          6.3621914490387725,
          6.3621914490387725,
          6.3621914490387725,
          6.3621914490387725,
          6.364732542399412,
          6.364732542399412,
          6.364732542399412,
          6.364732542399412,
          6.364732542399412,
          6.364732542399412,
          6.364732542399412,
          6.364732542399412,
          6.364732542399412,
          6.364732542399412,
          6.364732542399412,
          6.364732542399412,
          6.364732542399412,
          6.364732542399412,
          6.364732542399412,
          6.364732542399412,
          6.364732542399412,
          6.364732542399412,
          6.364732542399412,
          6.364732542399412,
          6.364732542399412,
          6.364732542399412,
          6.364732542399412,
          6.364732542399412,
          6.364732542399412,
          6.364732542399412,
          6.364732542399412,
          6.377104634480402,
          6.377104634480402,
          6.377104634480402,
          6.377104634480402,
          6.377104634480402,
          6.377104634480402,
          6.377104634480402,
          6.377104634480402,
          6.377104634480402,
          6.377104634480402,
          6.377104634480402,
          6.377104634480402,
          6.377104634480402,
          6.377104634480402,
          6.377104634480402,
          6.377104634480402,
          6.377104634480402,
          6.377104634480402,
          6.377104634480402,
          6.377104634480402,
          6.377104634480402,
          6.396730212827533,
          6.396730212827533,
          6.396730212827533,
          6.396730212827533,
          6.396730212827533,
          6.396730212827533,
          6.396730212827533,
          6.396730212827533,
          6.396730212827533,
          6.396730212827533,
          6.396730212827533,
          6.396730212827533,
          6.396730212827533,
          6.396730212827533,
          6.396730212827533,
          6.396730212827533,
          6.396730212827533,
          6.396730212827533,
          6.396730212827533,
          6.396730212827533,
          6.396730212827533,
          6.432438875181482,
          6.432438875181482,
          6.432438875181482,
          6.432438875181482,
          6.432438875181482,
          6.432438875181482,
          6.432438875181482,
          6.432438875181482,
          6.432438875181482,
          6.432438875181482,
          6.432438875181482,
          6.432438875181482,
          6.432438875181482,
          6.432438875181482,
          6.432438875181482,
          6.432438875181482,
          6.432438875181482,
          6.432438875181482,
          6.432438875181482,
          6.432438875181482,
          6.432438875181482,
          6.432438875181482,
          6.4617470763117275,
          6.4617470763117275,
          6.4617470763117275,
          6.4617470763117275,
          6.4617470763117275,
          6.4617470763117275,
          6.4617470763117275,
          6.4617470763117275,
          6.4617470763117275,
          6.4617470763117275,
          6.4617470763117275,
          6.4617470763117275,
          6.4617470763117275,
          6.4617470763117275,
          6.4617470763117275,
          6.4617470763117275,
          6.4617470763117275,
          6.4617470763117275,
          6.4617470763117275,
          6.4617470763117275,
          6.4617470763117275,
          6.4617470763117275,
          6.4617470763117275,
          6.4617470763117275,
          6.4617470763117275,
          6.4617470763117275,
          6.4617470763117275,
          6.4617470763117275,
          6.4617470763117275,
          6.502003735025295,
          6.502003735025295,
          6.502003735025295,
          6.502003735025295,
          6.502003735025295,
          6.502003735025295,
          6.502003735025295,
          6.502003735025295,
          6.502003735025295,
          6.502003735025295,
          6.502003735025295,
          6.502003735025295,
          6.502003735025295,
          6.502003735025295,
          6.502003735025295,
          6.502003735025295,
          6.502003735025295,
          6.502003735025295,
          6.502003735025295,
          6.502003735025295,
          6.502003735025295,
          6.502003735025295,
          6.502003735025295,
          6.502003735025295,
          6.502003735025295,
          6.502003735025295,
          6.502003735025295,
          6.502003735025295,
          6.502003735025295,
          6.502003735025295,
          6.502003735025295,
          6.502003735025295,
          6.502003735025295,
          6.502003735025295,
          6.5562299386808816,
          6.5562299386808816,
          6.5562299386808816,
          6.5562299386808816,
          6.5562299386808816,
          6.5562299386808816,
          6.5562299386808816,
          6.5562299386808816,
          6.5562299386808816,
          6.5562299386808816,
          6.5562299386808816,
          6.5562299386808816,
          6.5562299386808816,
          6.5562299386808816,
          6.5562299386808816,
          6.5562299386808816,
          6.5562299386808816,
          6.5562299386808816,
          6.5562299386808816,
          6.5562299386808816,
          6.5562299386808816,
          6.5562299386808816,
          6.5562299386808816,
          6.5562299386808816,
          6.5562299386808816,
          6.5562299386808816,
          6.5562299386808816,
          6.5562299386808816,
          6.5562299386808816,
          6.5562299386808816,
          6.5562299386808816,
          6.5562299386808816,
          6.5562299386808816,
          6.5562299386808816,
          6.612986424536713,
          6.612986424536713,
          6.612986424536713,
          6.612986424536713,
          6.612986424536713,
          6.612986424536713,
          6.612986424536713,
          6.612986424536713,
          6.612986424536713,
          6.612986424536713,
          6.612986424536713,
          6.612986424536713,
          6.612986424536713,
          6.612986424536713,
          6.612986424536713,
          6.612986424536713,
          6.612986424536713,
          6.612986424536713,
          6.612986424536713,
          6.612986424536713,
          6.612986424536713,
          6.612986424536713,
          6.612986424536713,
          6.612986424536713,
          6.612986424536713,
          6.612986424536713,
          6.612986424536713,
          6.612986424536713,
          6.612986424536713,
          6.612986424536713,
          6.612986424536713,
          6.612986424536713,
          6.612986424536713,
          6.612986424536713,
          6.612986424536713,
          6.612986424536713,
          6.612986424536713,
          6.612986424536713,
          6.67903283635254,
          6.67903283635254,
          6.67903283635254,
          6.67903283635254,
          6.67903283635254,
          6.67903283635254,
          6.67903283635254,
          6.67903283635254,
          6.67903283635254,
          6.67903283635254,
          6.67903283635254,
          6.67903283635254,
          6.67903283635254,
          6.67903283635254,
          6.67903283635254,
          6.67903283635254,
          6.67903283635254,
          6.67903283635254,
          6.67903283635254,
          6.67903283635254,
          6.67903283635254,
          6.67903283635254,
          6.67903283635254,
          6.67903283635254,
          6.67903283635254,
          6.67903283635254,
          6.67903283635254,
          6.67903283635254,
          6.67903283635254,
          6.67903283635254,
          6.67903283635254,
          6.67903283635254,
          6.67903283635254,
          6.67903283635254,
          6.67903283635254,
          6.7380082368481675,
          6.7380082368481675,
          6.7380082368481675,
          6.7380082368481675,
          6.7380082368481675,
          6.7380082368481675,
          6.7380082368481675,
          6.7380082368481675,
          6.7380082368481675,
          6.7380082368481675,
          6.7380082368481675,
          6.7380082368481675,
          6.7380082368481675,
          6.7380082368481675,
          6.7380082368481675,
          6.7380082368481675,
          6.7380082368481675,
          6.7380082368481675,
          6.7380082368481675,
          6.7380082368481675,
          6.7380082368481675,
          6.7380082368481675,
          6.7380082368481675,
          6.7380082368481675,
          6.7380082368481675,
          6.7380082368481675,
          6.7380082368481675,
          6.7380082368481675,
          6.7380082368481675,
          6.7380082368481675,
          6.7380082368481675,
          6.7380082368481675,
          6.7380082368481675,
          6.7380082368481675,
          6.7380082368481675,
          6.774684685366628,
          6.774684685366628,
          6.774684685366628,
          6.774684685366628,
          6.774684685366628,
          6.774684685366628,
          6.774684685366628,
          6.774684685366628,
          6.774684685366628,
          6.774684685366628,
          6.774684685366628,
          6.774684685366628,
          6.774684685366628,
          6.774684685366628,
          6.774684685366628,
          6.774684685366628,
          6.774684685366628,
          6.774684685366628,
          6.774684685366628,
          6.774684685366628,
          6.774684685366628,
          6.774684685366628,
          6.774684685366628,
          6.774684685366628,
          6.774684685366628,
          6.774684685366628,
          6.774684685366628,
          6.774684685366628,
          6.774684685366628,
          6.774684685366628,
          6.774684685366628,
          6.774684685366628,
          6.774684685366628,
          6.774684685366628,
          6.774684685366628,
          6.774684685366628,
          6.774684685366628,
          6.774684685366628,
          6.774684685366628,
          6.774684685366628,
          6.774684685366628,
          6.774684685366628,
          6.774684685366628,
          6.786662885917707,
          6.786662885917707,
          6.786662885917707,
          6.786662885917707,
          6.786662885917707,
          6.786662885917707,
          6.786662885917707,
          6.786662885917707,
          6.786662885917707,
          6.786662885917707,
          6.786662885917707,
          6.786662885917707,
          6.786662885917707,
          6.786662885917707,
          6.786662885917707,
          6.786662885917707,
          6.786662885917707,
          6.786662885917707,
          6.786662885917707,
          6.786662885917707,
          6.786662885917707,
          6.786662885917707,
          6.786662885917707,
          6.786662885917707,
          6.786662885917707,
          6.786662885917707,
          6.786662885917707,
          6.786662885917707,
          6.786662885917707,
          6.786662885917707,
          6.786662885917707,
          6.786662885917707,
          6.786662885917707,
          6.786662885917707,
          6.786662885917707,
          6.786662885917707,
          6.786662885917707,
          6.786662885917707,
          6.786662885917707,
          6.786662885917707,
          6.786662885917707,
          6.786662885917707,
          6.786662885917707,
          6.786662885917707,
          6.786662885917707,
          6.786662885917707,
          6.786662885917707,
          6.786662885917707,
          6.786662885917707,
          6.786662885917707,
          6.786662885917707,
          6.786662885917707,
          6.7957731207115435,
          6.7957731207115435,
          6.7957731207115435,
          6.7957731207115435,
          6.7957731207115435,
          6.7957731207115435,
          6.7957731207115435,
          6.7957731207115435,
          6.7957731207115435,
          6.7957731207115435,
          6.7957731207115435,
          6.7957731207115435,
          6.7957731207115435,
          6.7957731207115435,
          6.7957731207115435,
          6.7957731207115435,
          6.7957731207115435,
          6.7957731207115435,
          6.7957731207115435,
          6.7957731207115435,
          6.7957731207115435,
          6.7957731207115435,
          6.7957731207115435,
          6.7957731207115435,
          6.7957731207115435,
          6.7957731207115435,
          6.7957731207115435,
          6.7957731207115435,
          6.7957731207115435,
          6.7957731207115435,
          6.7957731207115435,
          6.7957731207115435,
          6.7957731207115435,
          6.7957731207115435,
          6.7957731207115435,
          6.7957731207115435,
          6.7957731207115435,
          6.7957731207115435,
          6.7957731207115435,
          6.7957731207115435,
          6.7957731207115435,
          6.7957731207115435,
          6.7957731207115435,
          6.7957731207115435,
          6.7957731207115435,
          6.7957731207115435,
          6.7957731207115435,
          6.7957731207115435,
          6.7957731207115435,
          6.7957731207115435,
          6.7957731207115435,
          6.7957731207115435,
          6.7957731207115435,
          6.7957731207115435,
          6.7957731207115435,
          6.7957731207115435,
          6.7957731207115435,
          6.7957731207115435,
          6.7957731207115435,
          6.7957731207115435,
          6.802237186344066,
          6.802237186344066,
          6.802237186344066,
          6.802237186344066,
          6.802237186344066,
          6.802237186344066,
          6.802237186344066,
          6.802237186344066,
          6.802237186344066,
          6.802237186344066,
          6.802237186344066,
          6.802237186344066,
          6.802237186344066,
          6.802237186344066,
          6.802237186344066,
          6.802237186344066,
          6.802237186344066,
          6.802237186344066,
          6.802237186344066,
          6.802237186344066,
          6.802237186344066,
          6.802237186344066,
          6.802237186344066,
          6.802237186344066,
          6.802237186344066,
          6.802237186344066,
          6.802237186344066,
          6.802237186344066,
          6.802237186344066,
          6.802237186344066,
          6.802237186344066,
          6.802237186344066,
          6.802237186344066,
          6.802237186344066,
          6.802237186344066,
          6.802237186344066,
          6.802237186344066,
          6.802237186344066,
          6.802237186344066,
          6.802237186344066,
          6.802237186344066,
          6.802237186344066,
          6.802237186344066,
          6.806143940441079,
          6.806143940441079,
          6.806143940441079,
          6.806143940441079,
          6.806143940441079,
          6.806143940441079,
          6.806143940441079,
          6.806143940441079,
          6.806143940441079,
          6.806143940441079,
          6.806143940441079,
          6.806143940441079,
          6.806143940441079,
          6.806143940441079,
          6.806143940441079,
          6.806143940441079,
          6.806143940441079,
          6.806143940441079,
          6.806143940441079,
          6.806143940441079,
          6.806143940441079,
          6.806143940441079,
          6.806143940441079,
          6.806143940441079,
          6.806143940441079,
          6.806143940441079,
          6.806143940441079,
          6.806143940441079,
          6.806143940441079,
          6.806143940441079,
          6.806143940441079,
          6.806143940441079,
          6.806143940441079,
          6.806143940441079,
          6.806143940441079,
          6.806143940441079,
          6.806143940441079,
          6.806143940441079,
          6.806143940441079,
          6.806143940441079,
          6.806143940441079,
          6.806143940441079,
          6.806143940441079,
          6.806143940441079,
          6.806143940441079,
          6.806143940441079,
          6.806143940441079,
          6.806143940441079,
          6.806143940441079,
          6.806143940441079,
          6.806143940441079,
          6.806143940441079,
          6.806143940441079,
          6.806143940441079,
          6.806143940441079,
          6.806143940441079,
          6.806143940441079,
          6.806143940441079,
          6.806143940441079,
          6.806143940441079,
          6.806143940441079,
          6.806143940441079,
          6.806143940441079,
          6.806143940441079,
          6.806143940441079,
          6.806143940441079,
          6.806143940441079,
          6.806143940441079,
          6.806143940441079,
          6.806143940441079,
          6.806143940441079,
          6.806143940441079,
          6.806143940441079,
          6.806143940441079,
          6.806143940441079,
          6.806143940441079,
          6.806143940441079,
          6.807690752907936,
          6.807690752907936,
          6.807690752907936,
          6.807690752907936,
          6.807690752907936,
          6.807690752907936,
          6.807690752907936,
          6.807690752907936,
          6.807690752907936,
          6.807690752907936,
          6.807690752907936,
          6.807690752907936,
          6.807690752907936,
          6.807690752907936,
          6.807690752907936,
          6.807690752907936,
          6.807690752907936,
          6.807690752907936,
          6.807690752907936,
          6.807690752907936,
          6.807690752907936,
          6.807690752907936,
          6.807690752907936,
          6.807690752907936,
          6.807690752907936,
          6.807690752907936,
          6.807690752907936,
          6.807690752907936,
          6.807690752907936,
          6.807690752907936,
          6.807690752907936,
          6.807690752907936,
          6.807690752907936,
          6.807690752907936,
          6.807690752907936,
          6.807690752907936,
          6.807690752907936,
          6.807690752907936,
          6.807690752907936,
          6.807690752907936,
          6.807690752907936,
          6.807690752907936,
          6.807690752907936,
          6.807690752907936,
          6.807690752907936,
          6.807690752907936,
          6.807690752907936,
          6.807690752907936,
          6.807690752907936,
          6.807690752907936,
          6.807690752907936,
          6.807690752907936,
          6.807690752907936,
          6.807690752907936,
          6.807690752907936,
          6.807690752907936,
          6.807690752907936,
          6.807690752907936,
          6.807690752907936,
          6.807690752907936,
          6.807690752907936,
          6.807690752907936,
          6.807690752907936,
          6.807690752907936,
          6.807690752907936,
          6.807690752907936,
          6.807690752907936,
          6.807690752907936,
          6.807690752907936,
          6.807690752907936,
          6.807690752907936,
          6.807690752907936,
          6.807690752907936,
          6.807690752907936,
          6.807690752907936,
          6.807690752907936,
          6.807690752907936,
          6.807690752907936,
          6.807690752907936,
          6.807690752907936,
          6.807690752907936,
          6.807690752907936,
          6.807690752907936,
          6.807690752907936,
          6.807690752907936,
          6.807690752907936,
          6.807690752907936,
          6.807690752907936,
          6.807690752907936,
          6.8072568307712595,
          6.8072568307712595,
          6.8072568307712595,
          6.8072568307712595,
          6.8072568307712595,
          6.8072568307712595,
          6.8072568307712595,
          6.8072568307712595,
          6.8072568307712595,
          6.8072568307712595,
          6.8072568307712595,
          6.8072568307712595,
          6.8072568307712595,
          6.8072568307712595,
          6.8072568307712595,
          6.8072568307712595,
          6.8072568307712595,
          6.8072568307712595,
          6.8072568307712595,
          6.8072568307712595,
          6.8072568307712595,
          6.8072568307712595,
          6.8072568307712595,
          6.8072568307712595,
          6.8072568307712595,
          6.8072568307712595,
          6.8072568307712595,
          6.8072568307712595,
          6.8072568307712595,
          6.8072568307712595,
          6.8072568307712595,
          6.8072568307712595,
          6.8072568307712595,
          6.8072568307712595,
          6.8072568307712595,
          6.8072568307712595,
          6.8072568307712595,
          6.8072568307712595,
          6.8072568307712595,
          6.8072568307712595,
          6.8072568307712595,
          6.8072568307712595,
          6.8072568307712595,
          6.8072568307712595,
          6.8072568307712595,
          6.8072568307712595,
          6.8072568307712595,
          6.8072568307712595,
          6.8072568307712595,
          6.8072568307712595,
          6.8072568307712595,
          6.8072568307712595,
          6.8072568307712595,
          6.8072568307712595,
          6.8072568307712595,
          6.8072568307712595,
          6.8072568307712595,
          6.8072568307712595,
          6.8072568307712595,
          6.8072568307712595,
          6.8072568307712595,
          6.8072568307712595,
          6.8072568307712595,
          6.8072568307712595,
          6.8072568307712595,
          6.8072568307712595,
          6.8072568307712595,
          6.8072568307712595,
          6.8072568307712595,
          6.8072568307712595,
          6.8072568307712595,
          6.8072568307712595,
          6.8072568307712595,
          6.8072568307712595,
          6.8072568307712595,
          6.8072568307712595,
          6.8072568307712595,
          6.8072568307712595,
          6.8072568307712595,
          6.8072568307712595,
          6.8072568307712595,
          6.8072568307712595,
          6.8072568307712595,
          6.8072568307712595,
          6.8072568307712595,
          6.8072568307712595,
          6.8072568307712595,
          6.8072568307712595,
          6.8072568307712595,
          6.8072568307712595,
          6.8072568307712595,
          6.8072568307712595,
          6.8072568307712595,
          6.8072568307712595,
          6.8072568307712595,
          6.8072568307712595,
          6.8072568307712595,
          6.8072568307712595,
          6.8072568307712595,
          6.8072568307712595,
          6.8072568307712595,
          6.805163778551964,
          6.805163778551964,
          6.805163778551964,
          6.805163778551964,
          6.805163778551964,
          6.805163778551964,
          6.805163778551964,
          6.805163778551964,
          6.805163778551964,
          6.805163778551964,
          6.805163778551964,
          6.805163778551964,
          6.805163778551964,
          6.805163778551964,
          6.805163778551964,
          6.805163778551964,
          6.805163778551964,
          6.805163778551964,
          6.805163778551964,
          6.805163778551964,
          6.805163778551964,
          6.805163778551964,
          6.805163778551964,
          6.805163778551964,
          6.805163778551964,
          6.805163778551964,
          6.805163778551964,
          6.805163778551964,
          6.805163778551964,
          6.805163778551964,
          6.805163778551964,
          6.805163778551964,
          6.805163778551964,
          6.805163778551964,
          6.805163778551964,
          6.805163778551964,
          6.805163778551964,
          6.805163778551964,
          6.805163778551964,
          6.805163778551964,
          6.805163778551964,
          6.805163778551964,
          6.805163778551964,
          6.805163778551964,
          6.805163778551964,
          6.805163778551964,
          6.805163778551964,
          6.805163778551964,
          6.805163778551964,
          6.805163778551964,
          6.805163778551964,
          6.805163778551964,
          6.805163778551964,
          6.805163778551964,
          6.805163778551964,
          6.805163778551964,
          6.805163778551964,
          6.805163778551964,
          6.805163778551964,
          6.805163778551964,
          6.805163778551964,
          6.805163778551964,
          6.805163778551964,
          6.805163778551964,
          6.805163778551964,
          6.805163778551964,
          6.805163778551964,
          6.805163778551964,
          6.805163778551964,
          6.805163778551964,
          6.805163778551964,
          6.805163778551964,
          6.805163778551964,
          6.805163778551964,
          6.805163778551964,
          6.805163778551964,
          6.805163778551964,
          6.805163778551964,
          6.805163778551964,
          6.805163778551964,
          6.805163778551964,
          6.805163778551964,
          6.805163778551964,
          6.805163778551964,
          6.805163778551964,
          6.805163778551964,
          6.805163778551964,
          6.805163778551964,
          6.805163778551964,
          6.805163778551964,
          6.805163778551964,
          6.805163778551964,
          6.805163778551964,
          6.805163778551964,
          6.805163778551964,
          6.805163778551964,
          6.805163778551964,
          6.805163778551964,
          6.805163778551964,
          6.805163778551964,
          6.805163778551964,
          6.805163778551964,
          6.805163778551964,
          6.805163778551964,
          6.805163778551964,
          6.805163778551964,
          6.805163778551964,
          6.805163778551964,
          6.805163778551964,
          6.805163778551964,
          6.805163778551964,
          6.805163778551964,
          6.805163778551964,
          6.805163778551964,
          6.805163778551964,
          6.805163778551964,
          6.805163778551964,
          6.805163778551964,
          6.805163778551964,
          6.805163778551964,
          6.805163778551964,
          6.801639785718088,
          6.801639785718088,
          6.801639785718088,
          6.801639785718088,
          6.801639785718088,
          6.801639785718088,
          6.801639785718088,
          6.801639785718088,
          6.801639785718088,
          6.801639785718088,
          6.801639785718088
         ],
         "yaxis": "y"
        }
       ],
       "layout": {
        "legend": {
         "tracegroupgap": 0
        },
        "margin": {
         "t": 60
        },
        "template": {
         "data": {
          "bar": [
           {
            "error_x": {
             "color": "#2a3f5f"
            },
            "error_y": {
             "color": "#2a3f5f"
            },
            "marker": {
             "line": {
              "color": "#E5ECF6",
              "width": 0.5
             },
             "pattern": {
              "fillmode": "overlay",
              "size": 10,
              "solidity": 0.2
             }
            },
            "type": "bar"
           }
          ],
          "barpolar": [
           {
            "marker": {
             "line": {
              "color": "#E5ECF6",
              "width": 0.5
             },
             "pattern": {
              "fillmode": "overlay",
              "size": 10,
              "solidity": 0.2
             }
            },
            "type": "barpolar"
           }
          ],
          "carpet": [
           {
            "aaxis": {
             "endlinecolor": "#2a3f5f",
             "gridcolor": "white",
             "linecolor": "white",
             "minorgridcolor": "white",
             "startlinecolor": "#2a3f5f"
            },
            "baxis": {
             "endlinecolor": "#2a3f5f",
             "gridcolor": "white",
             "linecolor": "white",
             "minorgridcolor": "white",
             "startlinecolor": "#2a3f5f"
            },
            "type": "carpet"
           }
          ],
          "choropleth": [
           {
            "colorbar": {
             "outlinewidth": 0,
             "ticks": ""
            },
            "type": "choropleth"
           }
          ],
          "contour": [
           {
            "colorbar": {
             "outlinewidth": 0,
             "ticks": ""
            },
            "colorscale": [
             [
              0,
              "#0d0887"
             ],
             [
              0.1111111111111111,
              "#46039f"
             ],
             [
              0.2222222222222222,
              "#7201a8"
             ],
             [
              0.3333333333333333,
              "#9c179e"
             ],
             [
              0.4444444444444444,
              "#bd3786"
             ],
             [
              0.5555555555555556,
              "#d8576b"
             ],
             [
              0.6666666666666666,
              "#ed7953"
             ],
             [
              0.7777777777777778,
              "#fb9f3a"
             ],
             [
              0.8888888888888888,
              "#fdca26"
             ],
             [
              1,
              "#f0f921"
             ]
            ],
            "type": "contour"
           }
          ],
          "contourcarpet": [
           {
            "colorbar": {
             "outlinewidth": 0,
             "ticks": ""
            },
            "type": "contourcarpet"
           }
          ],
          "heatmap": [
           {
            "colorbar": {
             "outlinewidth": 0,
             "ticks": ""
            },
            "colorscale": [
             [
              0,
              "#0d0887"
             ],
             [
              0.1111111111111111,
              "#46039f"
             ],
             [
              0.2222222222222222,
              "#7201a8"
             ],
             [
              0.3333333333333333,
              "#9c179e"
             ],
             [
              0.4444444444444444,
              "#bd3786"
             ],
             [
              0.5555555555555556,
              "#d8576b"
             ],
             [
              0.6666666666666666,
              "#ed7953"
             ],
             [
              0.7777777777777778,
              "#fb9f3a"
             ],
             [
              0.8888888888888888,
              "#fdca26"
             ],
             [
              1,
              "#f0f921"
             ]
            ],
            "type": "heatmap"
           }
          ],
          "heatmapgl": [
           {
            "colorbar": {
             "outlinewidth": 0,
             "ticks": ""
            },
            "colorscale": [
             [
              0,
              "#0d0887"
             ],
             [
              0.1111111111111111,
              "#46039f"
             ],
             [
              0.2222222222222222,
              "#7201a8"
             ],
             [
              0.3333333333333333,
              "#9c179e"
             ],
             [
              0.4444444444444444,
              "#bd3786"
             ],
             [
              0.5555555555555556,
              "#d8576b"
             ],
             [
              0.6666666666666666,
              "#ed7953"
             ],
             [
              0.7777777777777778,
              "#fb9f3a"
             ],
             [
              0.8888888888888888,
              "#fdca26"
             ],
             [
              1,
              "#f0f921"
             ]
            ],
            "type": "heatmapgl"
           }
          ],
          "histogram": [
           {
            "marker": {
             "pattern": {
              "fillmode": "overlay",
              "size": 10,
              "solidity": 0.2
             }
            },
            "type": "histogram"
           }
          ],
          "histogram2d": [
           {
            "colorbar": {
             "outlinewidth": 0,
             "ticks": ""
            },
            "colorscale": [
             [
              0,
              "#0d0887"
             ],
             [
              0.1111111111111111,
              "#46039f"
             ],
             [
              0.2222222222222222,
              "#7201a8"
             ],
             [
              0.3333333333333333,
              "#9c179e"
             ],
             [
              0.4444444444444444,
              "#bd3786"
             ],
             [
              0.5555555555555556,
              "#d8576b"
             ],
             [
              0.6666666666666666,
              "#ed7953"
             ],
             [
              0.7777777777777778,
              "#fb9f3a"
             ],
             [
              0.8888888888888888,
              "#fdca26"
             ],
             [
              1,
              "#f0f921"
             ]
            ],
            "type": "histogram2d"
           }
          ],
          "histogram2dcontour": [
           {
            "colorbar": {
             "outlinewidth": 0,
             "ticks": ""
            },
            "colorscale": [
             [
              0,
              "#0d0887"
             ],
             [
              0.1111111111111111,
              "#46039f"
             ],
             [
              0.2222222222222222,
              "#7201a8"
             ],
             [
              0.3333333333333333,
              "#9c179e"
             ],
             [
              0.4444444444444444,
              "#bd3786"
             ],
             [
              0.5555555555555556,
              "#d8576b"
             ],
             [
              0.6666666666666666,
              "#ed7953"
             ],
             [
              0.7777777777777778,
              "#fb9f3a"
             ],
             [
              0.8888888888888888,
              "#fdca26"
             ],
             [
              1,
              "#f0f921"
             ]
            ],
            "type": "histogram2dcontour"
           }
          ],
          "mesh3d": [
           {
            "colorbar": {
             "outlinewidth": 0,
             "ticks": ""
            },
            "type": "mesh3d"
           }
          ],
          "parcoords": [
           {
            "line": {
             "colorbar": {
              "outlinewidth": 0,
              "ticks": ""
             }
            },
            "type": "parcoords"
           }
          ],
          "pie": [
           {
            "automargin": true,
            "type": "pie"
           }
          ],
          "scatter": [
           {
            "marker": {
             "colorbar": {
              "outlinewidth": 0,
              "ticks": ""
             }
            },
            "type": "scatter"
           }
          ],
          "scatter3d": [
           {
            "line": {
             "colorbar": {
              "outlinewidth": 0,
              "ticks": ""
             }
            },
            "marker": {
             "colorbar": {
              "outlinewidth": 0,
              "ticks": ""
             }
            },
            "type": "scatter3d"
           }
          ],
          "scattercarpet": [
           {
            "marker": {
             "colorbar": {
              "outlinewidth": 0,
              "ticks": ""
             }
            },
            "type": "scattercarpet"
           }
          ],
          "scattergeo": [
           {
            "marker": {
             "colorbar": {
              "outlinewidth": 0,
              "ticks": ""
             }
            },
            "type": "scattergeo"
           }
          ],
          "scattergl": [
           {
            "marker": {
             "colorbar": {
              "outlinewidth": 0,
              "ticks": ""
             }
            },
            "type": "scattergl"
           }
          ],
          "scattermapbox": [
           {
            "marker": {
             "colorbar": {
              "outlinewidth": 0,
              "ticks": ""
             }
            },
            "type": "scattermapbox"
           }
          ],
          "scatterpolar": [
           {
            "marker": {
             "colorbar": {
              "outlinewidth": 0,
              "ticks": ""
             }
            },
            "type": "scatterpolar"
           }
          ],
          "scatterpolargl": [
           {
            "marker": {
             "colorbar": {
              "outlinewidth": 0,
              "ticks": ""
             }
            },
            "type": "scatterpolargl"
           }
          ],
          "scatterternary": [
           {
            "marker": {
             "colorbar": {
              "outlinewidth": 0,
              "ticks": ""
             }
            },
            "type": "scatterternary"
           }
          ],
          "surface": [
           {
            "colorbar": {
             "outlinewidth": 0,
             "ticks": ""
            },
            "colorscale": [
             [
              0,
              "#0d0887"
             ],
             [
              0.1111111111111111,
              "#46039f"
             ],
             [
              0.2222222222222222,
              "#7201a8"
             ],
             [
              0.3333333333333333,
              "#9c179e"
             ],
             [
              0.4444444444444444,
              "#bd3786"
             ],
             [
              0.5555555555555556,
              "#d8576b"
             ],
             [
              0.6666666666666666,
              "#ed7953"
             ],
             [
              0.7777777777777778,
              "#fb9f3a"
             ],
             [
              0.8888888888888888,
              "#fdca26"
             ],
             [
              1,
              "#f0f921"
             ]
            ],
            "type": "surface"
           }
          ],
          "table": [
           {
            "cells": {
             "fill": {
              "color": "#EBF0F8"
             },
             "line": {
              "color": "white"
             }
            },
            "header": {
             "fill": {
              "color": "#C8D4E3"
             },
             "line": {
              "color": "white"
             }
            },
            "type": "table"
           }
          ]
         },
         "layout": {
          "annotationdefaults": {
           "arrowcolor": "#2a3f5f",
           "arrowhead": 0,
           "arrowwidth": 1
          },
          "autotypenumbers": "strict",
          "coloraxis": {
           "colorbar": {
            "outlinewidth": 0,
            "ticks": ""
           }
          },
          "colorscale": {
           "diverging": [
            [
             0,
             "#8e0152"
            ],
            [
             0.1,
             "#c51b7d"
            ],
            [
             0.2,
             "#de77ae"
            ],
            [
             0.3,
             "#f1b6da"
            ],
            [
             0.4,
             "#fde0ef"
            ],
            [
             0.5,
             "#f7f7f7"
            ],
            [
             0.6,
             "#e6f5d0"
            ],
            [
             0.7,
             "#b8e186"
            ],
            [
             0.8,
             "#7fbc41"
            ],
            [
             0.9,
             "#4d9221"
            ],
            [
             1,
             "#276419"
            ]
           ],
           "sequential": [
            [
             0,
             "#0d0887"
            ],
            [
             0.1111111111111111,
             "#46039f"
            ],
            [
             0.2222222222222222,
             "#7201a8"
            ],
            [
             0.3333333333333333,
             "#9c179e"
            ],
            [
             0.4444444444444444,
             "#bd3786"
            ],
            [
             0.5555555555555556,
             "#d8576b"
            ],
            [
             0.6666666666666666,
             "#ed7953"
            ],
            [
             0.7777777777777778,
             "#fb9f3a"
            ],
            [
             0.8888888888888888,
             "#fdca26"
            ],
            [
             1,
             "#f0f921"
            ]
           ],
           "sequentialminus": [
            [
             0,
             "#0d0887"
            ],
            [
             0.1111111111111111,
             "#46039f"
            ],
            [
             0.2222222222222222,
             "#7201a8"
            ],
            [
             0.3333333333333333,
             "#9c179e"
            ],
            [
             0.4444444444444444,
             "#bd3786"
            ],
            [
             0.5555555555555556,
             "#d8576b"
            ],
            [
             0.6666666666666666,
             "#ed7953"
            ],
            [
             0.7777777777777778,
             "#fb9f3a"
            ],
            [
             0.8888888888888888,
             "#fdca26"
            ],
            [
             1,
             "#f0f921"
            ]
           ]
          },
          "colorway": [
           "#636efa",
           "#EF553B",
           "#00cc96",
           "#ab63fa",
           "#FFA15A",
           "#19d3f3",
           "#FF6692",
           "#B6E880",
           "#FF97FF",
           "#FECB52"
          ],
          "font": {
           "color": "#2a3f5f"
          },
          "geo": {
           "bgcolor": "white",
           "lakecolor": "white",
           "landcolor": "#E5ECF6",
           "showlakes": true,
           "showland": true,
           "subunitcolor": "white"
          },
          "hoverlabel": {
           "align": "left"
          },
          "hovermode": "closest",
          "mapbox": {
           "style": "light"
          },
          "paper_bgcolor": "white",
          "plot_bgcolor": "#E5ECF6",
          "polar": {
           "angularaxis": {
            "gridcolor": "white",
            "linecolor": "white",
            "ticks": ""
           },
           "bgcolor": "#E5ECF6",
           "radialaxis": {
            "gridcolor": "white",
            "linecolor": "white",
            "ticks": ""
           }
          },
          "scene": {
           "xaxis": {
            "backgroundcolor": "#E5ECF6",
            "gridcolor": "white",
            "gridwidth": 2,
            "linecolor": "white",
            "showbackground": true,
            "ticks": "",
            "zerolinecolor": "white"
           },
           "yaxis": {
            "backgroundcolor": "#E5ECF6",
            "gridcolor": "white",
            "gridwidth": 2,
            "linecolor": "white",
            "showbackground": true,
            "ticks": "",
            "zerolinecolor": "white"
           },
           "zaxis": {
            "backgroundcolor": "#E5ECF6",
            "gridcolor": "white",
            "gridwidth": 2,
            "linecolor": "white",
            "showbackground": true,
            "ticks": "",
            "zerolinecolor": "white"
           }
          },
          "shapedefaults": {
           "line": {
            "color": "#2a3f5f"
           }
          },
          "ternary": {
           "aaxis": {
            "gridcolor": "white",
            "linecolor": "white",
            "ticks": ""
           },
           "baxis": {
            "gridcolor": "white",
            "linecolor": "white",
            "ticks": ""
           },
           "bgcolor": "#E5ECF6",
           "caxis": {
            "gridcolor": "white",
            "linecolor": "white",
            "ticks": ""
           }
          },
          "title": {
           "x": 0.05
          },
          "xaxis": {
           "automargin": true,
           "gridcolor": "white",
           "linecolor": "white",
           "ticks": "",
           "title": {
            "standoff": 15
           },
           "zerolinecolor": "white",
           "zerolinewidth": 2
          },
          "yaxis": {
           "automargin": true,
           "gridcolor": "white",
           "linecolor": "white",
           "ticks": "",
           "title": {
            "standoff": 15
           },
           "zerolinecolor": "white",
           "zerolinewidth": 2
          }
         }
        },
        "xaxis": {
         "anchor": "y",
         "domain": [
          0,
          1
         ],
         "title": {
          "text": "release_year"
         }
        },
        "yaxis": {
         "anchor": "x",
         "domain": [
          0,
          1
         ],
         "title": {
          "text": "IMDB Score"
         }
        }
       }
      }
     },
     "metadata": {},
     "output_type": "display_data"
    }
   ],
   "source": [
    "#Creating a scatterplot based on analysed_data with release year on x-axis and IMDB score on y-axis. Adding trendline and hover data (title) for better readability.\n",
    "fig_scatter = px.scatter(analysed_data, x='release_year', y='IMDB Score', trendline='lowess', hover_data=[\"title\"])\n",
    "fig_scatter.show()"
   ]
  },
  {
   "cell_type": "code",
   "execution_count": 57,
   "metadata": {},
   "outputs": [
    {
     "data": {
      "application/vnd.plotly.v1+json": {
       "config": {
        "plotlyServerURL": "https://plot.ly"
       },
       "data": [
        {
         "customdata": [
          [
           "Bluey"
          ],
          [
           "The Wizard of Paws"
          ],
          [
           "The Beatles: Get Back"
          ],
          [
           "Dickie V"
          ],
          [
           "Critter Fixers: Country Vets"
          ],
          [
           "The Lion Ranger"
          ],
          [
           "Heartland Docs, DVM"
          ],
          [
           "Light & Magic"
          ],
          [
           "Marvel Studios Assembled: The Making of Hawkeye"
          ],
          [
           "One Strange Rock"
          ],
          [
           "The Mandalorian"
          ],
          [
           "Super/Natural"
          ],
          [
           "The Empire Strikes Back"
          ],
          [
           "The Simpsons"
          ],
          [
           "Marvel's Daredevil"
          ],
          [
           "Ultimate Survival WWII"
          ],
          [
           "BTS: Permission to Dance on Stage - LA"
          ],
          [
           "Star Wars"
          ],
          [
           "Shipwreck Hunters Australia"
          ],
          [
           "Marvel Studios ASSEMBLED: The Making of WandaVision"
          ],
          [
           "The Making of Loki"
          ],
          [
           "Savage Kingdom"
          ],
          [
           "Marvel's The Punisher"
          ],
          [
           "The Lion King"
          ],
          [
           "Into the Unknown: Making Frozen II"
          ],
          [
           "The Incredible Dr. Pol"
          ],
          [
           "Dr. Oakley, Yukon Vet"
          ],
          [
           "Meet the Chimps"
          ],
          [
           "X-Men"
          ],
          [
           "Secret Life of Predators"
          ],
          [
           "Hamilton"
          ],
          [
           "Folklore: The Long Pond Studio Sessions"
          ],
          [
           "Wild Russia"
          ],
          [
           "So Weird"
          ],
          [
           "In the SOOP: Friendcation"
          ],
          [
           "The Owl House"
          ],
          [
           "The Rescue"
          ],
          [
           "Star Wars: The Clone Wars"
          ],
          [
           "Epic Adventures with Bertie Gregory"
          ],
          [
           "Star Wars: Andor"
          ],
          [
           "WALL·E"
          ],
          [
           "Secrets of the Whales"
          ],
          [
           "Avengers: Endgame"
          ],
          [
           "Secrets of the Zoo"
          ],
          [
           "Spider-Man"
          ],
          [
           "Avengers: Infinity War"
          ],
          [
           "Coco"
          ],
          [
           "Disney Gallery / Star Wars: The Mandalorian"
          ],
          [
           "The Muppet Show"
          ],
          [
           "Return of the Jedi"
          ],
          [
           "DuckTales"
          ],
          [
           "Toy Story 3"
          ],
          [
           "Newsies"
          ],
          [
           "The Avengers: Earth's Mightiest Heroes"
          ],
          [
           "Forged in Fire"
          ],
          [
           "Pop Goes the Vet"
          ],
          [
           "Hostile Planet"
          ],
          [
           "Gravity Falls"
          ],
          [
           "Amphibia"
          ],
          [
           "Up"
          ],
          [
           "Magic of Disney's Animal Kingdom"
          ],
          [
           "Great Barrier Reef"
          ],
          [
           "Unknown Waters with Jeremy Wade"
          ],
          [
           "The Spectacular Spider-Man"
          ],
          [
           "Phineas and Ferb"
          ],
          [
           "The Low Tone Club"
          ],
          [
           "@Gina Yei: #WithAllMyHeartAndMore"
          ],
          [
           "Toy Story"
          ],
          [
           "Inside Out"
          ],
          [
           "Dr K's Exotic Animal ER"
          ],
          [
           "Loki"
          ],
          [
           "Snowdrop"
          ],
          [
           "Akashinga: The Brave Ones"
          ],
          [
           "Zorro"
          ],
          [
           "The Mouseketeers at Walt Disney World"
          ],
          [
           "Once"
          ],
          [
           "TRON: Uprising"
          ],
          [
           "Brain Games"
          ],
          [
           "Schoolhouse Rock!"
          ],
          [
           "Before the Flood"
          ],
          [
           "Just Love and a Thousand Songs"
          ],
          [
           "Logan"
          ],
          [
           "Secrets of the Zoo: North Carolina"
          ],
          [
           "DuckTales"
          ],
          [
           "Monsters, Inc."
          ],
          [
           "Hubble's Cosmic Journey"
          ],
          [
           "Feast"
          ],
          [
           "Car S.O.S."
          ],
          [
           "Mickey Mouse"
          ],
          [
           "The Wild Life of Dr. Ole"
          ],
          [
           "Gargoyles"
          ],
          [
           "Cesar Millan: Better Human, Better Dog"
          ],
          [
           "Dug Days"
          ],
          [
           "Finding Nemo"
          ],
          [
           "Dr. T, Lone Star Vet"
          ],
          [
           "Limitless with Chris Hemsworth"
          ],
          [
           "Pirates of the Caribbean: The Curse of the Black Pearl"
          ],
          [
           "Spin and Marty"
          ],
          [
           "The Sound of Music"
          ],
          [
           "Free Solo"
          ],
          [
           "Ratatouille"
          ],
          [
           "Europe From Above"
          ],
          [
           "Shake It Up"
          ],
          [
           "The Book of Manning"
          ],
          [
           "Love, Victor"
          ],
          [
           "The Straight Story"
          ],
          [
           "Kingdom of the White Wolf"
          ],
          [
           "Zootopia"
          ],
          [
           "Beauty and the Beast"
          ],
          [
           "The Princess Bride"
          ],
          [
           "Star Wars Rebels"
          ],
          [
           "Aladdin"
          ],
          [
           "Star vs. the Forces of Evil"
          ],
          [
           "Secrets of Wild India"
          ],
          [
           "Great Migrations"
          ],
          [
           "Prairie Dog Manor"
          ],
          [
           "Soul"
          ],
          [
           "Summer of Soul (...Or, When the Revolution Could Not Be Televised)"
          ],
          [
           "Boy Meets World"
          ],
          [
           "Guardians of the Galaxy"
          ],
          [
           "America the Beautiful"
          ],
          [
           "The Incredibles"
          ],
          [
           "Deadpool"
          ],
          [
           "The Avengers"
          ],
          [
           "Wolverine and the X-Men"
          ],
          [
           "The Orville"
          ],
          [
           "Growing Up Animal"
          ],
          [
           "X-Men: Days of Future Past"
          ],
          [
           "Marvel's Jessica Jones"
          ],
          [
           "Life Below Zero"
          ],
          [
           "Born Wild: The Next Generation"
          ],
          [
           "Miracle on 34th Street"
          ],
          [
           "Thor: Ragnarok"
          ],
          [
           "Ice Road Rescue"
          ],
          [
           "Avatar"
          ],
          [
           "The Wonderful World of Mickey Mouse"
          ],
          [
           "Welcome to Earth"
          ],
          [
           "Iron Man"
          ],
          [
           "Recess"
          ],
          [
           "It Was Always Me: Behind the Story"
          ],
          [
           "Togo"
          ],
          [
           "Jane Goodall: The Hope"
          ],
          [
           "On Pointe"
          ],
          [
           "Weird But True"
          ],
          [
           "Toy Story 2"
          ],
          [
           "WandaVision"
          ],
          [
           "Marvel's Agent Carter"
          ],
          [
           "Adventures in Wonderland"
          ],
          [
           "The Nightmare Before Christmas"
          ],
          [
           "Marvel Studios Assembled: The Making of Eternals"
          ],
          [
           "It's a Dog's Life with Bill Farmer"
          ],
          [
           "Elton John Live: Farewell from Dodger Stadium"
          ],
          [
           "Edge of the Unknown with Jimmy Chin"
          ],
          [
           "Shook"
          ],
          [
           "Primal Survivor"
          ],
          [
           "Le Pupille"
          ],
          [
           "Sumo Do, Sumo Don't"
          ],
          [
           "Captain America: The Winter Soldier"
          ],
          [
           "Big Hero 6"
          ],
          [
           "Witness to Disaster"
          ],
          [
           "Soundtrack #1"
          ],
          [
           "Legend of the Three Caballeros"
          ],
          [
           "Hidden Figures"
          ],
          [
           "7 Toughest Days"
          ],
          [
           "Mary Poppins"
          ],
          [
           "X-Men: Evolution"
          ],
          [
           "Isle of Dogs"
          ],
          [
           "Star Wars: The Bad Batch"
          ],
          [
           "Rogue One: A Star Wars Story"
          ],
          [
           "Remember the Titans"
          ],
          [
           "Captain America: Civil War"
          ],
          [
           "Star Wars: The Force Awakens"
          ],
          [
           "Among the Stars"
          ],
          [
           "America's Funniest Home Videos: Animal Edition"
          ],
          [
           "Star Wars: Clone Wars"
          ],
          [
           "Jane"
          ],
          [
           "Live in Front of a Studio Audience: The Facts of Life and Diff'rent Strokes"
          ],
          [
           "Dian Fossey: Secrets in the Mist"
          ],
          [
           "China From Above"
          ],
          [
           "Werewolf by Night"
          ],
          [
           "The Boys: The Sherman Brothers' Story"
          ],
          [
           "The Pixar Story"
          ],
          [
           "Oceans"
          ],
          [
           "Wreck-It Ralph"
          ],
          [
           "Gathering Storm"
          ],
          [
           "Small & Mighty"
          ],
          [
           "The Greeks"
          ],
          [
           "Behind the Attraction"
          ],
          [
           "Tangled"
          ],
          [
           "Toy Story 4"
          ],
          [
           "The Finder"
          ],
          [
           "Life Below Zero: Northern Territories"
          ],
          [
           "Encanto Sing-Along"
          ],
          [
           "Once Upon a Time"
          ],
          [
           "Fantasia"
          ],
          [
           "Home Alone"
          ],
          [
           "Sea of Hope: America's Underwater Treasures"
          ],
          [
           "Miraculous: Tales of Ladybug & Cat Noir"
          ],
          [
           "Gordon Ramsay: Uncharted"
          ],
          [
           "The Muppet Christmas Carol"
          ],
          [
           "Who Framed Roger Rabbit"
          ],
          [
           "Rapunzel's Tangled Adventure"
          ],
          [
           "Deadpool 2"
          ],
          [
           "Frank and Ollie"
          ],
          [
           "The Mysterious Benedict Society"
          ],
          [
           "Incredibles 2"
          ],
          [
           "Wild Cats of India"
          ],
          [
           "I Didn't Do It"
          ],
          [
           "Alias"
          ],
          [
           "Milo Murphy's Law"
          ],
          [
           "The New Adventures of Winnie the Pooh"
          ],
          [
           "The Little Mermaid"
          ],
          [
           "Man vs. Child: Chef Showdown"
          ],
          [
           "Fire of Love"
          ],
          [
           "Wild Chile: Un viaje salvaje"
          ],
          [
           "Lost Treasures of Rome"
          ],
          [
           "Chip 'n' Dale Rescue Rangers"
          ],
          [
           "Darkwing Duck"
          ],
          [
           "The Muppet Movie"
          ],
          [
           "Hacking the System"
          ],
          [
           "Guardians of the Galaxy Vol. 2"
          ],
          [
           "Prep & Landing"
          ],
          [
           "Moana"
          ],
          [
           "Star Wars: Episode III - Revenge of the Sith"
          ],
          [
           "Running Wild with Bear Grylls"
          ],
          [
           "The World According to Jeff Goldblum"
          ],
          [
           "Snow White and the Seven Dwarfs"
          ],
          [
           "The Dominican Dream"
          ],
          [
           "Into the Okavango"
          ],
          [
           "Evil Genius"
          ],
          [
           "The Flood"
          ],
          [
           "Mulan"
          ],
          [
           "Marvel's Moon Girl and Devil Dinosaur"
          ],
          [
           "Lost Cities with Albert Lin"
          ],
          [
           "Even Stevens"
          ],
          [
           "The Jungle Book"
          ],
          [
           "Disney's Broadway Hits at London's Royal Albert Hall"
          ],
          [
           "Encore!"
          ],
          [
           "Secrets of Sulphur Springs"
          ],
          [
           "Drain the Oceans"
          ],
          [
           "Hawkeye"
          ],
          [
           "Waking Sleeping Beauty"
          ],
          [
           "Marvel's The Defenders"
          ],
          [
           "Ice Age"
          ],
          [
           "Beyond Magic with DMC"
          ],
          [
           "Wild Nordic"
          ],
          [
           "Shang-Chi and the Legend of the Ten Rings"
          ],
          [
           "Disney's Adventures of the Gummi Bears"
          ],
          [
           "Apollo: Missions to the Moon"
          ],
          [
           "The Many Adventures of Winnie the Pooh"
          ],
          [
           "Pinocchio"
          ],
          [
           "Luca"
          ],
          [
           "Out of the Box"
          ],
          [
           "Lance"
          ],
          [
           "African Cats"
          ],
          [
           "The Kangaroo King"
          ],
          [
           "Howard"
          ],
          [
           "Science Fair"
          ],
          [
           "Doctor Strange"
          ],
          [
           "Robin Hood"
          ],
          [
           "Torn"
          ],
          [
           "Playing with Sharks"
          ],
          [
           "Big Shot"
          ],
          [
           "Clouds"
          ],
          [
           "Japan: Between Earth & Sky"
          ],
          [
           "Descendants 2"
          ],
          [
           "Harmonious Live!"
          ],
          [
           "Toy Story of Terror!"
          ],
          [
           "Encanto at the Hollywood Bowl"
          ],
          [
           "TaleSpin"
          ],
          [
           "Wild Congo"
          ],
          [
           "Dinosaurs"
          ],
          [
           "America's National Parks"
          ],
          [
           "The Flagmakers"
          ],
          [
           "Ultimate Airport Dubai"
          ],
          [
           "The Territory"
          ],
          [
           "Marvel's Agents of S.H.I.E.L.D."
          ],
          [
           "Saving Mr. Banks"
          ],
          [
           "The Art of Racing in the Rain"
          ],
          [
           "The Greatest Showman"
          ],
          [
           "None of the Above"
          ],
          [
           "Big City Greens"
          ],
          [
           "Big Hero 6 The Series"
          ],
          [
           "Frozen"
          ],
          [
           "The Jungle Book"
          ],
          [
           "LEGO Star Wars: The Freemaker Adventures"
          ],
          [
           "Mexico Untamed"
          ],
          [
           "Chasing Waves"
          ],
          [
           "Retrograde"
          ],
          [
           "X2"
          ],
          [
           "The Emperor's New Groove"
          ],
          [
           "Doug"
          ],
          [
           "Pollyanna"
          ],
          [
           "Tru Confessions"
          ],
          [
           "Buried Secrets of WWII"
          ],
          [
           "The Ghost and Molly McGee"
          ],
          [
           "Miracle"
          ],
          [
           "Phineas and Ferb: The Movie: Across the 2nd Dimension"
          ],
          [
           "Sketchbook"
          ],
          [
           "Wild Yellowstone"
          ],
          [
           "Expedition Mars"
          ],
          [
           "Onward"
          ],
          [
           "The Muppets"
          ],
          [
           "What If...?"
          ],
          [
           "Smart Guy"
          ],
          [
           "Queen of Katwe"
          ],
          [
           "LEGO Star Wars: Droid Tales"
          ],
          [
           "The Living Desert"
          ],
          [
           "Mars"
          ],
          [
           "The Most Magical Story on Earth: 50 Years of Walt Disney World"
          ],
          [
           "The Greatest Game Ever Played"
          ],
          [
           "Gorongosa: Paradise Reborn"
          ],
          [
           "McFarland, USA"
          ],
          [
           "Breaking2"
          ],
          [
           "Raya and the Last Dragon"
          ],
          [
           "The Witch Doctor Will See You Now"
          ],
          [
           "One Hundred and One Dalmatians"
          ],
          [
           "Sea of Shadows"
          ],
          [
           "Moon Knight"
          ],
          [
           "Bambi"
          ],
          [
           "Ant-Man"
          ],
          [
           "The Simpsons Movie"
          ],
          [
           "MARS: Inside SpaceX"
          ],
          [
           "Finding Dory"
          ],
          [
           "Lady and the Tramp"
          ],
          [
           "Mr. Holland's Opus"
          ],
          [
           "The Mighty Ducks: Game Changers"
          ],
          [
           "Year Million"
          ],
          [
           "Cinderella"
          ],
          [
           "Wander Over Yonder"
          ],
          [
           "Prep & Landing: Naughty vs. Nice"
          ],
          [
           "Alice in Wonderland"
          ],
          [
           "Eight Below"
          ],
          [
           "Peter Pan"
          ],
          [
           "Hercules"
          ],
          [
           "Old Yeller"
          ],
          [
           "Secrets of Life"
          ],
          [
           "Pirates of the Caribbean: Dead Man's Chest"
          ],
          [
           "Superkitties"
          ],
          [
           "Marvel Studios: Assembling a Universe"
          ],
          [
           "10 Things I Hate About You"
          ],
          [
           "Marvel's Guardians of the Galaxy"
          ],
          [
           "Olaf Presents"
          ],
          [
           "Andi Mack"
          ],
          [
           "Tangled: Short Cuts"
          ],
          [
           "Inside Pixar"
          ],
          [
           "Surviving the Mount St. Helens Disaster"
          ],
          [
           "Youngstown Boys"
          ],
          [
           "Lilo & Stitch"
          ],
          [
           "The Crimson Wing: Mystery of the Flamingos"
          ],
          [
           "Wings of Life"
          ],
          [
           "Cruella"
          ],
          [
           "We Feed People"
          ],
          [
           "The Book of Boba Fett"
          ],
          [
           "Marvel's Luke Cage"
          ],
          [
           "Big"
          ],
          [
           "Black Panther"
          ],
          [
           "Tarzan"
          ],
          [
           "Stan Lee's Superhumans"
          ],
          [
           "Happier Than Ever: A Love Letter to Los Angeles"
          ],
          [
           "Avengers: Age of Ultron"
          ],
          [
           "Ice Age: Scrat Tales"
          ],
          [
           "Water & Power: A California Heist"
          ],
          [
           "Bears"
          ],
          [
           "Monkey Kingdom"
          ],
          [
           "Betty White Goes Wild"
          ],
          [
           "West Side Story"
          ],
          [
           "Adventure Thru the Walt Disney Archives"
          ],
          [
           "Born in China"
          ],
          [
           "Glory Road"
          ],
          [
           "If These Walls Could Sing"
          ],
          [
           "Christopher Robin"
          ],
          [
           "The Falcon and The Winter Soldier"
          ],
          [
           "The Real Right Stuff"
          ],
          [
           "D. Wade: Life Unexpected"
          ],
          [
           "Kingdom of the Mummies"
          ],
          [
           "Under the Helmet: The Legacy of Boba Fett"
          ],
          [
           "Elephant"
          ],
          [
           "Monsters University"
          ],
          [
           "Duck the Halls: A Mickey Mouse Christmas Special"
          ],
          [
           "Raven's Home"
          ],
          [
           "Expedition Amelia"
          ],
          [
           "Voices Rising: The Music of Wakanda Forever"
          ],
          [
           "Marvel's Ultimate Spider-Man"
          ],
          [
           "In the Footsteps of Elephant"
          ],
          [
           "Obi-Wan Kenobi: A Jedi's Return"
          ],
          [
           "The Biggest Little Farm: The Return"
          ],
          [
           "The Challenger Disaster: Lost Tapes"
          ],
          [
           "Cinderella: The Reunion, A Special Edition of 20/20"
          ],
          [
           "Year of the Scab"
          ],
          [
           "Secretariat"
          ],
          [
           "Encanto"
          ],
          [
           "Africa's Deadliest"
          ],
          [
           "Into the Grand Canyon"
          ],
          [
           "The Fox and the Hound"
          ],
          [
           "Kim Possible"
          ],
          [
           "The Vanishing Prairie"
          ],
          [
           "The African Lion"
          ],
          [
           "Spider-Man and His Amazing Friends"
          ],
          [
           "Bridge to Terabithia"
          ],
          [
           "Treasure Planet"
          ],
          [
           "The Parent Trap"
          ],
          [
           "Jungle Cat"
          ],
          [
           "The Color of Friendship"
          ],
          [
           "Greyfriars Bobby: The True Story of a Dog"
          ],
          [
           "Willow"
          ],
          [
           "Cars"
          ],
          [
           "Dumbo"
          ],
          [
           "Sleeping Beauty"
          ],
          [
           "A Bug's Life"
          ],
          [
           "20,000 Leagues Under the Sea"
          ],
          [
           "OLIVIA RODRIGO: driving home 2 u (a SOUR film)"
          ],
          [
           "Pepper Ann"
          ],
          [
           "Chasing Mavericks"
          ],
          [
           "Wild Hearts Can't Be Broken"
          ],
          [
           "Chimpanzee"
          ],
          [
           "The Sword in the Stone"
          ],
          [
           "The Great Muppet Caper"
          ],
          [
           "World's Deadliest"
          ],
          [
           "Beauty and the Beast"
          ],
          [
           "Fantasia 2000"
          ],
          [
           "Delicacies Destiny"
          ],
          [
           "Winnie the Pooh: A Valentine for You"
          ],
          [
           "Good Luck Charlie"
          ],
          [
           "High School Musical: The Musical: The Series"
          ],
          [
           "Iron Man 3"
          ],
          [
           "Becoming Cousteau"
          ],
          [
           "The Muppets"
          ],
          [
           "Penguins"
          ],
          [
           "Paperman"
          ],
          [
           "Darby O'Gill and the Little People"
          ],
          [
           "Obi-Wan Kenobi"
          ],
          [
           "The Lost City Of Machu Picchu"
          ],
          [
           "EverAfter"
          ],
          [
           "The Aristocats"
          ],
          [
           "Idina Menzel: Which Way to the Stage?"
          ],
          [
           "Third Man on the Mountain"
          ],
          [
           "Girl Meets World"
          ],
          [
           "Phineas and Ferb: The Movie: Candace Against the Universe"
          ],
          [
           "black-ish"
          ],
          [
           "We Bought a Zoo"
          ],
          [
           "Swiss Family Robinson"
          ],
          [
           "Kim Possible: So the Drama"
          ],
          [
           "Pirates of the Caribbean: At World's End"
          ],
          [
           "Winnie the Pooh"
          ],
          [
           "Toy Story That Time Forgot"
          ],
          [
           "Enchanted"
          ],
          [
           "Running Wild with Bear Grylls: The Challenge"
          ],
          [
           "Silver Surfer"
          ],
          [
           "Shark Queens"
          ],
          [
           "Birth of Europe"
          ],
          [
           "The Great Mouse Detective"
          ],
          [
           "Cesar Millan: The Real Story"
          ],
          [
           "Free Guy"
          ],
          [
           "Brave"
          ],
          [
           "Growing Up Wild"
          ],
          [
           "The Princess and the Frog"
          ],
          [
           "Baymax!"
          ],
          [
           "Wild Portugal"
          ],
          [
           "Oklahoma!"
          ],
          [
           "Ghost of the Mountains"
          ],
          [
           "Turning Red"
          ],
          [
           "Mars: One Day on the Red Planet"
          ],
          [
           "Notre Dame: Race Against the Inferno"
          ],
          [
           "Hello, Dolly!"
          ],
          [
           "One Day at Disney"
          ],
          [
           "High School Musical: The Musical: The Series: The Special"
          ],
          [
           "Imagination Movers"
          ],
          [
           "Ralph Breaks the Internet"
          ],
          [
           "Phil of the Future"
          ],
          [
           "Cool Runnings"
          ],
          [
           "Diving with Dolphins"
          ],
          [
           "Marvel's Avengers"
          ],
          [
           "Chip 'n Dale: Rescue Rangers"
          ],
          [
           "The Peanuts Movie"
          ],
          [
           "Director by Night"
          ],
          [
           "Thor"
          ],
          [
           "Invincible"
          ],
          [
           "8 Simple Rules... for Dating My Teenage Daughter"
          ],
          [
           "The Hunchback of Notre Dame"
          ],
          [
           "Timon & Pumbaa"
          ],
          [
           "Bedknobs and Broomsticks"
          ],
          [
           "The Journey of Natty Gann"
          ],
          [
           "Ron's Gone Wrong"
          ],
          [
           "Monsters at Work"
          ],
          [
           "Cars on the Road"
          ],
          [
           "Titanic: 20 Years Later with James Cameron"
          ],
          [
           "The Incredible Journey"
          ],
          [
           "Marvel: 75 Years, From Pulp to Pop!"
          ],
          [
           "Secret of the Wings"
          ],
          [
           "All the Same… or Not"
          ],
          [
           "Ant-Man and the Wasp"
          ],
          [
           "A Celebration of the Music from Coco"
          ],
          [
           "Rise"
          ],
          [
           "Holes"
          ],
          [
           "Wild Hawaii"
          ],
          [
           "Parallels"
          ],
          [
           "National Treasure"
          ],
          [
           "Mickey: The Story of a Mouse"
          ],
          [
           "Muppet Treasure Island"
          ],
          [
           "The Sign of Zorro"
          ],
          [
           "A Goofy Movie"
          ],
          [
           "Spider-Man: The New Animated Series"
          ],
          [
           "Spider-Man"
          ],
          [
           "Doctor Strange in the Multiverse of Madness"
          ],
          [
           "Sofia the First"
          ],
          [
           "Wolfgang"
          ],
          [
           "Adventures in Babysitting"
          ],
          [
           "Bear Witness"
          ],
          [
           "The Adventures of Ichabod and Mr. Toad"
          ],
          [
           "Hamster & Gretel"
          ],
          [
           "Lemonade Mouth"
          ],
          [
           "Mark Twain and Me"
          ],
          [
           "Wizards of Waverly Place"
          ],
          [
           "The Guardians of the Galaxy Holiday Special"
          ],
          [
           "Bloody Tales of Europe"
          ],
          [
           "Firebuds"
          ],
          [
           "Treasure Island"
          ],
          [
           "PB&J Otter"
          ],
          [
           "The Rookie"
          ],
          [
           "Aladdin"
          ],
          [
           "X-Men: Apocalypse"
          ],
          [
           "Atlantis: The Lost Empire"
          ],
          [
           "Built for Mars: The Perseverance Rover"
          ],
          [
           "The Hidden Kingdoms of China"
          ],
          [
           "Flight of the Navigator"
          ],
          [
           "Captain America: The First Avenger"
          ],
          [
           "Rio"
          ],
          [
           "Once Upon a Time in Wonderland"
          ],
          [
           "Brink!"
          ],
          [
           "Marvel's Runaways"
          ],
          [
           "From the Ashes"
          ],
          [
           "Solo: A Star Wars Story"
          ],
          [
           "Homeward Bound: The Incredible Journey"
          ],
          [
           "The Rescuers"
          ],
          [
           "Hocus Pocus"
          ],
          [
           "The Chronicles of Narnia: The Lion, the Witch and the Wardrobe"
          ],
          [
           "Iron Man 2"
          ],
          [
           "Star Wars: The Last Jedi"
          ],
          [
           "Newsies"
          ],
          [
           "Frankenweenie"
          ],
          [
           "Davy Crockett, King of the Wild Frontier"
          ],
          [
           "Polar Bear"
          ],
          [
           "Explorer: The Last Tepui"
          ],
          [
           "Prep & Landing Stocking Stuffer: Operation: Secret Santa"
          ],
          [
           "Buried Secrets of The Bible With Albert Lin"
          ],
          [
           "Turning the Tables with Robin Roberts"
          ],
          [
           "The Lion King"
          ],
          [
           "Blackbeard's Ghost"
          ],
          [
           "Thor: The Dark World"
          ],
          [
           "Yellowstone Cubs"
          ],
          [
           "Rogue Shark"
          ],
          [
           "Disney Intertwined"
          ],
          [
           "Camo Sharks"
          ],
          [
           "Ice Age: The Meltdown"
          ],
          [
           "Bob Ballard: An Explorer's Life"
          ],
          [
           "Bear in the Big Blue House"
          ],
          [
           "Disney Presents Goofy in How to Stay at Home"
          ],
          [
           "Frozen II"
          ],
          [
           "TRON: Legacy"
          ],
          [
           "The Deepest Cave"
          ],
          [
           "The Right Stuff"
          ],
          [
           "Puppy Dog Pals"
          ],
          [
           "Glee"
          ],
          [
           "Spies in Disguise"
          ],
          [
           "Dan in Real Life"
          ],
          [
           "Fantastic Four: World's Greatest Heroes"
          ],
          [
           "Bolt"
          ],
          [
           "Science of Stupid"
          ],
          [
           "A Christmas Carol"
          ],
          [
           "DuckTales: The Movie - Treasure of the Lost Lamp"
          ],
          [
           "Man Among Cheetahs"
          ],
          [
           "Lilo & Stitch: The Series"
          ],
          [
           "Millions"
          ],
          [
           "Captain Marvel"
          ],
          [
           "The Rescuers Down Under"
          ],
          [
           "Safety"
          ],
          [
           "Brother Bear"
          ],
          [
           "T.O.T.S."
          ],
          [
           "Goof Troop"
          ],
          [
           "Black Panther: Wakanda Forever"
          ],
          [
           "Perri"
          ],
          [
           "Decorating Disney: Holiday Magic"
          ],
          [
           "The Good, The Bad, The Hungry"
          ],
          [
           "While You Were Sleeping"
          ],
          [
           "Meet the Robinsons"
          ],
          [
           "Home Alone 2: Lost in New York"
          ],
          [
           "Bia"
          ],
          [
           "The Reluctant Dragon"
          ],
          [
           "Return to Oz"
          ],
          [
           "X-Ray Earth"
          ],
          [
           "Quack Pack"
          ],
          [
           "Mary Poppins Returns"
          ],
          [
           "Black Widow"
          ],
          [
           "Sauver Notre-Dame"
          ],
          [
           "Doogie Kamealoha, M.D."
          ],
          [
           "Miss Peregrine's Home for Peculiar Children"
          ],
          [
           "That Darn Cat!"
          ],
          [
           "How Dogs Got Their Shapes"
          ],
          [
           "The Little Mermaid"
          ],
          [
           "Disney's Fairy Tale Weddings"
          ],
          [
           "Going to the Mat"
          ],
          [
           "Cinderella"
          ],
          [
           "Pete's Dragon"
          ],
          [
           "Dolphin Reef"
          ],
          [
           "Kick Buttowski: Suburban Daredevil"
          ],
          [
           "Muppet Babies"
          ],
          [
           "Cars 3"
          ],
          [
           "Hocus Pocus 25th Anniversary Halloween Bash"
          ],
          [
           "Lost Temple of The Inca"
          ],
          [
           "Randy Cunningham: 9th Grade Ninja"
          ],
          [
           "Alice's Wonderland Bakery"
          ],
          [
           "The Incredible Hulk"
          ],
          [
           "Don't Look Under the Bed"
          ],
          [
           "Justin Morgan Had a Horse"
          ],
          [
           "The Absent-Minded Professor"
          ],
          [
           "Pocahontas"
          ],
          [
           "Beauty and the Beast: A 30th Celebration"
          ],
          [
           "The Call of the Wild"
          ],
          [
           "World of Flavor with Big Moe Cason"
          ],
          [
           "Bonkers"
          ],
          [
           "The Wolverine"
          ],
          [
           "Ferdinand"
          ],
          [
           "The Good Dinosaur"
          ],
          [
           "Tron"
          ],
          [
           "The Finest Hours"
          ],
          [
           "James and the Giant Peach"
          ],
          [
           "Candleshoe"
          ],
          [
           "Shark Gangs"
          ],
          [
           "Own the Room"
          ],
          [
           "Kingdom of the Blue Whale"
          ],
          [
           "The Real MVP: The Wanda Durant Story"
          ],
          [
           "Bend It Like Beckham"
          ],
          [
           "700 Sharks"
          ],
          [
           "Prince of Persia: The Sands of Time"
          ],
          [
           "Pirates of the Caribbean: On Stranger Tides"
          ],
          [
           "John Carter"
          ],
          [
           "Mission to the Sun"
          ],
          [
           "Save Our Squad with David Beckham"
          ],
          [
           "The Suite Life of Zack & Cody"
          ],
          [
           "Marvel's Rocket & Groot"
          ],
          [
           "The Great Christmas Light Fight"
          ],
          [
           "Doc McStuffins"
          ],
          [
           "Gigantosaurus"
          ],
          [
           "The Emperor's New School"
          ],
          [
           "The Odd Life of Timothy Green"
          ],
          [
           "Stuntman"
          ],
          [
           "Tangled: Before Ever After"
          ],
          [
           "Dino Ranch"
          ],
          [
           "Jungle Cruise"
          ],
          [
           "Oliver & Company"
          ],
          [
           "Recess: School's Out"
          ],
          [
           "American Dragon: Jake Long"
          ],
          [
           "Disney My Music Story: Perfume"
          ],
          [
           "Halloweentown"
          ],
          [
           "The Story of Robin Hood and His Merrie Men"
          ],
          [
           "The Proof Is Out There"
          ],
          [
           "Turner & Hooch"
          ],
          [
           "Shark Beach With Chris Hemsworth"
          ],
          [
           "Maleficent: Mistress of Evil"
          ],
          [
           "Davy Crockett and the River Pirates"
          ],
          [
           "Eyewitness: D-Day"
          ],
          [
           "Pompeii: Secrets of the Dead"
          ],
          [
           "Star Wars: Episode II - Attack of the Clones"
          ],
          [
           "Miracle on 34th Street"
          ],
          [
           "Lizzie McGuire"
          ],
          [
           "Iron Will"
          ],
          [
           "Lab Rats"
          ],
          [
           "Tuck Everlasting"
          ],
          [
           "Heavyweights"
          ],
          [
           "Expedition China"
          ],
          [
           "Those Calloways"
          ],
          [
           "The Parent Trap"
          ],
          [
           "X-Men: The Last Stand"
          ],
          [
           "Lost on Everest"
          ],
          [
           "Hercules"
          ],
          [
           "Lost Treasures of the Maya"
          ],
          [
           "That's So Raven"
          ],
          [
           "Iron Man"
          ],
          [
           "Winnie the Pooh: A Very Merry Pooh Year"
          ],
          [
           "Me & Mickey"
          ],
          [
           "The Happiest Millionaire"
          ],
          [
           "Alaska's Grizzly Gauntlet"
          ],
          [
           "Diary of a Future President"
          ],
          [
           "The Chronicles of Narnia: Prince Caspian"
          ],
          [
           "Star Wars: The Rise of Skywalker"
          ],
          [
           "Ramona and Beezus"
          ],
          [
           "Elena of Avalor"
          ],
          [
           "Sister Act"
          ],
          [
           "The Moon-Spinners"
          ],
          [
           "Chibiverse"
          ],
          [
           "Mega Hammerhead"
          ],
          [
           "National Treasure: Book of Secrets"
          ],
          [
           "Virus Hunters"
          ],
          [
           "Let It Shine"
          ],
          [
           "Fauci"
          ],
          [
           "Amy"
          ],
          [
           "The Santa Clause"
          ],
          [
           "Shipwrecked"
          ],
          [
           "A Spark Story"
          ],
          [
           "The Proud Family"
          ],
          [
           "Kickin' It"
          ],
          [
           "Star Wars: Episode I - The Phantom Menace"
          ],
          [
           "Being the Queen"
          ],
          [
           "Wicked Tuna"
          ],
          [
           "Pixar Popcorn"
          ],
          [
           "The Ugly Dachshund"
          ],
          [
           "Diary of a Wimpy Kid: Rodrick Rules"
          ],
          [
           "Ice Age: Continental Drift"
          ],
          [
           "Mighty Med"
          ],
          [
           "Soy Luna"
          ],
          [
           "A Very Boy Band Holiday"
          ],
          [
           "Be Our Chef"
          ],
          [
           "Motocrossed"
          ],
          [
           "Pirates of the Caribbean: Dead Men Tell No Tales"
          ],
          [
           "Expedition Everest"
          ],
          [
           "The One and Only Ivan"
          ],
          [
           "The Mighty Ducks"
          ],
          [
           "Iron Man: Armored Adventures"
          ],
          [
           "Marvel Studios Legends"
          ],
          [
           "The Rocketeer"
          ],
          [
           "The Love Bug"
          ],
          [
           "Disney Holiday Magic Quest"
          ],
          [
           "grown-ish"
          ],
          [
           "Father of the Bride"
          ],
          [
           "Race to the Center of the Earth"
          ],
          [
           "Miles from Tomorrowland"
          ],
          [
           "Vampirina"
          ],
          [
           "Chasing the Equinox"
          ],
          [
           "Avatar: The Deep Dive - A Special Edition of 20/20"
          ],
          [
           "Big Business"
          ],
          [
           "Mighty Ducks: The Animated Series"
          ],
          [
           "Fantastic Four"
          ],
          [
           "Miracle Landing on the Hudson"
          ],
          [
           "Dinosaur"
          ],
          [
           "Genoa Bridge Disaster"
          ],
          [
           "Better Nate Than Ever"
          ],
          [
           "Drain the Bermuda Triangle"
          ],
          [
           "Drain the Titanic"
          ],
          [
           "Cloud 9"
          ],
          [
           "The Lion Guard"
          ],
          [
           "Marvel's Iron Fist"
          ],
          [
           "Honey, I Shrunk the Kids"
          ],
          [
           "Killer Shark vs. Killer Whale"
          ],
          [
           "Winged Seduction: Birds of Paradise"
          ],
          [
           "One Magic Christmas"
          ],
          [
           "Muppets Most Wanted"
          ],
          [
           "The Apple Dumpling Gang"
          ],
          [
           "Ancient X-Files"
          ],
          [
           "Old Dogs"
          ],
          [
           "The Adventures of Bullwhip Griffin"
          ],
          [
           "Hamilton: History Has Its Eyes On You"
          ],
          [
           "Marvel's Behind the Mask"
          ],
          [
           "T. Rex Autopsy"
          ],
          [
           "Descendants 3"
          ],
          [
           "Fun and Fancy Free"
          ],
          [
           "The Lego Star Wars Holiday Special"
          ],
          [
           "Night at the Museum"
          ],
          [
           "Super Robot Monkey Team Hyperforce Go!"
          ],
          [
           "The Princess Diaries"
          ],
          [
           "Almost Angels"
          ],
          [
           "Black Beauty"
          ],
          [
           "Alice in Wonderland"
          ],
          [
           "Marvel's Ant-Man"
          ],
          [
           "Sydney to the Max"
          ],
          [
           "Pooh's Heffalump Movie"
          ],
          [
           "The Wonder Years"
          ],
          [
           "The Lost Tomb of Alexander the Great"
          ],
          [
           "Atlantis Rising"
          ],
          [
           "Weekend Family"
          ],
          [
           "Origins: The Journey of Humankind"
          ],
          [
           "Walt & El Grupo"
          ],
          [
           "Swiss Family Robinson"
          ],
          [
           "The Shaggy Dog"
          ],
          [
           "The Santa Clauses"
          ],
          [
           "Once Upon a Main Street"
          ],
          [
           "Because of Winn-Dixie"
          ],
          [
           "The Scream Team"
          ],
          [
           "Phantom of the Megaplex"
          ],
          [
           "The Chronicles of Narnia: The Voyage of the Dawn Treader"
          ],
          [
           "Baby Sharks"
          ],
          [
           "Lab Rats: Elite Force"
          ],
          [
           "Diary of a Wimpy Kid: Dog Days"
          ],
          [
           "Sheriff Callie's Wild West"
          ],
          [
           "Freaky Friday"
          ],
          [
           "Sky High"
          ],
          [
           "Dumbo"
          ],
          [
           "The Black Cauldron"
          ],
          [
           "Good Luck Charlie, It's Christmas!"
          ],
          [
           "Buried Secrets of Keros"
          ],
          [
           "The BFG"
          ],
          [
           "Trail of the Panda"
          ],
          [
           "Stonehenge: Decoded"
          ],
          [
           "The Book of Pooh"
          ],
          [
           "Geek Charming"
          ],
          [
           "The Prince and the Pauper"
          ],
          [
           "Halloweentown II: Kalabar's Revenge"
          ],
          [
           "Storage Wars"
          ],
          [
           "World's Biggest Great White Shark"
          ],
          [
           "Descendants: Wicked World"
          ],
          [
           "Liv and Maddie"
          ],
          [
           "The Wizards Return: Alex vs. Alex"
          ],
          [
           "A Muppets Christmas: Letters to Santa"
          ],
          [
           "Noelle"
          ],
          [
           "Shark vs Tuna"
          ],
          [
           "Pete's Dragon"
          ],
          [
           "Freaky Friday"
          ],
          [
           "Thor: Love and Thunder"
          ],
          [
           "Magic Camp"
          ],
          [
           "Rolie Polie Olie"
          ],
          [
           "Teacher's Pet"
          ],
          [
           "Zenon: Girl of the 21st Century"
          ],
          [
           "The Three Caballeros"
          ],
          [
           "Paris to Pittsburgh"
          ],
          [
           "The Chorus: Success, Here I Go"
          ],
          [
           "Flooded Tombs of the Nile"
          ],
          [
           "Zeke and Luther"
          ],
          [
           "Goldie & Bear"
          ],
          [
           "Wicked Tuna: North VS South"
          ],
          [
           "Drain The Sunken Pirate City"
          ],
          [
           "Snowball Express"
          ],
          [
           "The Tigger Movie"
          ],
          [
           "Secrets Of Christ's Tomb"
          ],
          [
           "K.C. Undercover"
          ],
          [
           "Smoky Mountain Park Rangers"
          ],
          [
           "Far from Home: The Adventures of Yellow Dog"
          ],
          [
           "The Evermoor Chronicles"
          ],
          [
           "Aliens of the Deep"
          ],
          [
           "Little Einsteins"
          ],
          [
           "Muppets Haunted Mansion"
          ],
          [
           "The Suite Life on Deck"
          ],
          [
           "Splash"
          ],
          [
           "Escape to Witch Mountain"
          ],
          [
           "Spider-Man Unlimited"
          ],
          [
           "Eternals"
          ],
          [
           "The Big Year"
          ],
          [
           "Stuck in the Middle"
          ],
          [
           "Take Two with Phineas and Ferb"
          ],
          [
           "Johnny Tsunami"
          ],
          [
           "Stargirl"
          ],
          [
           "Man vs. Shark"
          ],
          [
           "Benji the Hunted"
          ],
          [
           "The Bears and I"
          ],
          [
           "Cars 2"
          ],
          [
           "Lady and the Tramp"
          ],
          [
           "Descendants"
          ],
          [
           "Maggie Simpson in The Force Awakens from Its Nap"
          ],
          [
           "The Adventures of Huck Finn"
          ],
          [
           "Turner & Hooch"
          ],
          [
           "The Lodge"
          ],
          [
           "The Island at the Top of the World"
          ],
          [
           "Flora & Ulysses"
          ],
          [
           "Alexander and the Terrible, Horrible, No Good, Very Bad Day"
          ],
          [
           "Cannibal Sharks"
          ],
          [
           "The Game Plan"
          ],
          [
           "America's Funniest Home Videos"
          ],
          [
           "Melody Time"
          ],
          [
           "Wizards of Waverly Place: The Movie"
          ],
          [
           "Night at the Museum: Secret of the Tomb"
          ],
          [
           "Disney's Magic Bake-Off"
          ],
          [
           "Diary of a Wimpy Kid"
          ],
          [
           "MECH-X4"
          ],
          [
           "Ms. Marvel"
          ],
          [
           "Back to the Titanic"
          ],
          [
           "Mickey's Tale of Two Witches"
          ],
          [
           "PRIDE: To Be Seen - A Soul of a Nation Presentation"
          ],
          [
           "The Christmas Star"
          ],
          [
           "Emil and the Detectives"
          ],
          [
           "Gordon Ramsay: Uncharted Showdown"
          ],
          [
           "Lightyear"
          ],
          [
           "D2: The Mighty Ducks"
          ],
          [
           "Babes in Toyland"
          ],
          [
           "101 Dalmatians: The Series"
          ],
          [
           "The Boonies"
          ],
          [
           "Starstruck"
          ],
          [
           "Brain Games: On The Road"
          ],
          [
           "3 Men and a Baby"
          ],
          [
           "Saludos Amigos"
          ],
          [
           "Horse Sense"
          ],
          [
           "Shark Attack Files"
          ],
          [
           "World's Biggest Bull Shark?"
          ],
          [
           "Marvel's Spider-Man"
          ],
          [
           "The Kid"
          ],
          [
           "Now You See It..."
          ],
          [
           "LEGO Star Wars Terrifying Tales"
          ],
          [
           "ZOMBIES: Addison's Moonstone Mystery"
          ],
          [
           "Genius"
          ],
          [
           "Smart House"
          ],
          [
           "Lost Tombs of the Pyramids"
          ],
          [
           "Piglet's Big Movie"
          ],
          [
           "Out There with Jack Randall"
          ],
          [
           "Forged in Fire: Knife or Death"
          ],
          [
           "The Sorcerer's Apprentice"
          ],
          [
           "Treasure of Matecumbe"
          ],
          [
           "Shark vs. Surfer"
          ],
          [
           "Secrets of the Bull Shark"
          ],
          [
           "Spin"
          ],
          [
           "Right on Track"
          ],
          [
           "More Than Robots"
          ],
          [
           "The Kid Who Would Be King"
          ],
          [
           "Toni Braxton: Unbreak My Heart"
          ],
          [
           "The Even Stevens Movie"
          ],
          [
           "The Luck of the Irish"
          ],
          [
           "Godmothered"
          ],
          [
           "Drain Alcatraz"
          ],
          [
           "Father of the Bride Part II"
          ],
          [
           "Ice Princess"
          ],
          [
           "You Wish!"
          ],
          [
           "Squanto: A Warrior's Tale"
          ],
          [
           "Spidey and His Amazing Friends"
          ],
          [
           "The Santa Con"
          ],
          [
           "Star Wars: Ewoks"
          ],
          [
           "Camp Nowhere"
          ],
          [
           "Marvel's Hulk and the Agents of S.M.A.S.H."
          ],
          [
           "Chip 'N' Dale: Park Life"
          ],
          [
           "Eddie's Million Dollar Cook Off"
          ],
          [
           "Bedtime Stories"
          ],
          [
           "Planes: Fire & Rescue"
          ],
          [
           "Halloweentown High"
          ],
          [
           "Mickey Mouse Mixed-Up Adventures"
          ],
          [
           "Hocus Pocus 2"
          ],
          [
           "The Super Hero Squad Show"
          ],
          [
           "Sonny with a Chance"
          ],
          [
           "The Apple Dumpling Gang Rides Again"
          ],
          [
           "The Cat from Outer Space"
          ],
          [
           "101 Dalmatian Street"
          ],
          [
           "White Fang"
          ],
          [
           "Disney Channel Halloween House Party"
          ],
          [
           "Jumping Ship"
          ],
          [
           "Homeward Bound II: Lost in San Francisco"
          ],
          [
           "Jessie"
          ],
          [
           "Z-O-M-B-I-E-S"
          ],
          [
           "The Swap"
          ],
          [
           "Never Been Kissed"
          ],
          [
           "Timmy Failure: Mistakes Were Made"
          ],
          [
           "The Last Song"
          ],
          [
           "Our Only Chance"
          ],
          [
           "Alley Cats Strike"
          ],
          [
           "The Computer Wore Tennis Shoes"
          ],
          [
           "Teen Beach Movie"
          ],
          [
           "Ice Age: The Great Egg-Scapade"
          ],
          [
           "Gnomeo & Juliet"
          ],
          [
           "The Strongest Man in the World"
          ],
          [
           "Double Teamed"
          ],
          [
           "Austin & Ally"
          ],
          [
           "Tiger Cruise"
          ],
          [
           "Teen Beach 2"
          ],
          [
           "The Disney Holiday Singalong"
          ],
          [
           "A Tale of Two Critters"
          ],
          [
           "Invisible Sister"
          ],
          [
           "Cheaper by the Dozen"
          ],
          [
           "Miracle in Lane 2"
          ],
          [
           "The Thirteenth Year"
          ],
          [
           "Rip Girls"
          ],
          [
           "Drumline"
          ],
          [
           "Cheetah"
          ],
          [
           "Red Tails"
          ],
          [
           "Star Wars: Droids"
          ],
          [
           "Adventures in Babysitting"
          ],
          [
           "Tall Tale"
          ],
          [
           "The Black Hole"
          ],
          [
           "Marvel Super Hero Adventures"
          ],
          [
           "Muppets Now"
          ],
          [
           "Into the Woods"
          ],
          [
           "Star Wars: The Clone Wars"
          ],
          [
           "The Knights of Castelcorvo"
          ],
          [
           "Hollywood Stargirl"
          ],
          [
           "Daddies on Request"
          ],
          [
           "Spider-Woman"
          ],
          [
           "Area 51: The CIA's Secret"
          ],
          [
           "Pair of Kings"
          ],
          [
           "The Shaggy D.A."
          ],
          [
           "Gender Revolution: A Journey with Katie Couric"
          ],
          [
           "The Replacements"
          ],
          [
           "Percy Jackson & the Olympians: The Lightning Thief"
          ],
          [
           "My Friends Tigger & Pooh"
          ],
          [
           "The Castaway Cowboy"
          ],
          [
           "Mom's Got a Date with a Vampire"
          ],
          [
           "Coop & Cami Ask The World"
          ],
          [
           "Trevor: The Musical"
          ],
          [
           "Minutemen"
          ],
          [
           "A Ring of Endless Light"
          ],
          [
           "Jack"
          ],
          [
           "Confessions of a Shopaholic"
          ],
          [
           "Return to Never Land"
          ],
          [
           "King Shakir Recycle"
          ],
          [
           "Best Friends Whenever"
          ],
          [
           "Bad Hair Day"
          ],
          [
           "Black Is King"
          ],
          [
           "Around the World in 80 Days"
          ],
          [
           "The Princess Diaries 2: Royal Engagement"
          ],
          [
           "Twitches"
          ],
          [
           "Mickey Go Local"
          ],
          [
           "The Ghosts of Buxley Hall"
          ],
          [
           "Herbie Rides Again"
          ],
          [
           "Morning Light"
          ],
          [
           "Mulan"
          ],
          [
           "Strange Magic"
          ],
          [
           "Star Wars: Galaxy's Edge - Adventure Awaits"
          ],
          [
           "The Queen Family Singalong"
          ],
          [
           "World's Biggest Hammerhead?"
          ],
          [
           "101 Dalmatians"
          ],
          [
           "You Again"
          ],
          [
           "Ernest Saves Christmas"
          ],
          [
           "Z-O-M-B-I-E-S 2"
          ],
          [
           "The Santa Clause 2"
          ],
          [
           "The Biscuit Eater"
          ],
          [
           "Chicken Little"
          ],
          [
           "Full-Court Miracle"
          ],
          [
           "Gus"
          ],
          [
           "Return from Witch Mountain"
          ],
          [
           "Zenon: The Zequel"
          ],
          [
           "Dark Phoenix"
          ],
          [
           "Planes"
          ],
          [
           "High School Musical: The Musical: The Holiday Special"
          ],
          [
           "Percy Jackson: Sea of Monsters"
          ],
          [
           "Mighty Joe Young"
          ],
          [
           "Fantastic Four"
          ],
          [
           "Atlas Of Cursed Places"
          ],
          [
           "Race to Witch Mountain"
          ],
          [
           "Great Shark Chow Down"
          ],
          [
           "Teacher's Pet"
          ],
          [
           "Minnie's Bow-Toons"
          ],
          [
           "Stepsister from Planet Weird"
          ],
          [
           "Marvel Rising: Initiation"
          ],
          [
           "Mickey Mouse Clubhouse"
          ],
          [
           "The Million Dollar Duck"
          ],
          [
           "Twitches Too"
          ],
          [
           "Herbie Goes to Monte Carlo"
          ],
          [
           "Sharks of Lost Island"
          ],
          [
           "The Nutcracker and the Four Realms"
          ],
          [
           "Marvel Future Avengers"
          ],
          [
           "Alex & Co."
          ],
          [
           "Gabby Duran and the Unsittables"
          ],
          [
           "Mickey Mouse Funhouse"
          ],
          [
           "The Simpsons Meet the Bocellis in Feliz Navidad"
          ],
          [
           "National Treasure: Edge of History"
          ],
          [
           "LEGO Star Wars Summer Vacation"
          ],
          [
           "The Pacifier"
          ],
          [
           "Princess Protection Program"
          ],
          [
           "Pixel Perfect"
          ],
          [
           "Mickey and Minnie Wish Upon a Christmas"
          ],
          [
           "Willow"
          ],
          [
           "Strange World"
          ],
          [
           "Gotta Kick It Up!"
          ],
          [
           "Remembering"
          ],
          [
           "Sister Act 2: Back in the Habit"
          ],
          [
           "Life with Mikey"
          ],
          [
           "Fantastic Four: Rise of the Silver Surfer"
          ],
          [
           "Avalon High"
          ],
          [
           "Jake and the Never Land Pirates"
          ],
          [
           "Ice Age: Collision Course"
          ],
          [
           "Buffalo Dreams"
          ],
          [
           "Disenchanted"
          ],
          [
           "Go Figure"
          ],
          [
           "The Little Mermaid Live!"
          ],
          [
           "The Ultimate Christmas Present"
          ],
          [
           "Viking Warrior Women"
          ],
          [
           "Jim Henson's Turkey Hollow"
          ],
          [
           "Game of Sharks"
          ],
          [
           "Orca Vs. Great White"
          ],
          [
           "Valiant"
          ],
          [
           "George of the Jungle"
          ],
          [
           "The Boy Who Talked to Badgers"
          ],
          [
           "Cadet Kelly"
          ],
          [
           "Fast Layne"
          ],
          [
           "The Lizzie McGuire Movie"
          ],
          [
           "The Big Green"
          ],
          [
           "It Was Always Me"
          ],
          [
           "Fancy Nancy"
          ],
          [
           "Quints"
          ],
          [
           "Sharks of the Bermuda Triangle"
          ],
          [
           "Handy Manny"
          ],
          [
           "Cheaper by the Dozen 2"
          ],
          [
           "High School Musical"
          ],
          [
           "Shark vs. Whale"
          ],
          [
           "Victoria Gotti: My Father's Daughter"
          ],
          [
           "Read It and Weep"
          ],
          [
           "Tom and Huck"
          ],
          [
           "Brahmāstra Part One: Shiva"
          ],
          [
           "Buried Truth of the Maya"
          ],
          [
           "I'll Be Home for Christmas"
          ],
          [
           "Stuck in the Suburbs"
          ],
          [
           "Doctor Dolittle"
          ],
          [
           "Johnny Kapahala: Back on Board"
          ],
          [
           "Young Black Stallion"
          ],
          [
           "3 Men and a Little Lady"
          ],
          [
           "Jump In!"
          ],
          [
           "Aquamarine"
          ],
          [
           "Marvel Rising: Secret Warriors"
          ],
          [
           "Z-O-M-B-I-E-S 3"
          ],
          [
           "The Chicken Squad"
          ],
          [
           "Prom"
          ],
          [
           "Mars Needs Moms"
          ],
          [
           "Sharkatraz"
          ],
          [
           "Ready to Run"
          ],
          [
           "Ewoks: The Battle for Endor"
          ],
          [
           "The Villains of Valley View"
          ],
          [
           "Max Keeble's Big Move"
          ],
          [
           "Up, Up, and Away"
          ],
          [
           "Home on the Range"
          ],
          [
           "Hacksaw"
          ],
          [
           "Wendy Wu: Homecoming Warrior"
          ],
          [
           "D3: The Mighty Ducks"
          ],
          [
           "White Fang 2: Myth of the White Wolf"
          ],
          [
           "Disney's Summer Magic Quest"
          ],
          [
           "The Hip Hop Nutcracker"
          ],
          [
           "Like Mike"
          ],
          [
           "Fury Files"
          ],
          [
           "Star Wars: Forces of Destiny"
          ],
          [
           "The Avengers: United They Stand"
          ],
          [
           "The Jungle Book 2"
          ],
          [
           "Hatching Pete"
          ],
          [
           "Life Below Zero: Next Generation"
          ],
          [
           "Den Brother"
          ],
          [
           "Future-Worm!"
          ],
          [
           "Girl vs. Monster"
          ],
          [
           "Return to Halloweentown"
          ],
          [
           "The Ewok Adventure"
          ],
          [
           "Flubber"
          ],
          [
           "The New Mutants"
          ],
          [
           "PJ Masks"
          ],
          [
           "Tini: The New Life of Violetta"
          ],
          [
           "The Proud Family Movie"
          ],
          [
           "Marvel Rising: Battle of the Bands"
          ],
          [
           "How to Build a Better Boy"
          ],
          [
           "Cow Belles"
          ],
          [
           "Hannah Montana"
          ],
          [
           "Blank Check"
          ],
          [
           "Camp Rock 2: The Final Jam"
          ],
          [
           "Henry Hugglemonster"
          ],
          [
           "The New Air Force One: Flying Fortress"
          ],
          [
           "Marvel Rising: Chasing Ghosts"
          ],
          [
           "National Geographic Presents: IMPACT with Gal Gadot"
          ],
          [
           "Best in Bridal"
          ],
          [
           "Under the Sea: A Descendants Story"
          ],
          [
           "Marvel Rising: Playing with Fire"
          ],
          [
           "Man of the House"
          ],
          [
           "Violetta"
          ],
          [
           "Star Wars Resistance"
          ],
          [
           "Special Agent Oso"
          ],
          [
           "She-Hulk: Attorney at Law"
          ],
          [
           "The Rocketeer"
          ],
          [
           "Zenon: Z3"
          ],
          [
           "Operation Dumbo Drop"
          ],
          [
           "Jungle 2 Jungle"
          ],
          [
           "'Twas the Night"
          ],
          [
           "Unidentified Flying Oddball"
          ],
          [
           "Snow Dogs"
          ],
          [
           "The Wild"
          ],
          [
           "Earth Live"
          ],
          [
           "First Kid"
          ],
          [
           "Sharks vs. Dolphins: Blood Battle"
          ],
          [
           "Camp Rock"
          ],
          [
           "Just Roll with It"
          ],
          [
           "The Haunted Mansion"
          ],
          [
           "The Secret of the Magic Gourd"
          ],
          [
           "G-Force"
          ],
          [
           "Tierra Incognita"
          ],
          [
           "The Suite Life Movie"
          ],
          [
           "A.N.T. Farm"
          ],
          [
           "Diary of a Wimpy Kid: Rodrick Rules"
          ],
          [
           "My Favorite Martian"
          ],
          [
           "Diary of a Wimpy Kid"
          ],
          [
           "The Christmas Consultant"
          ],
          [
           "Crash & Bernstein"
          ],
          [
           "Hounded"
          ],
          [
           "Get a Clue"
          ],
          [
           "Marvel Rising: Operation Shuri"
          ],
          [
           "Pinocchio"
          ],
          [
           "The Cheetah Girls 2"
          ],
          [
           "Pentatonix: Around the World for the Holidays"
          ],
          [
           "Skyrunners"
          ],
          [
           "Whispers: An Elephant's Tale"
          ],
          [
           "The Simpsons in Plusaversary"
          ],
          [
           "America's Heart and Soul"
          ],
          [
           "Zapped"
          ],
          [
           "Night at the Museum: Kahmunrah Rises Again"
          ],
          [
           "Frenemies"
          ],
          [
           "Iron Man & Captain America: Heroes United"
          ],
          [
           "Secret Society of Second Born Royals"
          ],
          [
           "Honey, We Shrunk Ourselves"
          ],
          [
           "The Magic Maker"
          ],
          [
           "Fish Hooks"
          ],
          [
           "Herbie Fully Loaded"
          ],
          [
           "High School Musical 3: Senior Year"
          ],
          [
           "Kirby Buckets"
          ],
          [
           "Doug's 1st Movie"
          ],
          [
           "Can of Worms"
          ],
          [
           "Herbie Goes Bananas"
          ],
          [
           "Marvel's Inhumans"
          ],
          [
           "Dog with a Blog"
          ],
          [
           "Honey, I Blew Up the Kid"
          ],
          [
           "Alvin and the Chipmunks: The Road Chip"
          ],
          [
           "Gulliver's Travels"
          ],
          [
           "Life Is Ruff"
          ],
          [
           "Sneakerella"
          ],
          [
           "Higglytown Heroes"
          ],
          [
           "Sky Sharks"
          ],
          [
           "Underdog"
          ],
          [
           "Dancing with the Stars"
          ],
          [
           "The Santa Clause 3: The Escape Clause"
          ],
          [
           "Under Wraps"
          ],
          [
           "Dadnapped"
          ],
          [
           "Epic Holiday Showdown"
          ],
          [
           "Foodtastic"
          ],
          [
           "The Cheetah Girls"
          ],
          [
           "102 Dalmatians"
          ],
          [
           "Disney Princess Remixed: An Ultimate Princess Celebration"
          ],
          [
           "Far From Raven's Home"
          ],
          [
           "Santa Paws 2: The Santa Pups"
          ],
          [
           "Marvel Rising: Heart of Iron"
          ],
          [
           "A Kid in King Arthur's Court"
          ],
          [
           "High School Musical 2"
          ],
          [
           "Mila in the Multiverse"
          ],
          [
           "That Darn Cat"
          ],
          [
           "Disney Channel Holiday House Party"
          ],
          [
           "The Cheetah Girls: One World"
          ],
          [
           "Dance Moms"
          ],
          [
           "Under Wraps 2"
          ],
          [
           "JONAS L.A."
          ],
          [
           "You Lucky Dog"
          ],
          [
           "Hannah Montana: The Movie"
          ],
          [
           "Confessions of a Teenage Drama Queen"
          ],
          [
           "Best in Snow"
          ],
          [
           "Cheaper by the Dozen"
          ],
          [
           "The Poof Point"
          ],
          [
           "Home Alone 3"
          ],
          [
           "So Random!"
          ],
          [
           "Alvin and the Chipmunks: The Squeakquel"
          ],
          [
           "Schoolhouse Rock! 50th Anniversary Singalong"
          ],
          [
           "Paradise Islands"
          ],
          [
           "College Road Trip"
          ],
          [
           "The Ice Age Adventures of Buck Wild"
          ],
          [
           "Fantastic Four"
          ],
          [
           "Storage Wars: New York"
          ],
          [
           "House of Darkness"
          ],
          [
           "Diary of a Wimpy Kid: The Long Haul"
          ],
          [
           "Rise Up, Sing Out"
          ],
          [
           "The Country Bears"
          ],
          [
           "A Wrinkle in Time"
          ],
          [
           "Pickle & Peanut"
          ],
          [
           "Artemis Fowl"
          ],
          [
           "Inspector Gadget"
          ],
          [
           "Walk the Prank"
          ],
          [
           "Liz & Dick"
          ],
          [
           "Mr. Magoo"
          ],
          [
           "Meet the Deedles"
          ],
          [
           "The Montaners"
          ],
          [
           "Beverly Hills Chihuahua"
          ],
          [
           "The Quest"
          ],
          [
           "Freaky Friday"
          ],
          [
           "Bizaardvark"
          ],
          [
           "Kim Possible"
          ],
          [
           "Home Sweet Home Alone"
          ],
          [
           "Dory's Reef Cam"
          ],
          [
           "Home Alone: The Holiday Heist"
          ],
          [
           "Dance Moms: Miami"
          ],
          [
           "Billy Dilley’s Super-Duper Subterranean Summer"
          ],
          [
           "Kazaam"
          ],
          [
           "The Proud Family: Louder and Prouder"
          ],
          [
           "Home Alone 4"
          ],
          [
           "Hannah Montana & Miley Cyrus: Best of Both Worlds Concert"
          ],
          [
           "Jonas Brothers: The Concert Experience"
          ]
         ],
         "hovertemplate": "Number of People in the Cast=%{x}<br>IMDB Score=%{y}<br>title=%{customdata[0]}<extra></extra>",
         "legendgroup": "",
         "marker": {
          "color": "#636efa",
          "line": {
           "color": "DarkSlateGrey",
           "width": 2
          },
          "size": 12,
          "symbol": "circle"
         },
         "mode": "markers",
         "name": "",
         "showlegend": false,
         "type": "scattergl",
         "x": [
          2,
          1,
          27,
          8,
          2,
          1,
          2,
          6,
          47,
          1,
          2,
          1,
          75,
          6,
          7,
          1,
          9,
          105,
          6,
          8,
          12,
          1,
          7,
          32,
          7,
          2,
          1,
          2,
          9,
          1,
          22,
          4,
          1,
          6,
          5,
          3,
          40,
          6,
          1,
          12,
          29,
          3,
          112,
          1,
          8,
          67,
          78,
          1,
          11,
          174,
          9,
          53,
          41,
          24,
          4,
          2,
          2,
          4,
          6,
          31,
          1,
          3,
          1,
          1,
          14,
          13,
          10,
          42,
          64,
          2,
          6,
          21,
          4,
          3,
          5,
          11,
          11,
          2,
          6,
          38,
          5,
          94,
          1,
          12,
          53,
          2,
          13,
          2,
          6,
          2,
          10,
          1,
          2,
          68,
          2,
          1,
          72,
          6,
          29,
          8,
          27,
          1,
          6,
          7,
          12,
          27,
          2,
          49,
          52,
          28,
          6,
          28,
          3,
          2,
          5,
          1,
          31,
          28,
          11,
          74,
          1,
          58,
          42,
          114,
          9,
          9,
          1,
          84,
          8,
          6,
          1,
          66,
          56,
          4,
          39,
          5,
          5,
          65,
          6,
          4,
          15,
          3,
          1,
          2,
          43,
          6,
          4,
          11,
          36,
          21,
          2,
          13,
          1,
          6,
          1,
          16,
          6,
          72,
          49,
          1,
          7,
          4,
          61,
          1,
          61,
          15,
          44,
          2,
          175,
          90,
          105,
          183,
          2,
          1,
          2,
          1,
          22,
          2,
          1,
          15,
          25,
          142,
          3,
          66,
          1,
          9,
          5,
          1,
          36,
          43,
          4,
          5,
          21,
          8,
          16,
          59,
          3,
          14,
          1,
          67,
          52,
          5,
          61,
          7,
          6,
          25,
          2,
          5,
          8,
          6,
          7,
          40,
          3,
          4,
          2,
          1,
          3,
          3,
          83,
          1,
          60,
          14,
          15,
          111,
          1,
          1,
          13,
          6,
          2,
          1,
          1,
          64,
          7,
          1,
          5,
          19,
          12,
          1,
          7,
          1,
          8,
          162,
          15,
          22,
          1,
          2,
          39,
          11,
          21,
          16,
          20,
          21,
          1,
          9,
          4,
          3,
          131,
          2,
          43,
          18,
          7,
          5,
          9,
          27,
          1,
          67,
          8,
          21,
          12,
          2,
          2,
          5,
          1,
          2,
          1,
          4,
          7,
          34,
          19,
          78,
          1,
          6,
          8,
          62,
          29,
          14,
          1,
          6,
          2,
          70,
          31,
          8,
          38,
          13,
          1,
          5,
          19,
          33,
          3,
          1,
          1,
          14,
          4,
          1,
          5,
          18,
          8,
          2,
          15,
          20,
          64,
          2,
          56,
          4,
          23,
          1,
          35,
          1,
          7,
          15,
          76,
          20,
          5,
          32,
          15,
          65,
          9,
          1,
          26,
          4,
          14,
          29,
          25,
          15,
          34,
          8,
          2,
          39,
          4,
          60,
          45,
          7,
          3,
          7,
          2,
          2,
          2,
          4,
          19,
          5,
          2,
          33,
          22,
          2,
          5,
          62,
          67,
          32,
          2,
          7,
          72,
          2,
          1,
          3,
          3,
          2,
          124,
          15,
          3,
          22,
          28,
          54,
          8,
          10,
          2,
          2,
          15,
          2,
          98,
          11,
          6,
          5,
          3,
          5,
          19,
          27,
          2,
          2,
          8,
          1,
          28,
          21,
          1,
          2,
          18,
          4,
          2,
          2,
          3,
          24,
          33,
          25,
          2,
          12,
          8,
          1,
          83,
          24,
          10,
          59,
          20,
          6,
          4,
          37,
          7,
          3,
          16,
          27,
          1,
          137,
          21,
          5,
          11,
          6,
          8,
          110,
          6,
          77,
          3,
          4,
          16,
          1,
          7,
          42,
          20,
          5,
          12,
          9,
          33,
          12,
          56,
          12,
          24,
          39,
          14,
          14,
          244,
          1,
          7,
          1,
          2,
          22,
          2,
          72,
          17,
          3,
          30,
          2,
          2,
          21,
          2,
          67,
          2,
          3,
          139,
          5,
          12,
          1,
          85,
          6,
          38,
          2,
          2,
          61,
          42,
          33,
          56,
          21,
          6,
          52,
          9,
          56,
          50,
          20,
          7,
          2,
          11,
          18,
          33,
          26,
          10,
          81,
          14,
          23,
          36,
          2,
          15,
          39,
          23,
          68,
          12,
          31,
          5,
          6,
          57,
          2,
          2,
          50,
          3,
          16,
          6,
          11,
          23,
          6,
          34,
          2,
          6,
          35,
          14,
          15,
          42,
          96,
          18,
          2,
          2,
          29,
          59,
          55,
          6,
          18,
          17,
          1,
          102,
          27,
          20,
          33,
          60,
          87,
          110,
          30,
          15,
          10,
          3,
          6,
          7,
          3,
          1,
          21,
          37,
          46,
          2,
          2,
          18,
          2,
          69,
          1,
          5,
          3,
          65,
          53,
          2,
          15,
          5,
          9,
          63,
          24,
          4,
          47,
          1,
          30,
          15,
          2,
          3,
          32,
          55,
          19,
          20,
          23,
          4,
          6,
          80,
          4,
          3,
          4,
          31,
          39,
          75,
          16,
          22,
          33,
          1,
          18,
          72,
          94,
          2,
          8,
          55,
          23,
          1,
          10,
          2,
          10,
          10,
          38,
          2,
          11,
          8,
          44,
          35,
          11,
          2,
          6,
          9,
          20,
          11,
          28,
          21,
          16,
          48,
          1,
          6,
          58,
          50,
          19,
          14,
          24,
          21,
          15,
          3,
          7,
          4,
          21,
          16,
          3,
          42,
          84,
          45,
          5,
          1,
          6,
          2,
          2,
          8,
          4,
          10,
          40,
          9,
          20,
          4,
          35,
          25,
          45,
          10,
          3,
          28,
          35,
          2,
          7,
          4,
          83,
          14,
          1,
          1,
          95,
          35,
          6,
          46,
          5,
          23,
          20,
          2,
          18,
          32,
          63,
          4,
          13,
          1,
          5,
          5,
          13,
          1,
          18,
          1,
          4,
          49,
          109,
          25,
          15,
          32,
          11,
          4,
          1,
          50,
          2,
          16,
          4,
          38,
          57,
          19,
          8,
          10,
          4,
          114,
          18,
          1,
          7,
          24,
          57,
          53,
          4,
          29,
          11,
          2,
          15,
          79,
          2,
          43,
          30,
          3,
          18,
          72,
          21,
          5,
          5,
          52,
          1,
          11,
          8,
          9,
          13,
          24,
          9,
          4,
          9,
          16,
          1,
          23,
          2,
          4,
          19,
          5,
          6,
          16,
          1,
          2,
          31,
          73,
          21,
          1,
          86,
          14,
          11,
          16,
          6,
          53,
          14,
          18,
          44,
          4,
          82,
          14,
          23,
          39,
          11,
          6,
          9,
          8,
          3,
          2,
          10,
          2,
          2,
          12,
          17,
          8,
          11,
          23,
          31,
          21,
          37,
          1,
          5,
          61,
          9,
          35,
          35,
          66,
          23,
          34,
          2,
          33,
          4,
          3,
          9,
          24,
          17,
          19,
          4,
          1,
          3,
          7,
          8,
          43,
          21,
          1,
          17,
          31,
          126,
          38,
          2,
          9,
          17,
          13,
          4,
          15,
          10,
          3,
          2,
          5,
          3,
          11,
          12,
          5,
          6,
          2,
          16,
          9,
          21,
          4,
          34,
          5,
          28,
          17,
          22,
          38,
          54,
          8,
          5,
          16,
          62,
          1,
          6,
          8,
          50,
          22,
          65,
          1,
          38,
          23,
          6,
          17,
          19,
          49,
          2,
          57,
          1,
          16,
          17,
          74,
          2,
          67,
          5,
          7,
          7,
          6,
          108,
          27,
          11,
          4,
          33,
          33,
          14,
          13,
          5,
          27,
          1,
          20,
          10,
          13,
          1,
          2,
          14,
          47,
          12,
          19,
          6,
          10,
          14,
          1,
          9,
          1,
          1,
          38,
          23,
          6,
          1,
          17,
          33,
          1,
          21,
          16,
          33,
          14,
          29,
          2,
          16,
          59,
          15,
          34,
          3,
          41,
          26,
          43,
          5,
          7,
          18,
          63,
          35,
          26,
          3,
          49,
          14,
          6,
          29,
          37,
          9,
          15,
          13,
          7,
          24,
          6,
          20,
          20,
          49,
          16,
          20,
          5,
          14,
          41,
          50,
          15,
          21,
          43,
          11,
          4,
          10,
          27,
          12,
          2,
          13,
          44,
          21,
          11,
          9,
          16,
          9,
          49,
          14,
          31,
          13,
          10,
          1,
          8,
          22,
          16,
          3,
          41,
          10,
          1,
          1,
          5,
          21,
          4,
          6,
          96,
          11,
          17,
          23,
          5,
          20,
          11,
          14,
          20,
          83,
          19,
          4,
          6,
          10,
          26,
          39,
          144,
          16,
          1,
          19,
          52,
          1,
          33,
          18,
          14,
          11,
          1,
          22,
          36,
          14,
          22,
          56,
          9,
          28,
          15,
          21,
          38,
          20,
          88,
          25,
          12,
          34,
          25,
          96,
          4,
          47,
          2,
          25,
          3,
          21,
          10,
          8,
          37,
          13,
          35,
          2,
          36,
          10,
          6,
          6,
          6,
          8,
          7,
          24,
          78,
          16,
          16,
          7,
          14,
          19,
          12,
          3,
          45,
          29,
          34,
          16,
          7,
          38,
          9,
          38,
          26,
          20,
          24,
          6,
          16,
          2,
          3,
          21,
          51,
          8,
          16,
          7,
          30,
          15,
          14,
          10,
          9,
          1,
          1,
          56,
          65,
          2,
          8,
          36,
          27,
          22,
          7,
          52,
          41,
          64,
          8,
          7,
          12,
          9,
          27,
          15,
          25,
          4,
          25,
          15,
          1,
          25,
          49,
          6,
          48,
          10,
          29,
          8,
          15,
          30,
          20,
          6,
          14,
          110,
          1,
          1,
          7,
          20,
          12,
          6,
          13,
          11,
          11,
          32,
          24,
          19,
          16,
          4,
          17,
          16,
          11,
          19,
          16,
          5,
          13,
          62,
          5,
          15,
          15,
          2,
          4,
          6,
          13,
          19,
          11,
          5,
          4,
          5,
          9,
          14,
          19,
          36,
          13,
          15,
          49,
          55,
          3,
          14,
          3,
          43,
          4,
          27,
          11,
          28,
          17,
          12,
          5,
          12,
          32,
          20,
          9,
          5,
          17,
          13,
          13,
          16,
          20,
          13,
          9,
          13,
          6,
          2,
          16,
          32,
          26,
          8,
          29,
          18,
          1,
          1,
          18,
          40,
          3,
          23,
          16,
          21,
          9,
          6,
          16,
          52,
          54,
          7,
          12,
          9,
          1,
          2,
          6,
          59,
          16,
          11,
          18,
          4,
          18,
          15,
          9,
          6,
          31,
          15,
          24,
          72,
          10,
          46,
          1,
          13,
          9,
          12,
          5,
          9,
          50,
          22,
          9,
          58,
          18,
          37,
          5,
          57,
          20,
          2,
          21,
          10,
          65,
          1,
          30,
          70,
          2,
          41,
          39,
          3,
          82,
          20,
          5,
          14,
          20,
          14,
          8,
          33,
          9,
          21,
          6,
          21,
          30,
          1,
          27,
          2,
          6,
          13,
          7,
          18,
          12,
          12
         ],
         "xaxis": "x",
         "y": [
          9.5,
          9.3,
          9,
          8.9,
          8.8,
          8.8,
          8.8,
          8.8,
          8.8,
          8.7,
          8.7,
          8.7,
          8.7,
          8.7,
          8.6,
          8.6,
          8.6,
          8.6,
          8.6,
          8.5,
          8.5,
          8.5,
          8.5,
          8.5,
          8.5,
          8.5,
          8.4,
          8.4,
          8.4,
          8.4,
          8.4,
          8.4,
          8.4,
          8.4,
          8.4,
          8.4,
          8.4,
          8.4,
          8.4,
          8.4,
          8.4,
          8.4,
          8.4,
          8.4,
          8.4,
          8.4,
          8.4,
          8.4,
          8.4,
          8.3,
          8.3,
          8.3,
          8.3,
          8.3,
          8.3,
          8.3,
          8.3,
          8.3,
          8.3,
          8.3,
          8.3,
          8.3,
          8.3,
          8.3,
          8.3,
          8.3,
          8.3,
          8.3,
          8.2,
          8.2,
          8.2,
          8.2,
          8.2,
          8.2,
          8.2,
          8.2,
          8.2,
          8.2,
          8.2,
          8.2,
          8.2,
          8.1,
          8.1,
          8.1,
          8.1,
          8.1,
          8.1,
          8.1,
          8.1,
          8.1,
          8.1,
          8.1,
          8.1,
          8.1,
          8.1,
          8.1,
          8.1,
          8.1,
          8.1,
          8.1,
          8.1,
          8.1,
          8,
          8,
          8,
          8,
          8,
          8,
          8,
          8,
          8,
          8,
          8,
          8,
          8,
          8,
          8,
          8,
          8,
          8,
          8,
          8,
          8,
          8,
          8,
          8,
          8,
          7.9,
          7.9,
          7.9,
          7.9,
          7.9,
          7.9,
          7.9,
          7.9,
          7.9,
          7.9,
          7.9,
          7.9,
          7.9,
          7.9,
          7.9,
          7.9,
          7.9,
          7.9,
          7.9,
          7.9,
          7.9,
          7.9,
          7.9,
          7.9,
          7.9,
          7.9,
          7.9,
          7.9,
          7.8,
          7.8,
          7.8,
          7.8,
          7.8,
          7.8,
          7.8,
          7.8,
          7.8,
          7.8,
          7.8,
          7.8,
          7.8,
          7.8,
          7.8,
          7.8,
          7.8,
          7.8,
          7.8,
          7.8,
          7.8,
          7.8,
          7.8,
          7.8,
          7.8,
          7.7,
          7.7,
          7.7,
          7.7,
          7.7,
          7.7,
          7.7,
          7.7,
          7.7,
          7.7,
          7.7,
          7.7,
          7.7,
          7.7,
          7.7,
          7.7,
          7.7,
          7.7,
          7.7,
          7.7,
          7.7,
          7.7,
          7.7,
          7.7,
          7.6,
          7.6,
          7.6,
          7.6,
          7.6,
          7.6,
          7.6,
          7.6,
          7.6,
          7.6,
          7.6,
          7.6,
          7.6,
          7.6,
          7.6,
          7.6,
          7.6,
          7.6,
          7.6,
          7.6,
          7.6,
          7.6,
          7.6,
          7.6,
          7.6,
          7.6,
          7.6,
          7.6,
          7.6,
          7.6,
          7.6,
          7.6,
          7.6,
          7.6,
          7.6,
          7.5,
          7.5,
          7.5,
          7.5,
          7.5,
          7.5,
          7.5,
          7.5,
          7.5,
          7.5,
          7.5,
          7.5,
          7.5,
          7.5,
          7.5,
          7.5,
          7.5,
          7.5,
          7.5,
          7.5,
          7.5,
          7.5,
          7.5,
          7.5,
          7.5,
          7.5,
          7.5,
          7.5,
          7.5,
          7.5,
          7.5,
          7.5,
          7.5,
          7.5,
          7.5,
          7.5,
          7.5,
          7.5,
          7.5,
          7.5,
          7.5,
          7.5,
          7.4,
          7.4,
          7.4,
          7.4,
          7.4,
          7.4,
          7.4,
          7.4,
          7.4,
          7.4,
          7.4,
          7.4,
          7.4,
          7.4,
          7.4,
          7.4,
          7.4,
          7.4,
          7.4,
          7.4,
          7.4,
          7.4,
          7.4,
          7.4,
          7.4,
          7.4,
          7.4,
          7.4,
          7.4,
          7.4,
          7.4,
          7.4,
          7.3,
          7.3,
          7.3,
          7.3,
          7.3,
          7.3,
          7.3,
          7.3,
          7.3,
          7.3,
          7.3,
          7.3,
          7.3,
          7.3,
          7.3,
          7.3,
          7.3,
          7.3,
          7.3,
          7.3,
          7.3,
          7.3,
          7.3,
          7.3,
          7.3,
          7.3,
          7.3,
          7.3,
          7.3,
          7.3,
          7.3,
          7.3,
          7.3,
          7.3,
          7.3,
          7.3,
          7.3,
          7.3,
          7.3,
          7.3,
          7.3,
          7.3,
          7.3,
          7.3,
          7.3,
          7.3,
          7.3,
          7.3,
          7.3,
          7.3,
          7.3,
          7.2,
          7.2,
          7.2,
          7.2,
          7.2,
          7.2,
          7.2,
          7.2,
          7.2,
          7.2,
          7.2,
          7.2,
          7.2,
          7.2,
          7.2,
          7.2,
          7.2,
          7.2,
          7.2,
          7.2,
          7.2,
          7.2,
          7.2,
          7.2,
          7.2,
          7.2,
          7.2,
          7.2,
          7.2,
          7.2,
          7.2,
          7.2,
          7.2,
          7.2,
          7.2,
          7.2,
          7.2,
          7.2,
          7.2,
          7.2,
          7.2,
          7.2,
          7.2,
          7.2,
          7.2,
          7.2,
          7.2,
          7.1,
          7.1,
          7.1,
          7.1,
          7.1,
          7.1,
          7.1,
          7.1,
          7.1,
          7.1,
          7.1,
          7.1,
          7.1,
          7.1,
          7.1,
          7.1,
          7.1,
          7.1,
          7.1,
          7.1,
          7.1,
          7.1,
          7.1,
          7.1,
          7.1,
          7.1,
          7.1,
          7.1,
          7.1,
          7.1,
          7.1,
          7.1,
          7.1,
          7.1,
          7.1,
          7.1,
          7.1,
          7.1,
          7.1,
          7.1,
          7.1,
          7.1,
          7.1,
          7.1,
          7.1,
          7.1,
          7.1,
          7.1,
          7,
          7,
          7,
          7,
          7,
          7,
          7,
          7,
          7,
          7,
          7,
          7,
          7,
          7,
          7,
          7,
          7,
          7,
          7,
          7,
          7,
          7,
          7,
          7,
          7,
          7,
          7,
          7,
          7,
          7,
          7,
          7,
          7,
          7,
          7,
          7,
          7,
          7,
          6.9,
          6.9,
          6.9,
          6.9,
          6.9,
          6.9,
          6.9,
          6.9,
          6.9,
          6.9,
          6.9,
          6.9,
          6.9,
          6.9,
          6.9,
          6.9,
          6.9,
          6.9,
          6.9,
          6.9,
          6.9,
          6.9,
          6.9,
          6.9,
          6.9,
          6.9,
          6.9,
          6.9,
          6.9,
          6.9,
          6.9,
          6.9,
          6.9,
          6.9,
          6.9,
          6.9,
          6.9,
          6.9,
          6.9,
          6.9,
          6.9,
          6.9,
          6.9,
          6.9,
          6.9,
          6.9,
          6.9,
          6.8,
          6.8,
          6.8,
          6.8,
          6.8,
          6.8,
          6.8,
          6.8,
          6.8,
          6.8,
          6.8,
          6.8,
          6.8,
          6.8,
          6.8,
          6.8,
          6.8,
          6.8,
          6.8,
          6.8,
          6.8,
          6.8,
          6.8,
          6.8,
          6.8,
          6.8,
          6.8,
          6.8,
          6.8,
          6.8,
          6.8,
          6.8,
          6.8,
          6.8,
          6.8,
          6.8,
          6.8,
          6.8,
          6.8,
          6.8,
          6.8,
          6.8,
          6.8,
          6.8,
          6.8,
          6.7,
          6.7,
          6.7,
          6.7,
          6.7,
          6.7,
          6.7,
          6.7,
          6.7,
          6.7,
          6.7,
          6.7,
          6.7,
          6.7,
          6.7,
          6.7,
          6.7,
          6.7,
          6.7,
          6.7,
          6.7,
          6.7,
          6.7,
          6.7,
          6.7,
          6.7,
          6.7,
          6.7,
          6.7,
          6.7,
          6.7,
          6.7,
          6.7,
          6.7,
          6.7,
          6.7,
          6.7,
          6.7,
          6.7,
          6.7,
          6.7,
          6.7,
          6.7,
          6.7,
          6.7,
          6.6,
          6.6,
          6.6,
          6.6,
          6.6,
          6.6,
          6.6,
          6.6,
          6.6,
          6.6,
          6.6,
          6.6,
          6.6,
          6.6,
          6.6,
          6.6,
          6.6,
          6.6,
          6.6,
          6.6,
          6.6,
          6.6,
          6.6,
          6.6,
          6.6,
          6.6,
          6.6,
          6.6,
          6.6,
          6.6,
          6.6,
          6.6,
          6.6,
          6.6,
          6.6,
          6.6,
          6.6,
          6.6,
          6.6,
          6.6,
          6.6,
          6.6,
          6.6,
          6.6,
          6.6,
          6.6,
          6.6,
          6.6,
          6.6,
          6.5,
          6.5,
          6.5,
          6.5,
          6.5,
          6.5,
          6.5,
          6.5,
          6.5,
          6.5,
          6.5,
          6.5,
          6.5,
          6.5,
          6.5,
          6.5,
          6.5,
          6.5,
          6.5,
          6.5,
          6.5,
          6.5,
          6.5,
          6.5,
          6.5,
          6.5,
          6.5,
          6.5,
          6.5,
          6.5,
          6.5,
          6.5,
          6.5,
          6.5,
          6.5,
          6.5,
          6.5,
          6.5,
          6.5,
          6.5,
          6.5,
          6.5,
          6.5,
          6.5,
          6.5,
          6.5,
          6.4,
          6.4,
          6.4,
          6.4,
          6.4,
          6.4,
          6.4,
          6.4,
          6.4,
          6.4,
          6.4,
          6.4,
          6.4,
          6.4,
          6.4,
          6.4,
          6.4,
          6.4,
          6.4,
          6.4,
          6.4,
          6.4,
          6.4,
          6.4,
          6.4,
          6.4,
          6.4,
          6.4,
          6.4,
          6.4,
          6.4,
          6.4,
          6.4,
          6.4,
          6.4,
          6.4,
          6.4,
          6.4,
          6.4,
          6.4,
          6.4,
          6.4,
          6.4,
          6.4,
          6.4,
          6.3,
          6.3,
          6.3,
          6.3,
          6.3,
          6.3,
          6.3,
          6.3,
          6.3,
          6.3,
          6.3,
          6.3,
          6.3,
          6.3,
          6.3,
          6.3,
          6.3,
          6.3,
          6.3,
          6.3,
          6.3,
          6.3,
          6.3,
          6.3,
          6.3,
          6.3,
          6.3,
          6.3,
          6.3,
          6.3,
          6.3,
          6.3,
          6.3,
          6.3,
          6.3,
          6.3,
          6.3,
          6.3,
          6.3,
          6.3,
          6.3,
          6.3,
          6.3,
          6.3,
          6.3,
          6.3,
          6.3,
          6.3,
          6.3,
          6.3,
          6.3,
          6.3,
          6.3,
          6.3,
          6.3,
          6.3,
          6.3,
          6.3,
          6.3,
          6.3,
          6.3,
          6.2,
          6.2,
          6.2,
          6.2,
          6.2,
          6.2,
          6.2,
          6.2,
          6.2,
          6.2,
          6.2,
          6.2,
          6.2,
          6.2,
          6.2,
          6.2,
          6.2,
          6.2,
          6.2,
          6.2,
          6.2,
          6.2,
          6.2,
          6.2,
          6.2,
          6.2,
          6.2,
          6.2,
          6.2,
          6.2,
          6.2,
          6.2,
          6.1,
          6.1,
          6.1,
          6.1,
          6.1,
          6.1,
          6.1,
          6.1,
          6.1,
          6.1,
          6.1,
          6.1,
          6.1,
          6.1,
          6.1,
          6.1,
          6.1,
          6.1,
          6.1,
          6.1,
          6.1,
          6.1,
          6.1,
          6.1,
          6.1,
          6.1,
          6.1,
          6.1,
          6.1,
          6.1,
          6.1,
          6.1,
          6.1,
          6.1,
          6.1,
          6.1,
          6.1,
          6,
          6,
          6,
          6,
          6,
          6,
          6,
          6,
          6,
          6,
          6,
          6,
          6,
          6,
          6,
          6,
          6,
          6,
          6,
          6,
          6,
          6,
          6,
          6,
          6,
          6,
          6,
          6,
          6,
          6,
          6,
          6,
          6,
          6,
          5.9,
          5.9,
          5.9,
          5.9,
          5.9,
          5.9,
          5.9,
          5.9,
          5.9,
          5.9,
          5.9,
          5.9,
          5.9,
          5.9,
          5.9,
          5.9,
          5.9,
          5.9,
          5.9,
          5.9,
          5.9,
          5.9,
          5.9,
          5.9,
          5.9,
          5.9,
          5.9,
          5.8,
          5.8,
          5.8,
          5.8,
          5.8,
          5.8,
          5.8,
          5.8,
          5.8,
          5.8,
          5.8,
          5.8,
          5.8,
          5.8,
          5.8,
          5.8,
          5.8,
          5.8,
          5.8,
          5.8,
          5.8,
          5.8,
          5.8,
          5.8,
          5.8,
          5.8,
          5.7,
          5.7,
          5.7,
          5.7,
          5.7,
          5.7,
          5.7,
          5.7,
          5.7,
          5.7,
          5.7,
          5.7,
          5.7,
          5.7,
          5.7,
          5.7,
          5.7,
          5.7,
          5.7,
          5.7,
          5.7,
          5.7,
          5.7,
          5.7,
          5.7,
          5.7,
          5.7,
          5.7,
          5.7,
          5.7,
          5.7,
          5.7,
          5.7,
          5.7,
          5.7,
          5.7,
          5.7,
          5.6,
          5.6,
          5.6,
          5.6,
          5.6,
          5.6,
          5.6,
          5.6,
          5.6,
          5.6,
          5.6,
          5.6,
          5.6,
          5.6,
          5.6,
          5.6,
          5.6,
          5.6,
          5.6,
          5.6,
          5.6,
          5.6,
          5.6,
          5.6,
          5.6,
          5.6,
          5.6,
          5.6,
          5.6,
          5.6,
          5.5,
          5.5,
          5.5,
          5.5,
          5.5,
          5.5,
          5.5,
          5.5,
          5.5,
          5.5,
          5.5,
          5.5,
          5.5,
          5.5,
          5.5,
          5.5,
          5.5,
          5.5,
          5.5,
          5.5,
          5.5,
          5.5,
          5.5,
          5.5,
          5.5,
          5.4,
          5.4,
          5.4,
          5.4,
          5.4,
          5.4,
          5.4,
          5.4,
          5.4,
          5.4,
          5.4,
          5.4,
          5.4,
          5.4,
          5.4,
          5.4,
          5.4,
          5.4,
          5.4,
          5.4,
          5.4,
          5.4,
          5.4,
          5.4,
          5.3,
          5.3,
          5.3,
          5.3,
          5.3,
          5.3,
          5.3,
          5.3,
          5.3,
          5.3,
          5.3,
          5.3,
          5.3,
          5.3,
          5.3,
          5.3,
          5.3,
          5.3,
          5.3,
          5.2,
          5.2,
          5.2,
          5.2,
          5.2,
          5.2,
          5.2,
          5.2,
          5.2,
          5.2,
          5.2,
          5.2,
          5.2,
          5.2,
          5.2,
          5.2,
          5.2,
          5.2,
          5.2,
          5.2,
          5.2,
          5.2,
          5.2,
          5.2,
          5.2,
          5.2,
          5.1,
          5.1,
          5.1,
          5.1,
          5.1,
          5.1,
          5.1,
          5.1,
          5.1,
          5.1,
          5.1,
          5.1,
          5.1,
          5,
          5,
          5,
          5,
          5,
          5,
          5,
          5,
          5,
          5,
          5,
          5,
          5,
          5,
          5,
          4.9,
          4.9,
          4.9,
          4.9,
          4.9,
          4.9,
          4.9,
          4.9,
          4.9,
          4.9,
          4.9,
          4.9,
          4.9,
          4.9,
          4.9,
          4.9,
          4.8,
          4.8,
          4.8,
          4.8,
          4.8,
          4.8,
          4.8,
          4.8,
          4.8,
          4.8,
          4.8,
          4.8,
          4.8,
          4.8,
          4.7,
          4.7,
          4.7,
          4.7,
          4.6,
          4.6,
          4.6,
          4.6,
          4.6,
          4.6,
          4.6,
          4.6,
          4.6,
          4.6,
          4.5,
          4.5,
          4.5,
          4.5,
          4.5,
          4.5,
          4.5,
          4.4,
          4.3,
          4.3,
          4.3,
          4.3,
          4.3,
          4.3,
          4.2,
          4.2,
          4.2,
          4.2,
          4.2,
          4.1,
          4.1,
          4,
          4,
          4,
          4,
          3.9,
          3.9,
          3.8,
          3.8,
          3.7,
          3.6,
          3.6,
          3.5,
          3.4,
          3.2,
          3.1,
          2.8,
          2.6,
          2.5,
          1.6
         ],
         "yaxis": "y"
        }
       ],
       "layout": {
        "legend": {
         "tracegroupgap": 0
        },
        "margin": {
         "t": 60
        },
        "template": {
         "data": {
          "bar": [
           {
            "error_x": {
             "color": "#2a3f5f"
            },
            "error_y": {
             "color": "#2a3f5f"
            },
            "marker": {
             "line": {
              "color": "#E5ECF6",
              "width": 0.5
             },
             "pattern": {
              "fillmode": "overlay",
              "size": 10,
              "solidity": 0.2
             }
            },
            "type": "bar"
           }
          ],
          "barpolar": [
           {
            "marker": {
             "line": {
              "color": "#E5ECF6",
              "width": 0.5
             },
             "pattern": {
              "fillmode": "overlay",
              "size": 10,
              "solidity": 0.2
             }
            },
            "type": "barpolar"
           }
          ],
          "carpet": [
           {
            "aaxis": {
             "endlinecolor": "#2a3f5f",
             "gridcolor": "white",
             "linecolor": "white",
             "minorgridcolor": "white",
             "startlinecolor": "#2a3f5f"
            },
            "baxis": {
             "endlinecolor": "#2a3f5f",
             "gridcolor": "white",
             "linecolor": "white",
             "minorgridcolor": "white",
             "startlinecolor": "#2a3f5f"
            },
            "type": "carpet"
           }
          ],
          "choropleth": [
           {
            "colorbar": {
             "outlinewidth": 0,
             "ticks": ""
            },
            "type": "choropleth"
           }
          ],
          "contour": [
           {
            "colorbar": {
             "outlinewidth": 0,
             "ticks": ""
            },
            "colorscale": [
             [
              0,
              "#0d0887"
             ],
             [
              0.1111111111111111,
              "#46039f"
             ],
             [
              0.2222222222222222,
              "#7201a8"
             ],
             [
              0.3333333333333333,
              "#9c179e"
             ],
             [
              0.4444444444444444,
              "#bd3786"
             ],
             [
              0.5555555555555556,
              "#d8576b"
             ],
             [
              0.6666666666666666,
              "#ed7953"
             ],
             [
              0.7777777777777778,
              "#fb9f3a"
             ],
             [
              0.8888888888888888,
              "#fdca26"
             ],
             [
              1,
              "#f0f921"
             ]
            ],
            "type": "contour"
           }
          ],
          "contourcarpet": [
           {
            "colorbar": {
             "outlinewidth": 0,
             "ticks": ""
            },
            "type": "contourcarpet"
           }
          ],
          "heatmap": [
           {
            "colorbar": {
             "outlinewidth": 0,
             "ticks": ""
            },
            "colorscale": [
             [
              0,
              "#0d0887"
             ],
             [
              0.1111111111111111,
              "#46039f"
             ],
             [
              0.2222222222222222,
              "#7201a8"
             ],
             [
              0.3333333333333333,
              "#9c179e"
             ],
             [
              0.4444444444444444,
              "#bd3786"
             ],
             [
              0.5555555555555556,
              "#d8576b"
             ],
             [
              0.6666666666666666,
              "#ed7953"
             ],
             [
              0.7777777777777778,
              "#fb9f3a"
             ],
             [
              0.8888888888888888,
              "#fdca26"
             ],
             [
              1,
              "#f0f921"
             ]
            ],
            "type": "heatmap"
           }
          ],
          "heatmapgl": [
           {
            "colorbar": {
             "outlinewidth": 0,
             "ticks": ""
            },
            "colorscale": [
             [
              0,
              "#0d0887"
             ],
             [
              0.1111111111111111,
              "#46039f"
             ],
             [
              0.2222222222222222,
              "#7201a8"
             ],
             [
              0.3333333333333333,
              "#9c179e"
             ],
             [
              0.4444444444444444,
              "#bd3786"
             ],
             [
              0.5555555555555556,
              "#d8576b"
             ],
             [
              0.6666666666666666,
              "#ed7953"
             ],
             [
              0.7777777777777778,
              "#fb9f3a"
             ],
             [
              0.8888888888888888,
              "#fdca26"
             ],
             [
              1,
              "#f0f921"
             ]
            ],
            "type": "heatmapgl"
           }
          ],
          "histogram": [
           {
            "marker": {
             "pattern": {
              "fillmode": "overlay",
              "size": 10,
              "solidity": 0.2
             }
            },
            "type": "histogram"
           }
          ],
          "histogram2d": [
           {
            "colorbar": {
             "outlinewidth": 0,
             "ticks": ""
            },
            "colorscale": [
             [
              0,
              "#0d0887"
             ],
             [
              0.1111111111111111,
              "#46039f"
             ],
             [
              0.2222222222222222,
              "#7201a8"
             ],
             [
              0.3333333333333333,
              "#9c179e"
             ],
             [
              0.4444444444444444,
              "#bd3786"
             ],
             [
              0.5555555555555556,
              "#d8576b"
             ],
             [
              0.6666666666666666,
              "#ed7953"
             ],
             [
              0.7777777777777778,
              "#fb9f3a"
             ],
             [
              0.8888888888888888,
              "#fdca26"
             ],
             [
              1,
              "#f0f921"
             ]
            ],
            "type": "histogram2d"
           }
          ],
          "histogram2dcontour": [
           {
            "colorbar": {
             "outlinewidth": 0,
             "ticks": ""
            },
            "colorscale": [
             [
              0,
              "#0d0887"
             ],
             [
              0.1111111111111111,
              "#46039f"
             ],
             [
              0.2222222222222222,
              "#7201a8"
             ],
             [
              0.3333333333333333,
              "#9c179e"
             ],
             [
              0.4444444444444444,
              "#bd3786"
             ],
             [
              0.5555555555555556,
              "#d8576b"
             ],
             [
              0.6666666666666666,
              "#ed7953"
             ],
             [
              0.7777777777777778,
              "#fb9f3a"
             ],
             [
              0.8888888888888888,
              "#fdca26"
             ],
             [
              1,
              "#f0f921"
             ]
            ],
            "type": "histogram2dcontour"
           }
          ],
          "mesh3d": [
           {
            "colorbar": {
             "outlinewidth": 0,
             "ticks": ""
            },
            "type": "mesh3d"
           }
          ],
          "parcoords": [
           {
            "line": {
             "colorbar": {
              "outlinewidth": 0,
              "ticks": ""
             }
            },
            "type": "parcoords"
           }
          ],
          "pie": [
           {
            "automargin": true,
            "type": "pie"
           }
          ],
          "scatter": [
           {
            "marker": {
             "colorbar": {
              "outlinewidth": 0,
              "ticks": ""
             }
            },
            "type": "scatter"
           }
          ],
          "scatter3d": [
           {
            "line": {
             "colorbar": {
              "outlinewidth": 0,
              "ticks": ""
             }
            },
            "marker": {
             "colorbar": {
              "outlinewidth": 0,
              "ticks": ""
             }
            },
            "type": "scatter3d"
           }
          ],
          "scattercarpet": [
           {
            "marker": {
             "colorbar": {
              "outlinewidth": 0,
              "ticks": ""
             }
            },
            "type": "scattercarpet"
           }
          ],
          "scattergeo": [
           {
            "marker": {
             "colorbar": {
              "outlinewidth": 0,
              "ticks": ""
             }
            },
            "type": "scattergeo"
           }
          ],
          "scattergl": [
           {
            "marker": {
             "colorbar": {
              "outlinewidth": 0,
              "ticks": ""
             }
            },
            "type": "scattergl"
           }
          ],
          "scattermapbox": [
           {
            "marker": {
             "colorbar": {
              "outlinewidth": 0,
              "ticks": ""
             }
            },
            "type": "scattermapbox"
           }
          ],
          "scatterpolar": [
           {
            "marker": {
             "colorbar": {
              "outlinewidth": 0,
              "ticks": ""
             }
            },
            "type": "scatterpolar"
           }
          ],
          "scatterpolargl": [
           {
            "marker": {
             "colorbar": {
              "outlinewidth": 0,
              "ticks": ""
             }
            },
            "type": "scatterpolargl"
           }
          ],
          "scatterternary": [
           {
            "marker": {
             "colorbar": {
              "outlinewidth": 0,
              "ticks": ""
             }
            },
            "type": "scatterternary"
           }
          ],
          "surface": [
           {
            "colorbar": {
             "outlinewidth": 0,
             "ticks": ""
            },
            "colorscale": [
             [
              0,
              "#0d0887"
             ],
             [
              0.1111111111111111,
              "#46039f"
             ],
             [
              0.2222222222222222,
              "#7201a8"
             ],
             [
              0.3333333333333333,
              "#9c179e"
             ],
             [
              0.4444444444444444,
              "#bd3786"
             ],
             [
              0.5555555555555556,
              "#d8576b"
             ],
             [
              0.6666666666666666,
              "#ed7953"
             ],
             [
              0.7777777777777778,
              "#fb9f3a"
             ],
             [
              0.8888888888888888,
              "#fdca26"
             ],
             [
              1,
              "#f0f921"
             ]
            ],
            "type": "surface"
           }
          ],
          "table": [
           {
            "cells": {
             "fill": {
              "color": "#EBF0F8"
             },
             "line": {
              "color": "white"
             }
            },
            "header": {
             "fill": {
              "color": "#C8D4E3"
             },
             "line": {
              "color": "white"
             }
            },
            "type": "table"
           }
          ]
         },
         "layout": {
          "annotationdefaults": {
           "arrowcolor": "#2a3f5f",
           "arrowhead": 0,
           "arrowwidth": 1
          },
          "autotypenumbers": "strict",
          "coloraxis": {
           "colorbar": {
            "outlinewidth": 0,
            "ticks": ""
           }
          },
          "colorscale": {
           "diverging": [
            [
             0,
             "#8e0152"
            ],
            [
             0.1,
             "#c51b7d"
            ],
            [
             0.2,
             "#de77ae"
            ],
            [
             0.3,
             "#f1b6da"
            ],
            [
             0.4,
             "#fde0ef"
            ],
            [
             0.5,
             "#f7f7f7"
            ],
            [
             0.6,
             "#e6f5d0"
            ],
            [
             0.7,
             "#b8e186"
            ],
            [
             0.8,
             "#7fbc41"
            ],
            [
             0.9,
             "#4d9221"
            ],
            [
             1,
             "#276419"
            ]
           ],
           "sequential": [
            [
             0,
             "#0d0887"
            ],
            [
             0.1111111111111111,
             "#46039f"
            ],
            [
             0.2222222222222222,
             "#7201a8"
            ],
            [
             0.3333333333333333,
             "#9c179e"
            ],
            [
             0.4444444444444444,
             "#bd3786"
            ],
            [
             0.5555555555555556,
             "#d8576b"
            ],
            [
             0.6666666666666666,
             "#ed7953"
            ],
            [
             0.7777777777777778,
             "#fb9f3a"
            ],
            [
             0.8888888888888888,
             "#fdca26"
            ],
            [
             1,
             "#f0f921"
            ]
           ],
           "sequentialminus": [
            [
             0,
             "#0d0887"
            ],
            [
             0.1111111111111111,
             "#46039f"
            ],
            [
             0.2222222222222222,
             "#7201a8"
            ],
            [
             0.3333333333333333,
             "#9c179e"
            ],
            [
             0.4444444444444444,
             "#bd3786"
            ],
            [
             0.5555555555555556,
             "#d8576b"
            ],
            [
             0.6666666666666666,
             "#ed7953"
            ],
            [
             0.7777777777777778,
             "#fb9f3a"
            ],
            [
             0.8888888888888888,
             "#fdca26"
            ],
            [
             1,
             "#f0f921"
            ]
           ]
          },
          "colorway": [
           "#636efa",
           "#EF553B",
           "#00cc96",
           "#ab63fa",
           "#FFA15A",
           "#19d3f3",
           "#FF6692",
           "#B6E880",
           "#FF97FF",
           "#FECB52"
          ],
          "font": {
           "color": "#2a3f5f"
          },
          "geo": {
           "bgcolor": "white",
           "lakecolor": "white",
           "landcolor": "#E5ECF6",
           "showlakes": true,
           "showland": true,
           "subunitcolor": "white"
          },
          "hoverlabel": {
           "align": "left"
          },
          "hovermode": "closest",
          "mapbox": {
           "style": "light"
          },
          "paper_bgcolor": "white",
          "plot_bgcolor": "#E5ECF6",
          "polar": {
           "angularaxis": {
            "gridcolor": "white",
            "linecolor": "white",
            "ticks": ""
           },
           "bgcolor": "#E5ECF6",
           "radialaxis": {
            "gridcolor": "white",
            "linecolor": "white",
            "ticks": ""
           }
          },
          "scene": {
           "xaxis": {
            "backgroundcolor": "#E5ECF6",
            "gridcolor": "white",
            "gridwidth": 2,
            "linecolor": "white",
            "showbackground": true,
            "ticks": "",
            "zerolinecolor": "white"
           },
           "yaxis": {
            "backgroundcolor": "#E5ECF6",
            "gridcolor": "white",
            "gridwidth": 2,
            "linecolor": "white",
            "showbackground": true,
            "ticks": "",
            "zerolinecolor": "white"
           },
           "zaxis": {
            "backgroundcolor": "#E5ECF6",
            "gridcolor": "white",
            "gridwidth": 2,
            "linecolor": "white",
            "showbackground": true,
            "ticks": "",
            "zerolinecolor": "white"
           }
          },
          "shapedefaults": {
           "line": {
            "color": "#2a3f5f"
           }
          },
          "ternary": {
           "aaxis": {
            "gridcolor": "white",
            "linecolor": "white",
            "ticks": ""
           },
           "baxis": {
            "gridcolor": "white",
            "linecolor": "white",
            "ticks": ""
           },
           "bgcolor": "#E5ECF6",
           "caxis": {
            "gridcolor": "white",
            "linecolor": "white",
            "ticks": ""
           }
          },
          "title": {
           "x": 0.05
          },
          "xaxis": {
           "automargin": true,
           "gridcolor": "white",
           "linecolor": "white",
           "ticks": "",
           "title": {
            "standoff": 15
           },
           "zerolinecolor": "white",
           "zerolinewidth": 2
          },
          "yaxis": {
           "automargin": true,
           "gridcolor": "white",
           "linecolor": "white",
           "ticks": "",
           "title": {
            "standoff": 15
           },
           "zerolinecolor": "white",
           "zerolinewidth": 2
          }
         }
        },
        "title": {
         "text": "Relationship between Number of People in the Cast and IMDB Score"
        },
        "xaxis": {
         "anchor": "y",
         "domain": [
          0,
          1
         ],
         "title": {
          "text": "Number of People in the Cast"
         }
        },
        "yaxis": {
         "anchor": "x",
         "domain": [
          0,
          1
         ],
         "title": {
          "text": "IMDB Score"
         }
        }
       }
      }
     },
     "metadata": {},
     "output_type": "display_data"
    }
   ],
   "source": [
    "#Creating a scatterplot based on analysed_data with Number of People in the Cast on x-axis and IMDB score on y-axis. Adding trendline and hover data (title) for better readability.\n",
    "fig_cast_imdb = px.scatter(analysed_data, x='Number of People in the Cast', y='IMDB Score', hover_data=['title'])\n",
    "\n",
    "fig_cast_imdb.update_traces(marker=dict(size=12, line=dict(width=2, color='DarkSlateGrey')))\n",
    "fig_cast_imdb.update_layout(title='Relationship between Number of People in the Cast and IMDB Score',\n",
    "                            xaxis_title='Number of People in the Cast', yaxis_title='IMDB Score')\n",
    "fig_cast_imdb.show()"
   ]
  }
 ],
 "metadata": {
  "kernelspec": {
   "display_name": "Python 3",
   "language": "python",
   "name": "python3"
  },
  "language_info": {
   "codemirror_mode": {
    "name": "ipython",
    "version": 3
   },
   "file_extension": ".py",
   "mimetype": "text/x-python",
   "name": "python",
   "nbconvert_exporter": "python",
   "pygments_lexer": "ipython3",
   "version": "3.9.7"
  },
  "orig_nbformat": 4,
  "vscode": {
   "interpreter": {
    "hash": "11938c6bc6919ae2720b4d5011047913343b08a43b18698fd82dedb0d4417594"
   }
  }
 },
 "nbformat": 4,
 "nbformat_minor": 2
}
